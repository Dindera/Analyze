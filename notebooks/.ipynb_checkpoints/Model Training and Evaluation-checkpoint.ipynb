{
 "cells": [
  {
   "cell_type": "code",
   "execution_count": 1,
   "id": "9781c172",
   "metadata": {},
   "outputs": [],
   "source": [
    "import pyspark\n",
    "import pandas as pd\n",
    "import numpy as np\n",
    "import matplotlib.pyplot as plt\n",
    "import seaborn as sns\n",
    "import pyspark.sql.functions as fn\n",
    "from scipy.stats import mode\n",
    "from pyspark.sql import SparkSession\n",
    "from pyspark.ml.stat import Correlation\n",
    "from pyspark.sql.functions import count, col\n",
    "from pyspark.sql.types import FloatType, DoubleType, DecimalType\n",
    "import warnings\n",
    "import os"
   ]
  },
  {
   "cell_type": "markdown",
   "id": "4b91c91b",
   "metadata": {},
   "source": [
    "# Start A Spark Session"
   ]
  },
  {
   "cell_type": "code",
   "execution_count": 2,
   "id": "4bc55248",
   "metadata": {},
   "outputs": [
    {
     "name": "stderr",
     "output_type": "stream",
     "text": [
      "WARNING: An illegal reflective access operation has occurred\n",
      "WARNING: Illegal reflective access by org.apache.spark.unsafe.Platform (file:/usr/local/spark-3.2.0-bin-hadoop3.2/jars/spark-unsafe_2.12-3.2.0.jar) to constructor java.nio.DirectByteBuffer(long,int)\n",
      "WARNING: Please consider reporting this to the maintainers of org.apache.spark.unsafe.Platform\n",
      "WARNING: Use --illegal-access=warn to enable warnings of further illegal reflective access operations\n",
      "WARNING: All illegal access operations will be denied in a future release\n",
      "21/11/27 05:22:51 WARN NativeCodeLoader: Unable to load native-hadoop library for your platform... using builtin-java classes where applicable\n",
      "Using Spark's default log4j profile: org/apache/spark/log4j-defaults.properties\n",
      "Setting default log level to \"WARN\".\n",
      "To adjust logging level use sc.setLogLevel(newLevel). For SparkR, use setLogLevel(newLevel).\n"
     ]
    }
   ],
   "source": [
    "# Initialise a sparksession with Hive Store Support\n",
    "warnings.filterwarnings('ignore')\n",
    "\n",
    "\n",
    "spark = SparkSession.builder \\\n",
    "        .master('local[4]')\\\n",
    "        .enableHiveSupport()\\\n",
    "        .appName('Research_Notebook')\\\n",
    "        .config('spark.driver.memory','16G') \\\n",
    "        .config('spark.executor.memory','16G') \\\n",
    "        .config('spark.eventLog.enabled', False)\\\n",
    "        .config('spark.sql.execution.arrow.pyspark.enabled', True) \\\n",
    "        .config('spark.ui.showConsoleProgress', True) \\\n",
    "        .config('spark.sql.repl.eagerEval.enabled', True) \\\n",
    "        .config('spark.jars', '/home/jovyan/work/Downloads/spark-bigquery-with-dependencies_2.12-0.22.0.jar') \\\n",
    "        .getOrCreate()"
   ]
  },
  {
   "cell_type": "code",
   "execution_count": 3,
   "id": "627215a6",
   "metadata": {},
   "outputs": [
    {
     "data": {
      "text/html": [
       "\n",
       "            <div>\n",
       "                <p><b>SparkSession - hive</b></p>\n",
       "                \n",
       "        <div>\n",
       "            <p><b>SparkContext</b></p>\n",
       "\n",
       "            <p><a href=\"http://772571afb41c:4040\">Spark UI</a></p>\n",
       "\n",
       "            <dl>\n",
       "              <dt>Version</dt>\n",
       "                <dd><code>v3.2.0</code></dd>\n",
       "              <dt>Master</dt>\n",
       "                <dd><code>local[4]</code></dd>\n",
       "              <dt>AppName</dt>\n",
       "                <dd><code>Research_Notebook</code></dd>\n",
       "            </dl>\n",
       "        </div>\n",
       "        \n",
       "            </div>\n",
       "        "
      ],
      "text/plain": [
       "<pyspark.sql.session.SparkSession at 0x7f7b5811d550>"
      ]
     },
     "execution_count": 3,
     "metadata": {},
     "output_type": "execute_result"
    }
   ],
   "source": [
    "spark"
   ]
  },
  {
   "cell_type": "code",
   "execution_count": 3,
   "id": "ec799b97",
   "metadata": {},
   "outputs": [
    {
     "name": "stderr",
     "output_type": "stream",
     "text": [
      "21/11/27 05:23:05 WARN HiveConf: HiveConf of name hive.stats.jdbc.timeout does not exist\n",
      "21/11/27 05:23:05 WARN HiveConf: HiveConf of name hive.stats.retries.wait does not exist\n",
      "21/11/27 05:23:16 WARN ObjectStore: Version information not found in metastore. hive.metastore.schema.verification is not enabled so recording the schema version 2.3.0\n",
      "21/11/27 05:23:16 WARN ObjectStore: setMetaStoreSchemaVersion called but recording version is disabled: version = 2.3.0, comment = Set by MetaStore UNKNOWN@172.18.0.2\n",
      "21/11/27 05:23:17 WARN ObjectStore: Failed to get database global_temp, returning NoSuchObjectException\n"
     ]
    },
    {
     "data": {
      "text/html": [
       "<table border='1'>\n",
       "<tr><th></th></tr>\n",
       "</table>\n"
      ],
      "text/plain": [
       "++\n",
       "||\n",
       "++\n",
       "++"
      ]
     },
     "execution_count": 3,
     "metadata": {},
     "output_type": "execute_result"
    }
   ],
   "source": [
    "# Ensure ecommerce_logs database is selected\n",
    "\n",
    "spark.sql(\"use ecommerce_logs\")"
   ]
  },
  {
   "cell_type": "code",
   "execution_count": 4,
   "id": "1e44ace7",
   "metadata": {},
   "outputs": [],
   "source": [
    "spark.catalog.clearCache()"
   ]
  },
  {
   "cell_type": "markdown",
   "id": "a272b579",
   "metadata": {},
   "source": [
    "# Load and save data from Bigquery table"
   ]
  },
  {
   "cell_type": "code",
   "execution_count": 9,
   "id": "c3fdfcfd",
   "metadata": {},
   "outputs": [],
   "source": [
    "def load_data():\n",
    "    df = spark.read.format('bigquery') \\\n",
    "        .option(\"credentialsFile\", \"/home/jovyan/work/my-project-55555-327612-b044a507aca8.json\")\\\n",
    "        .option('parentProject','my-project-55555-327612') \\\n",
    "        .option('table', 'my-project-55555-327612.Research_data.dataset')\\\n",
    "        .load()\n",
    "    \n",
    "    return df    \n",
    "df = load_data()"
   ]
  },
  {
   "cell_type": "code",
   "execution_count": 10,
   "id": "2bc2c2c9",
   "metadata": {},
   "outputs": [
    {
     "name": "stdout",
     "output_type": "stream",
     "text": [
      "root\n",
      " |-- fullVisitorId: string (nullable = true)\n",
      " |-- visitId: long (nullable = true)\n",
      " |-- visitStartTime: long (nullable = true)\n",
      " |-- date: string (nullable = true)\n",
      " |-- bounceRate: double (nullable = true)\n",
      " |-- userConversionRate: double (nullable = true)\n",
      " |-- usersRevenue: double (nullable = true)\n",
      " |-- sessionQualityDim: long (nullable = true)\n",
      " |-- dailyVisits: long (nullable = true)\n",
      " |-- transactions: long (nullable = true)\n",
      " |-- pageviews: long (nullable = true)\n",
      " |-- hits: long (nullable = true)\n",
      " |-- timeOnSite: long (nullable = true)\n",
      " |-- action_type: string (nullable = true)\n",
      " |-- browser: string (nullable = true)\n",
      " |-- productListPosition: long (nullable = true)\n",
      " |-- productPrice: double (nullable = true)\n",
      " |-- v2ProductName: string (nullable = true)\n",
      " |-- productClicksCount: long (nullable = true)\n",
      " |-- month: long (nullable = true)\n",
      " |-- target: long (nullable = true)\n",
      "\n"
     ]
    }
   ],
   "source": [
    "df.printSchema()"
   ]
  },
  {
   "cell_type": "code",
   "execution_count": 11,
   "id": "24f3a163",
   "metadata": {},
   "outputs": [
    {
     "name": "stderr",
     "output_type": "stream",
     "text": [
      "                                                                                \r"
     ]
    },
    {
     "data": {
      "text/html": [
       "<div>\n",
       "<style scoped>\n",
       "    .dataframe tbody tr th:only-of-type {\n",
       "        vertical-align: middle;\n",
       "    }\n",
       "\n",
       "    .dataframe tbody tr th {\n",
       "        vertical-align: top;\n",
       "    }\n",
       "\n",
       "    .dataframe thead th {\n",
       "        text-align: right;\n",
       "    }\n",
       "</style>\n",
       "<table border=\"1\" class=\"dataframe\">\n",
       "  <thead>\n",
       "    <tr style=\"text-align: right;\">\n",
       "      <th></th>\n",
       "      <th>fullVisitorId</th>\n",
       "      <th>visitId</th>\n",
       "      <th>visitStartTime</th>\n",
       "      <th>date</th>\n",
       "      <th>bounceRate</th>\n",
       "      <th>userConversionRate</th>\n",
       "      <th>usersRevenue</th>\n",
       "      <th>sessionQualityDim</th>\n",
       "      <th>dailyVisits</th>\n",
       "      <th>transactions</th>\n",
       "      <th>...</th>\n",
       "      <th>hits</th>\n",
       "      <th>timeOnSite</th>\n",
       "      <th>action_type</th>\n",
       "      <th>browser</th>\n",
       "      <th>productListPosition</th>\n",
       "      <th>productPrice</th>\n",
       "      <th>v2ProductName</th>\n",
       "      <th>productClicksCount</th>\n",
       "      <th>month</th>\n",
       "      <th>target</th>\n",
       "    </tr>\n",
       "  </thead>\n",
       "  <tbody>\n",
       "    <tr>\n",
       "      <th>0</th>\n",
       "      <td>112634254987821526</td>\n",
       "      <td>1490431206</td>\n",
       "      <td>1490431206</td>\n",
       "      <td>20170325</td>\n",
       "      <td>NaN</td>\n",
       "      <td>NaN</td>\n",
       "      <td>NaN</td>\n",
       "      <td>NaN</td>\n",
       "      <td>1</td>\n",
       "      <td>NaN</td>\n",
       "      <td>...</td>\n",
       "      <td>36</td>\n",
       "      <td>688</td>\n",
       "      <td>0</td>\n",
       "      <td>Chrome</td>\n",
       "      <td>9</td>\n",
       "      <td>10.99</td>\n",
       "      <td>Android Twill Cap</td>\n",
       "      <td>0</td>\n",
       "      <td>3</td>\n",
       "      <td>NaN</td>\n",
       "    </tr>\n",
       "    <tr>\n",
       "      <th>1</th>\n",
       "      <td>519808012887792629</td>\n",
       "      <td>1490456843</td>\n",
       "      <td>1490456843</td>\n",
       "      <td>20170325</td>\n",
       "      <td>NaN</td>\n",
       "      <td>NaN</td>\n",
       "      <td>NaN</td>\n",
       "      <td>NaN</td>\n",
       "      <td>1</td>\n",
       "      <td>NaN</td>\n",
       "      <td>...</td>\n",
       "      <td>20</td>\n",
       "      <td>1344</td>\n",
       "      <td>0</td>\n",
       "      <td>Chrome</td>\n",
       "      <td>4</td>\n",
       "      <td>17.99</td>\n",
       "      <td>Android Lunch Kit</td>\n",
       "      <td>0</td>\n",
       "      <td>3</td>\n",
       "      <td>NaN</td>\n",
       "    </tr>\n",
       "    <tr>\n",
       "      <th>2</th>\n",
       "      <td>9195083470481203141</td>\n",
       "      <td>1490460247</td>\n",
       "      <td>1490460247</td>\n",
       "      <td>20170325</td>\n",
       "      <td>NaN</td>\n",
       "      <td>NaN</td>\n",
       "      <td>NaN</td>\n",
       "      <td>NaN</td>\n",
       "      <td>1</td>\n",
       "      <td>NaN</td>\n",
       "      <td>...</td>\n",
       "      <td>4</td>\n",
       "      <td>54</td>\n",
       "      <td>0</td>\n",
       "      <td>Safari</td>\n",
       "      <td>2</td>\n",
       "      <td>4.50</td>\n",
       "      <td>Fashion Sunglasses &amp; Pouch</td>\n",
       "      <td>0</td>\n",
       "      <td>3</td>\n",
       "      <td>NaN</td>\n",
       "    </tr>\n",
       "  </tbody>\n",
       "</table>\n",
       "<p>3 rows × 21 columns</p>\n",
       "</div>"
      ],
      "text/plain": [
       "         fullVisitorId     visitId  visitStartTime      date  bounceRate  \\\n",
       "0   112634254987821526  1490431206      1490431206  20170325         NaN   \n",
       "1   519808012887792629  1490456843      1490456843  20170325         NaN   \n",
       "2  9195083470481203141  1490460247      1490460247  20170325         NaN   \n",
       "\n",
       "   userConversionRate  usersRevenue  sessionQualityDim  dailyVisits  \\\n",
       "0                 NaN           NaN                NaN            1   \n",
       "1                 NaN           NaN                NaN            1   \n",
       "2                 NaN           NaN                NaN            1   \n",
       "\n",
       "   transactions  ...  hits  timeOnSite  action_type browser  \\\n",
       "0           NaN  ...    36         688            0  Chrome   \n",
       "1           NaN  ...    20        1344            0  Chrome   \n",
       "2           NaN  ...     4          54            0  Safari   \n",
       "\n",
       "  productListPosition  productPrice               v2ProductName  \\\n",
       "0                   9         10.99           Android Twill Cap   \n",
       "1                   4         17.99           Android Lunch Kit   \n",
       "2                   2          4.50  Fashion Sunglasses & Pouch   \n",
       "\n",
       "  productClicksCount  month  target  \n",
       "0                  0      3     NaN  \n",
       "1                  0      3     NaN  \n",
       "2                  0      3     NaN  \n",
       "\n",
       "[3 rows x 21 columns]"
      ]
     },
     "execution_count": 11,
     "metadata": {},
     "output_type": "execute_result"
    }
   ],
   "source": [
    "df.limit(3).toPandas()"
   ]
  },
  {
   "cell_type": "code",
   "execution_count": 12,
   "id": "2d36e297",
   "metadata": {},
   "outputs": [
    {
     "name": "stderr",
     "output_type": "stream",
     "text": [
      "21/11/26 19:30:24 WARN SessionState: METASTORE_FILTER_HOOK will be ignored, since hive.security.authorization.manager is set to instance of HiveAuthorizerFactory.\n",
      "21/11/26 19:30:24 WARN HiveConf: HiveConf of name hive.internal.ss.authz.settings.applied.marker does not exist\n",
      "21/11/26 19:30:24 WARN HiveConf: HiveConf of name hive.stats.jdbc.timeout does not exist\n",
      "21/11/26 19:30:24 WARN HiveConf: HiveConf of name hive.stats.retries.wait does not exist\n"
     ]
    }
   ],
   "source": [
    "df.write.format(\"ORC\").saveAsTable(\"db_researchData\")"
   ]
  },
  {
   "cell_type": "markdown",
   "id": "a798265f",
   "metadata": {},
   "source": [
    "# Exploratory Data Analysis"
   ]
  },
  {
   "cell_type": "code",
   "execution_count": null,
   "id": "afe33b85",
   "metadata": {},
   "outputs": [],
   "source": []
  },
  {
   "cell_type": "code",
   "execution_count": null,
   "id": "a0725015",
   "metadata": {},
   "outputs": [],
   "source": []
  },
  {
   "cell_type": "code",
   "execution_count": 34,
   "id": "647935f3",
   "metadata": {},
   "outputs": [
    {
     "name": "stderr",
     "output_type": "stream",
     "text": [
      "                                                                                \r"
     ]
    },
    {
     "data": {
      "text/html": [
       "<div>\n",
       "<style scoped>\n",
       "    .dataframe tbody tr th:only-of-type {\n",
       "        vertical-align: middle;\n",
       "    }\n",
       "\n",
       "    .dataframe tbody tr th {\n",
       "        vertical-align: top;\n",
       "    }\n",
       "\n",
       "    .dataframe thead th {\n",
       "        text-align: right;\n",
       "    }\n",
       "</style>\n",
       "<table border=\"1\" class=\"dataframe\">\n",
       "  <thead>\n",
       "    <tr style=\"text-align: right;\">\n",
       "      <th></th>\n",
       "      <th>products</th>\n",
       "      <th>views</th>\n",
       "      <th>action_type</th>\n",
       "    </tr>\n",
       "  </thead>\n",
       "  <tbody>\n",
       "    <tr>\n",
       "      <th>0</th>\n",
       "      <td>YouTube Twill Cap</td>\n",
       "      <td>113883</td>\n",
       "      <td>0</td>\n",
       "    </tr>\n",
       "    <tr>\n",
       "      <th>1</th>\n",
       "      <td>22 oz YouTube Bottle Infuser</td>\n",
       "      <td>107979</td>\n",
       "      <td>0</td>\n",
       "    </tr>\n",
       "    <tr>\n",
       "      <th>2</th>\n",
       "      <td>YouTube Custom Decals</td>\n",
       "      <td>98990</td>\n",
       "      <td>0</td>\n",
       "    </tr>\n",
       "    <tr>\n",
       "      <th>3</th>\n",
       "      <td>Google Men's 100% Cotton Short Sleeve Hero Tee...</td>\n",
       "      <td>93322</td>\n",
       "      <td>0</td>\n",
       "    </tr>\n",
       "    <tr>\n",
       "      <th>4</th>\n",
       "      <td>YouTube Hard Cover Journal</td>\n",
       "      <td>91290</td>\n",
       "      <td>0</td>\n",
       "    </tr>\n",
       "    <tr>\n",
       "      <th>5</th>\n",
       "      <td>YouTube RFID Journal</td>\n",
       "      <td>84876</td>\n",
       "      <td>0</td>\n",
       "    </tr>\n",
       "    <tr>\n",
       "      <th>6</th>\n",
       "      <td>YouTube Leatherette Notebook Combo</td>\n",
       "      <td>82769</td>\n",
       "      <td>0</td>\n",
       "    </tr>\n",
       "    <tr>\n",
       "      <th>7</th>\n",
       "      <td>YouTube Wool Heather Cap Heather/Black</td>\n",
       "      <td>78504</td>\n",
       "      <td>0</td>\n",
       "    </tr>\n",
       "    <tr>\n",
       "      <th>8</th>\n",
       "      <td>YouTube Luggage Tag</td>\n",
       "      <td>74238</td>\n",
       "      <td>0</td>\n",
       "    </tr>\n",
       "    <tr>\n",
       "      <th>9</th>\n",
       "      <td>YouTube Men's Vintage Henley</td>\n",
       "      <td>69443</td>\n",
       "      <td>0</td>\n",
       "    </tr>\n",
       "  </tbody>\n",
       "</table>\n",
       "</div>"
      ],
      "text/plain": [
       "                                            products   views action_type\n",
       "0                                  YouTube Twill Cap  113883           0\n",
       "1                       22 oz YouTube Bottle Infuser  107979           0\n",
       "2                              YouTube Custom Decals   98990           0\n",
       "3  Google Men's 100% Cotton Short Sleeve Hero Tee...   93322           0\n",
       "4                         YouTube Hard Cover Journal   91290           0\n",
       "5                               YouTube RFID Journal   84876           0\n",
       "6                 YouTube Leatherette Notebook Combo   82769           0\n",
       "7             YouTube Wool Heather Cap Heather/Black   78504           0\n",
       "8                                YouTube Luggage Tag   74238           0\n",
       "9                       YouTube Men's Vintage Henley   69443           0"
      ]
     },
     "execution_count": 34,
     "metadata": {},
     "output_type": "execute_result"
    }
   ],
   "source": [
    "# Popular products according to views\n",
    "\n",
    "sql = \"\"\"\n",
    "        SELECT\n",
    "          v2productName AS products,\n",
    "          COUNT(*) AS views,\n",
    "          action_type\n",
    "        FROM\n",
    "          db_researchData\n",
    "        GROUP BY\n",
    "          action_type,\n",
    "          v2productName\n",
    "        ORDER BY\n",
    "          views DESC\n",
    "        LIMIT\n",
    "          10\n",
    "      \"\"\"\n",
    "\n",
    "products_views = spark.sql(sql).toPandas()\n",
    "products_views"
   ]
  },
  {
   "cell_type": "code",
   "execution_count": 36,
   "id": "f996bed8",
   "metadata": {},
   "outputs": [
    {
     "data": {
      "image/png": "[encoded data removed]",
      "text/plain": [
       "<Figure size 1152x576 with 1 Axes>"
      ]
     },
     "metadata": {
      "needs_background": "light"
     },
     "output_type": "display_data"
    }
   ],
   "source": [
    "products_views_df = pd.DataFrame(products_views)\n",
    "products_views_df.set_index('products')\n",
    "color = ['crimson']\n",
    "\n",
    "products_views_plot = products_views_df.plot(figsize = (16, 8), kind='barh', x=\"products\", y=\"views\", color=color)\n",
    "plt.xlabel(\"Complete Views\", fontsize = 16)\n",
    "plt.ylabel(\"Products\", fontsize = 16)\n",
    "plt.title(\"Top 10 Products With Complete Views\", fontsize = 20, color = 'k')\n",
    "plt.xticks(size = 14)\n",
    "plt.yticks(size = 14)\n",
    "plt.show()"
   ]
  },
  {
   "cell_type": "code",
   "execution_count": 31,
   "id": "07283c56",
   "metadata": {},
   "outputs": [
    {
     "data": {
      "text/html": [
       "<div>\n",
       "<style scoped>\n",
       "    .dataframe tbody tr th:only-of-type {\n",
       "        vertical-align: middle;\n",
       "    }\n",
       "\n",
       "    .dataframe tbody tr th {\n",
       "        vertical-align: top;\n",
       "    }\n",
       "\n",
       "    .dataframe thead th {\n",
       "        text-align: right;\n",
       "    }\n",
       "</style>\n",
       "<table border=\"1\" class=\"dataframe\">\n",
       "  <thead>\n",
       "    <tr style=\"text-align: right;\">\n",
       "      <th></th>\n",
       "      <th>products</th>\n",
       "      <th>complete_transactions</th>\n",
       "      <th>action_type</th>\n",
       "    </tr>\n",
       "  </thead>\n",
       "  <tbody>\n",
       "    <tr>\n",
       "      <th>0</th>\n",
       "      <td>Google Laptop and Cell Phone Stickers</td>\n",
       "      <td>390</td>\n",
       "      <td>6</td>\n",
       "    </tr>\n",
       "    <tr>\n",
       "      <th>1</th>\n",
       "      <td>Google Sunglasses</td>\n",
       "      <td>358</td>\n",
       "      <td>6</td>\n",
       "    </tr>\n",
       "    <tr>\n",
       "      <th>2</th>\n",
       "      <td>Google 22 oz Water Bottle</td>\n",
       "      <td>347</td>\n",
       "      <td>6</td>\n",
       "    </tr>\n",
       "    <tr>\n",
       "      <th>3</th>\n",
       "      <td>Google Men's 100% Cotton Short Sleeve Hero Tee...</td>\n",
       "      <td>322</td>\n",
       "      <td>6</td>\n",
       "    </tr>\n",
       "    <tr>\n",
       "      <th>4</th>\n",
       "      <td>Google Men's 100% Cotton Short Sleeve Hero Tee...</td>\n",
       "      <td>317</td>\n",
       "      <td>6</td>\n",
       "    </tr>\n",
       "    <tr>\n",
       "      <th>5</th>\n",
       "      <td>BLM Sweatshirt</td>\n",
       "      <td>315</td>\n",
       "      <td>6</td>\n",
       "    </tr>\n",
       "    <tr>\n",
       "      <th>6</th>\n",
       "      <td>Google Men's Vintage Badge Tee Black</td>\n",
       "      <td>297</td>\n",
       "      <td>6</td>\n",
       "    </tr>\n",
       "    <tr>\n",
       "      <th>7</th>\n",
       "      <td>Google Men's Bike Short Sleeve Tee Charcoal</td>\n",
       "      <td>274</td>\n",
       "      <td>6</td>\n",
       "    </tr>\n",
       "    <tr>\n",
       "      <th>8</th>\n",
       "      <td>Google Men's 100% Cotton Short Sleeve Hero Tee...</td>\n",
       "      <td>247</td>\n",
       "      <td>6</td>\n",
       "    </tr>\n",
       "    <tr>\n",
       "      <th>9</th>\n",
       "      <td>Google Men's  Zip Hoodie</td>\n",
       "      <td>232</td>\n",
       "      <td>6</td>\n",
       "    </tr>\n",
       "  </tbody>\n",
       "</table>\n",
       "</div>"
      ],
      "text/plain": [
       "                                            products  complete_transactions  \\\n",
       "0              Google Laptop and Cell Phone Stickers                    390   \n",
       "1                                  Google Sunglasses                    358   \n",
       "2                          Google 22 oz Water Bottle                    347   \n",
       "3  Google Men's 100% Cotton Short Sleeve Hero Tee...                    322   \n",
       "4  Google Men's 100% Cotton Short Sleeve Hero Tee...                    317   \n",
       "5                                     BLM Sweatshirt                    315   \n",
       "6               Google Men's Vintage Badge Tee Black                    297   \n",
       "7        Google Men's Bike Short Sleeve Tee Charcoal                    274   \n",
       "8  Google Men's 100% Cotton Short Sleeve Hero Tee...                    247   \n",
       "9                           Google Men's  Zip Hoodie                    232   \n",
       "\n",
       "  action_type  \n",
       "0           6  \n",
       "1           6  \n",
       "2           6  \n",
       "3           6  \n",
       "4           6  \n",
       "5           6  \n",
       "6           6  \n",
       "7           6  \n",
       "8           6  \n",
       "9           6  "
      ]
     },
     "execution_count": 31,
     "metadata": {},
     "output_type": "execute_result"
    }
   ],
   "source": [
    "# Analyse and compare action type with products and transactions\n",
    "\n",
    "sql = \"\"\"\n",
    "        SELECT\n",
    "          v2productName AS products,\n",
    "          SUM(transactions) AS complete_transactions,\n",
    "          action_type\n",
    "        FROM\n",
    "          db_researchData\n",
    "        WHERE\n",
    "          action_type = 6\n",
    "        GROUP BY\n",
    "          action_type,\n",
    "          v2productName\n",
    "        ORDER BY\n",
    "          complete_transactions DESC\n",
    "        LIMIT\n",
    "          10\n",
    "      \"\"\"\n",
    "\n",
    "products_transactions = spark.sql(sql).toPandas()\n",
    "products_transactions"
   ]
  },
  {
   "cell_type": "code",
   "execution_count": 32,
   "id": "18088889",
   "metadata": {},
   "outputs": [
    {
     "data": {
      "image/png": "[encoded data removed]",
      "text/plain": [
       "<Figure size 1152x576 with 1 Axes>"
      ]
     },
     "metadata": {
      "needs_background": "light"
     },
     "output_type": "display_data"
    }
   ],
   "source": [
    "products_transactions_df = pd.DataFrame(products_transactions)\n",
    "products_transactions_df.set_index('products')\n",
    "color = ['darkcyan']\n",
    "\n",
    "products_transactions_plot = products_transactions_df.plot(figsize = (16, 8), kind='barh', x=\"products\", y=\"complete_transactions\", color=color)\n",
    "plt.xlabel(\"Complete Transactions\", fontsize = 16)\n",
    "plt.ylabel(\"Products\", fontsize = 16)\n",
    "plt.title(\"Top 10 Products With Complete Transactions\", fontsize = 20, color = 'k')\n",
    "plt.xticks(size = 14)\n",
    "plt.yticks(size = 14)\n",
    "plt.show()"
   ]
  },
  {
   "cell_type": "code",
   "execution_count": 22,
   "id": "3f046bb4",
   "metadata": {},
   "outputs": [
    {
     "name": "stderr",
     "output_type": "stream",
     "text": [
      "                                                                                \r"
     ]
    },
    {
     "data": {
      "text/html": [
       "<div>\n",
       "<style scoped>\n",
       "    .dataframe tbody tr th:only-of-type {\n",
       "        vertical-align: middle;\n",
       "    }\n",
       "\n",
       "    .dataframe tbody tr th {\n",
       "        vertical-align: top;\n",
       "    }\n",
       "\n",
       "    .dataframe thead th {\n",
       "        text-align: right;\n",
       "    }\n",
       "</style>\n",
       "<table border=\"1\" class=\"dataframe\">\n",
       "  <thead>\n",
       "    <tr style=\"text-align: right;\">\n",
       "      <th></th>\n",
       "      <th>browser</th>\n",
       "      <th>views</th>\n",
       "    </tr>\n",
       "  </thead>\n",
       "  <tbody>\n",
       "    <tr>\n",
       "      <th>0</th>\n",
       "      <td>Chrome</td>\n",
       "      <td>4729562</td>\n",
       "    </tr>\n",
       "    <tr>\n",
       "      <th>1</th>\n",
       "      <td>Safari</td>\n",
       "      <td>1047059</td>\n",
       "    </tr>\n",
       "    <tr>\n",
       "      <th>2</th>\n",
       "      <td>Firefox</td>\n",
       "      <td>227399</td>\n",
       "    </tr>\n",
       "    <tr>\n",
       "      <th>3</th>\n",
       "      <td>Internet Explorer</td>\n",
       "      <td>97884</td>\n",
       "    </tr>\n",
       "    <tr>\n",
       "      <th>4</th>\n",
       "      <td>Edge</td>\n",
       "      <td>68321</td>\n",
       "    </tr>\n",
       "  </tbody>\n",
       "</table>\n",
       "</div>"
      ],
      "text/plain": [
       "             browser    views\n",
       "0             Chrome  4729562\n",
       "1             Safari  1047059\n",
       "2            Firefox   227399\n",
       "3  Internet Explorer    97884\n",
       "4               Edge    68321"
      ]
     },
     "execution_count": 22,
     "metadata": {},
     "output_type": "execute_result"
    }
   ],
   "source": [
    "# popular broswers accoring to page views\n",
    "\n",
    "sql = \"\"\"\n",
    "        SELECT\n",
    "          browser,\n",
    "          COUNT(browser) AS views\n",
    "        FROM\n",
    "          db_researchData\n",
    "        GROUP BY\n",
    "          browser\n",
    "        ORDER BY\n",
    "          views DESC\n",
    "        LIMIT\n",
    "          5\n",
    "      \"\"\"\n",
    "browsers = spark.sql(sql).toPandas()\n",
    "browsers"
   ]
  },
  {
   "cell_type": "markdown",
   "id": "04ebc8c5",
   "metadata": {},
   "source": [
    "# Feature Engineering,  Data Cleaning and Preprocessing"
   ]
  },
  {
   "cell_type": "raw",
   "id": "7219a165",
   "metadata": {},
   "source": [
    "Extract the features from the tables stored in Hive database. In total there are 10 features and one target representing transaction and no transaction "
   ]
  },
  {
   "cell_type": "code",
   "execution_count": null,
   "id": "0384a40e",
   "metadata": {},
   "outputs": [],
   "source": []
  },
  {
   "cell_type": "code",
   "execution_count": 5,
   "id": "cde2c22a",
   "metadata": {},
   "outputs": [
    {
     "name": "stderr",
     "output_type": "stream",
     "text": [
      "                                                                                \r"
     ]
    },
    {
     "data": {
      "text/html": [
       "<div>\n",
       "<style scoped>\n",
       "    .dataframe tbody tr th:only-of-type {\n",
       "        vertical-align: middle;\n",
       "    }\n",
       "\n",
       "    .dataframe tbody tr th {\n",
       "        vertical-align: top;\n",
       "    }\n",
       "\n",
       "    .dataframe thead th {\n",
       "        text-align: right;\n",
       "    }\n",
       "</style>\n",
       "<table border=\"1\" class=\"dataframe\">\n",
       "  <thead>\n",
       "    <tr style=\"text-align: right;\">\n",
       "      <th></th>\n",
       "      <th>visitStartTime</th>\n",
       "      <th>bounceRate</th>\n",
       "      <th>userConversionRate</th>\n",
       "      <th>pageviews</th>\n",
       "      <th>hits</th>\n",
       "      <th>timeOnSite</th>\n",
       "      <th>dailyVisits</th>\n",
       "      <th>sessionQualityDim</th>\n",
       "      <th>action_type</th>\n",
       "      <th>productClicksCount</th>\n",
       "      <th>productPrice</th>\n",
       "      <th>month</th>\n",
       "      <th>productListPosition</th>\n",
       "      <th>browser</th>\n",
       "      <th>target</th>\n",
       "    </tr>\n",
       "  </thead>\n",
       "  <tbody>\n",
       "    <tr>\n",
       "      <th>0</th>\n",
       "      <td>1490431206</td>\n",
       "      <td>NaN</td>\n",
       "      <td>NaN</td>\n",
       "      <td>27</td>\n",
       "      <td>36</td>\n",
       "      <td>688</td>\n",
       "      <td>1</td>\n",
       "      <td>NaN</td>\n",
       "      <td>0</td>\n",
       "      <td>0</td>\n",
       "      <td>10.99</td>\n",
       "      <td>3</td>\n",
       "      <td>9</td>\n",
       "      <td>1</td>\n",
       "      <td>NaN</td>\n",
       "    </tr>\n",
       "    <tr>\n",
       "      <th>1</th>\n",
       "      <td>1490456843</td>\n",
       "      <td>NaN</td>\n",
       "      <td>NaN</td>\n",
       "      <td>20</td>\n",
       "      <td>20</td>\n",
       "      <td>1344</td>\n",
       "      <td>1</td>\n",
       "      <td>NaN</td>\n",
       "      <td>0</td>\n",
       "      <td>0</td>\n",
       "      <td>17.99</td>\n",
       "      <td>3</td>\n",
       "      <td>4</td>\n",
       "      <td>1</td>\n",
       "      <td>NaN</td>\n",
       "    </tr>\n",
       "    <tr>\n",
       "      <th>2</th>\n",
       "      <td>1490460247</td>\n",
       "      <td>NaN</td>\n",
       "      <td>NaN</td>\n",
       "      <td>4</td>\n",
       "      <td>4</td>\n",
       "      <td>54</td>\n",
       "      <td>1</td>\n",
       "      <td>NaN</td>\n",
       "      <td>0</td>\n",
       "      <td>0</td>\n",
       "      <td>4.50</td>\n",
       "      <td>3</td>\n",
       "      <td>2</td>\n",
       "      <td>2</td>\n",
       "      <td>NaN</td>\n",
       "    </tr>\n",
       "    <tr>\n",
       "      <th>3</th>\n",
       "      <td>1490507818</td>\n",
       "      <td>NaN</td>\n",
       "      <td>NaN</td>\n",
       "      <td>4</td>\n",
       "      <td>4</td>\n",
       "      <td>15</td>\n",
       "      <td>1</td>\n",
       "      <td>NaN</td>\n",
       "      <td>0</td>\n",
       "      <td>0</td>\n",
       "      <td>9.99</td>\n",
       "      <td>3</td>\n",
       "      <td>8</td>\n",
       "      <td>1</td>\n",
       "      <td>NaN</td>\n",
       "    </tr>\n",
       "  </tbody>\n",
       "</table>\n",
       "</div>"
      ],
      "text/plain": [
       "   visitStartTime  bounceRate  userConversionRate  pageviews  hits  \\\n",
       "0      1490431206         NaN                 NaN         27    36   \n",
       "1      1490456843         NaN                 NaN         20    20   \n",
       "2      1490460247         NaN                 NaN          4     4   \n",
       "3      1490507818         NaN                 NaN          4     4   \n",
       "\n",
       "   timeOnSite  dailyVisits  sessionQualityDim action_type  productClicksCount  \\\n",
       "0         688            1                NaN           0                   0   \n",
       "1        1344            1                NaN           0                   0   \n",
       "2          54            1                NaN           0                   0   \n",
       "3          15            1                NaN           0                   0   \n",
       "\n",
       "   productPrice  month  productListPosition  browser  target  \n",
       "0         10.99      3                    9        1     NaN  \n",
       "1         17.99      3                    4        1     NaN  \n",
       "2          4.50      3                    2        2     NaN  \n",
       "3          9.99      3                    8        1     NaN  "
      ]
     },
     "execution_count": 5,
     "metadata": {},
     "output_type": "execute_result"
    }
   ],
   "source": [
    "# extract the fields needed\n",
    "sql = \"\"\"\n",
    "      SELECT\n",
    "          visitStartTime,\n",
    "          bounceRate, \n",
    "          userConversionRate, \n",
    "          pageviews,\n",
    "          hits, \n",
    "          timeOnSite,\n",
    "          dailyVisits,\n",
    "          sessionQualityDim,\n",
    "          action_type,\n",
    "          productClicksCount,\n",
    "          productPrice,\n",
    "          month,\n",
    "          productListPosition,\n",
    "        CASE\n",
    "            WHEN browser = 'Chrome' THEN 1\n",
    "            WHEN browser = 'Safari' THEN 2\n",
    "            WHEN browser = 'Firefox' THEN 3\n",
    "            WHEN browser = 'Internet Explorer' THEN 4\n",
    "            WHEN browser = 'Edge' THEN 5\n",
    "            ELSE 0\n",
    "          END AS browser,\n",
    "          target\n",
    "      \n",
    "      FROM \n",
    "         db_researchData\n",
    "      \"\"\"\n",
    "\n",
    "df = spark.sql(sql)\n",
    "df.limit(4).toPandas()"
   ]
  },
  {
   "cell_type": "code",
   "execution_count": 57,
   "id": "20127f39",
   "metadata": {},
   "outputs": [
    {
     "name": "stderr",
     "output_type": "stream",
     "text": [
      "                                                                                \r"
     ]
    },
    {
     "data": {
      "text/plain": [
       "(6348968, 6105523)"
      ]
     },
     "execution_count": 57,
     "metadata": {},
     "output_type": "execute_result"
    }
   ],
   "source": [
    "# check for duplicates\n",
    "\n",
    "df.count(), df.distinct().count()"
   ]
  },
  {
   "cell_type": "code",
   "execution_count": 6,
   "id": "9235e78c",
   "metadata": {},
   "outputs": [
    {
     "name": "stderr",
     "output_type": "stream",
     "text": [
      "                                                                                \r"
     ]
    },
    {
     "data": {
      "text/plain": [
       "(6105523, 6105523)"
      ]
     },
     "execution_count": 6,
     "metadata": {},
     "output_type": "execute_result"
    }
   ],
   "source": [
    "# Remove duplicates and confirm\n",
    "\n",
    "df = df.dropDuplicates()\n",
    "\n",
    "df.count(), df.distinct().count()"
   ]
  },
  {
   "cell_type": "code",
   "execution_count": 59,
   "id": "5c24b83d",
   "metadata": {},
   "outputs": [
    {
     "name": "stderr",
     "output_type": "stream",
     "text": [
      "                                                                                \r"
     ]
    },
    {
     "data": {
      "text/html": [
       "<table border='1'>\n",
       "<tr><th>visitStartTime</th><th>bounceRate</th><th>userConversionRate</th><th>pageviews</th><th>hits</th><th>timeOnSite</th><th>dailyVisits</th><th>sessionQualityDim</th><th>action_type</th><th>productClicksCount</th><th>productPrice</th><th>month</th><th>productListPosition</th><th>browser</th><th>target</th></tr>\n",
       "<tr><td>6105523</td><td>894675</td><td>320027</td><td>6105413</td><td>6105523</td><td>5207371</td><td>6105523</td><td>919662</td><td>6105523</td><td>6105523</td><td>6105523</td><td>6105523</td><td>6105523</td><td>6105523</td><td>320027</td></tr>\n",
       "</table>\n"
      ],
      "text/plain": [
       "+--------------+----------+------------------+---------+-------+----------+-----------+-----------------+-----------+------------------+------------+-------+-------------------+-------+------+\n",
       "|visitStartTime|bounceRate|userConversionRate|pageviews|   hits|timeOnSite|dailyVisits|sessionQualityDim|action_type|productClicksCount|productPrice|  month|productListPosition|browser|target|\n",
       "+--------------+----------+------------------+---------+-------+----------+-----------+-----------------+-----------+------------------+------------+-------+-------------------+-------+------+\n",
       "|       6105523|    894675|            320027|  6105413|6105523|   5207371|    6105523|           919662|    6105523|           6105523|     6105523|6105523|            6105523|6105523|320027|\n",
       "+--------------+----------+------------------+---------+-------+----------+-----------+-----------------+-----------+------------------+------------+-------+-------------------+-------+------+"
      ]
     },
     "execution_count": 59,
     "metadata": {},
     "output_type": "execute_result"
    }
   ],
   "source": [
    "# Count and check for missing and/or null values in the columns selected\n",
    "\n",
    "def df_count(df):\n",
    "    df_col_count = df.agg(*[count(c).alias(c) for c in df.columns])\n",
    "    return df_col_count\n",
    "    \n",
    "df_count(df)"
   ]
  },
  {
   "cell_type": "code",
   "execution_count": 60,
   "id": "d94a9e4b",
   "metadata": {},
   "outputs": [
    {
     "name": "stderr",
     "output_type": "stream",
     "text": [
      "                                                                                \r"
     ]
    },
    {
     "data": {
      "text/html": [
       "<table border='1'>\n",
       "<tr><th>summary</th><th>visitStartTime</th><th>bounceRate</th><th>userConversionRate</th><th>pageviews</th><th>hits</th><th>timeOnSite</th><th>dailyVisits</th><th>sessionQualityDim</th><th>action_type</th><th>productClicksCount</th><th>productPrice</th><th>month</th><th>productListPosition</th><th>browser</th><th>target</th></tr>\n",
       "<tr><td>count</td><td>6105523</td><td>894675</td><td>320027</td><td>6105413</td><td>6105523</td><td>5207371</td><td>6105523</td><td>919662</td><td>6105523</td><td>6105523</td><td>6105523</td><td>6105523</td><td>6105523</td><td>6105523</td><td>320027</td></tr>\n",
       "<tr><td>mean</td><td>1.4926198136273124E9</td><td>1.0</td><td>1.092839041705856</td><td>11.493936937599472</td><td>14.464252939510668</td><td>539.1684281761372</td><td>1.294804556464696</td><td>14.521589453516619</td><td>0.1339028613928733</td><td>0.03432859068748083</td><td>32.228911176112064</td><td>4.093554311399695</td><td>5.778965700399458</td><td>1.2992868915570377</td><td>1.0</td></tr>\n",
       "<tr><td>stddev</td><td>5356919.541948093</td><td>0.0</td><td>0.9054683569417544</td><td>15.18535434815819</td><td>21.100398311656345</td><td>756.4767181401595</td><td>1.1107153386634</td><td>24.785186415395994</td><td>0.6225083119755932</td><td>0.3196116629688461</td><td>70.20592907843304</td><td>2.0360629891201203</td><td>3.583042188712223</td><td>0.7494640137452594</td><td>0.0</td></tr>\n",
       "<tr><td>min</td><td>1483257623</td><td>1.0</td><td>1.0</td><td>1</td><td>1</td><td>1</td><td>1</td><td>1</td><td>0</td><td>0</td><td>0.0</td><td>1</td><td>0</td><td>0</td><td>1</td></tr>\n",
       "<tr><td>max</td><td>1501657190</td><td>1.0</td><td>25.0</td><td>466</td><td>500</td><td>12136</td><td>576</td><td>99</td><td>6</td><td>441</td><td>35532.189</td><td>8</td><td>15</td><td>5</td><td>1</td></tr>\n",
       "</table>\n"
      ],
      "text/plain": [
       "+-------+--------------------+----------+------------------+------------------+------------------+-----------------+-----------------+------------------+------------------+-------------------+------------------+------------------+-------------------+------------------+------+\n",
       "|summary|      visitStartTime|bounceRate|userConversionRate|         pageviews|              hits|       timeOnSite|      dailyVisits| sessionQualityDim|       action_type| productClicksCount|      productPrice|             month|productListPosition|           browser|target|\n",
       "+-------+--------------------+----------+------------------+------------------+------------------+-----------------+-----------------+------------------+------------------+-------------------+------------------+------------------+-------------------+------------------+------+\n",
       "|  count|             6105523|    894675|            320027|           6105413|           6105523|          5207371|          6105523|            919662|           6105523|            6105523|           6105523|           6105523|            6105523|           6105523|320027|\n",
       "|   mean|1.4926198136273124E9|       1.0| 1.092839041705856|11.493936937599472|14.464252939510668|539.1684281761372|1.294804556464696|14.521589453516619|0.1339028613928733|0.03432859068748083|32.228911176112064| 4.093554311399695|  5.778965700399458|1.2992868915570377|   1.0|\n",
       "| stddev|   5356919.541948093|       0.0|0.9054683569417544| 15.18535434815819|21.100398311656345|756.4767181401595|  1.1107153386634|24.785186415395994|0.6225083119755932| 0.3196116629688461| 70.20592907843304|2.0360629891201203|  3.583042188712223|0.7494640137452594|   0.0|\n",
       "|    min|          1483257623|       1.0|               1.0|                 1|                 1|                1|                1|                 1|                 0|                  0|               0.0|                 1|                  0|                 0|     1|\n",
       "|    max|          1501657190|       1.0|              25.0|               466|               500|            12136|              576|                99|                 6|                441|         35532.189|                 8|                 15|                 5|     1|\n",
       "+-------+--------------------+----------+------------------+------------------+------------------+-----------------+-----------------+------------------+------------------+-------------------+------------------+------------------+-------------------+------------------+------+"
      ]
     },
     "execution_count": 60,
     "metadata": {},
     "output_type": "execute_result"
    }
   ],
   "source": [
    "# check the statistics of the data\n",
    "df.describe()"
   ]
  },
  {
   "cell_type": "raw",
   "id": "1ca55edc",
   "metadata": {},
   "source": [
    "Since the missing values are only in the numerical column, and since missing values are more in important columns timeOnSite, userConversionRate , productClicks and target, they will be filled with 0. "
   ]
  },
  {
   "cell_type": "code",
   "execution_count": 7,
   "id": "e65eef7e",
   "metadata": {},
   "outputs": [],
   "source": [
    "# handle missing and null values\n",
    "\n",
    "df = df.na.fill(0)"
   ]
  },
  {
   "cell_type": "code",
   "execution_count": 45,
   "id": "7e51c641",
   "metadata": {},
   "outputs": [
    {
     "name": "stderr",
     "output_type": "stream",
     "text": [
      "                                                                                \r"
     ]
    },
    {
     "data": {
      "image/png": "[encoded data removed]",
      "text/plain": [
       "<Figure size 576x288 with 1 Axes>"
      ]
     },
     "metadata": {
      "needs_background": "light"
     },
     "output_type": "display_data"
    }
   ],
   "source": [
    "target = df.groupBy('target').count().toPandas()\n",
    "target_df = pd.DataFrame(target)\n",
    "target.set_index('count')\n",
    "color = ['crimson']\n",
    "\n",
    "target_plot = target_df.plot(figsize = (8, 4), kind='bar', x=\"target\", y=\"count\", color=color)\n",
    "plt.xlabel(\"Target\", fontsize = 16)\n",
    "plt.ylabel(\"Count\", fontsize = 16)\n",
    "plt.title(\"Target Distribution\", fontsize = 20, color = 'k')\n",
    "plt.xticks(size = 14)\n",
    "plt.yticks(size = 14)\n",
    "plt.show()"
   ]
  },
  {
   "cell_type": "code",
   "execution_count": 9,
   "id": "2e6ef9f4",
   "metadata": {},
   "outputs": [
    {
     "name": "stderr",
     "output_type": "stream",
     "text": [
      "                                                                                \r"
     ]
    },
    {
     "data": {
      "text/html": [
       "<table border='1'>\n",
       "<tr><th>browser</th><th>count</th></tr>\n",
       "<tr><td>1</td><td>4532699</td></tr>\n",
       "<tr><td>3</td><td>217898</td></tr>\n",
       "<tr><td>5</td><td>66053</td></tr>\n",
       "<tr><td>4</td><td>94878</td></tr>\n",
       "<tr><td>2</td><td>1018328</td></tr>\n",
       "<tr><td>0</td><td>175667</td></tr>\n",
       "</table>\n"
      ],
      "text/plain": [
       "+-------+-------+\n",
       "|browser|  count|\n",
       "+-------+-------+\n",
       "|      1|4532699|\n",
       "|      3| 217898|\n",
       "|      5|  66053|\n",
       "|      4|  94878|\n",
       "|      2|1018328|\n",
       "|      0| 175667|\n",
       "+-------+-------+"
      ]
     },
     "execution_count": 9,
     "metadata": {},
     "output_type": "execute_result"
    }
   ],
   "source": [
    "df.groupBy('browser').count()"
   ]
  },
  {
   "cell_type": "code",
   "execution_count": 46,
   "id": "d4bc086a",
   "metadata": {},
   "outputs": [
    {
     "name": "stderr",
     "output_type": "stream",
     "text": [
      "                                                                                \r"
     ]
    },
    {
     "data": {
      "image/png": "[encoded data removed]",
      "text/plain": [
       "<Figure size 576x288 with 1 Axes>"
      ]
     },
     "metadata": {
      "needs_background": "light"
     },
     "output_type": "display_data"
    }
   ],
   "source": [
    "action = df.groupBy('action_type').count().toPandas()\n",
    "action_df = pd.DataFrame(action)\n",
    "action.set_index('count')\n",
    "color = ['indigo']\n",
    "\n",
    "action_plot = action_df.plot(figsize = (8, 4), kind='bar', x=\"action_type\", y=\"count\", color=color)\n",
    "plt.xlabel(\"Actions\", fontsize = 16)\n",
    "plt.ylabel(\"Count\", fontsize = 16)\n",
    "plt.title(\"Actions Distribution\", fontsize = 20, color = 'k')\n",
    "plt.xticks(size = 14)\n",
    "plt.yticks(size = 14)\n",
    "plt.show()"
   ]
  },
  {
   "cell_type": "code",
   "execution_count": 62,
   "id": "26f9a152",
   "metadata": {},
   "outputs": [
    {
     "name": "stderr",
     "output_type": "stream",
     "text": [
      "                                                                                \r"
     ]
    },
    {
     "data": {
      "image/png": "[encoded data removed]",
      "text/plain": [
       "<Figure size 576x288 with 1 Axes>"
      ]
     },
     "metadata": {
      "needs_background": "light"
     },
     "output_type": "display_data"
    }
   ],
   "source": [
    "productClicks = df.groupBy('productClicksCount').count().toPandas()\n",
    "productClicks_df = pd.DataFrame(productClicks)\n",
    "productClicks.set_index('count')\n",
    "color = ['olive']\n",
    "\n",
    "productClicks_plot = productClicks_df.plot(figsize = (8, 4), kind='bar', x=\"productClicksCount\", y=\"count\", color=color)\n",
    "plt.xlabel(\"ProductClicks\", fontsize = 16)\n",
    "plt.ylabel(\"Count\", fontsize = 16)\n",
    "plt.title(\"Product Clicks Distribution\", fontsize = 20, color = 'k')\n",
    "plt.xticks(size = 14)\n",
    "plt.yticks(size = 14)\n",
    "plt.show()"
   ]
  },
  {
   "cell_type": "code",
   "execution_count": 49,
   "id": "d52301ff",
   "metadata": {},
   "outputs": [
    {
     "name": "stderr",
     "output_type": "stream",
     "text": [
      "                                                                                \r"
     ]
    },
    {
     "data": {
      "image/png": "[encoded data removed]",
      "text/plain": [
       "<Figure size 432x288 with 1 Axes>"
      ]
     },
     "metadata": {
      "needs_background": "light"
     },
     "output_type": "display_data"
    }
   ],
   "source": [
    "timeOnSite = df.select(\"timeOnSite\").toPandas()\n",
    "\n",
    "\n",
    "sns.distplot(timeOnSite, x=timeOnSite, kde=True)\n",
    "plt.title(\"Distribution plot of timeOnSite\")\n",
    "plt.show()"
   ]
  },
  {
   "cell_type": "code",
   "execution_count": 50,
   "id": "b48851c0",
   "metadata": {},
   "outputs": [
    {
     "name": "stderr",
     "output_type": "stream",
     "text": [
      "                                                                                \r"
     ]
    },
    {
     "data": {
      "image/png": "[encoded data removed]",
      "text/plain": [
       "<Figure size 432x288 with 1 Axes>"
      ]
     },
     "metadata": {
      "needs_background": "light"
     },
     "output_type": "display_data"
    }
   ],
   "source": [
    "pageviews = df.select(\"pageviews\").toPandas() productClicksCount\n",
    "\n",
    "\n",
    "sns.boxplot(x=pageviews['pageviews'])\n",
    "plt.title(\"Box plot of pageviews\")\n",
    "plt.show()"
   ]
  },
  {
   "cell_type": "code",
   "execution_count": 53,
   "id": "c1944e84",
   "metadata": {},
   "outputs": [
    {
     "name": "stderr",
     "output_type": "stream",
     "text": [
      "                                                                                \r"
     ]
    },
    {
     "data": {
      "image/png": "[encoded data removed]",
      "text/plain": [
       "<Figure size 432x288 with 1 Axes>"
      ]
     },
     "metadata": {
      "needs_background": "light"
     },
     "output_type": "display_data"
    }
   ],
   "source": [
    "hits = df.select(\"hits\").toPandas()\n",
    "\n",
    "sns.distplot(hits, x=hits, kde=True)\n",
    "plt.title(\"Distribution plot of hits\")\n",
    "plt.show()"
   ]
  },
  {
   "cell_type": "code",
   "execution_count": 54,
   "id": "0374173e",
   "metadata": {},
   "outputs": [
    {
     "name": "stderr",
     "output_type": "stream",
     "text": [
      "                                                                                \r"
     ]
    },
    {
     "data": {
      "image/png": "[encoded data removed]",
      "text/plain": [
       "<Figure size 432x288 with 1 Axes>"
      ]
     },
     "metadata": {
      "needs_background": "light"
     },
     "output_type": "display_data"
    }
   ],
   "source": [
    "productClicksCount = df.select(\"productClicksCount\").toPandas() \n",
    "\n",
    "\n",
    "sns.boxplot(x=productClicksCount['productClicksCount'])\n",
    "plt.title(\"Box plot of productClicksCount\")\n",
    "plt.show()"
   ]
  },
  {
   "cell_type": "code",
   "execution_count": 218,
   "id": "718979a4",
   "metadata": {},
   "outputs": [],
   "source": [
    "def outlier_df(field):\n",
    "    QuartilR = None\n",
    "    lower_quartile = 'lower_{}'.format(field)\n",
    "    upper_quartile = 'upper_{}'.format(field)\n",
    "    field_median =   'median_{}'.format(field)\n",
    "    quartile_dev =   'quartile_dev_{}'.format(field)\n",
    "\n",
    "    QuartilR = (df.groupBy(\"fullVisitorId\", \"visitId\", \"date\")\n",
    "              .agg(fn.expr('percentile('+field+', array(0.25))')[0].alias(lower_quartile),\n",
    "                   fn.expr('percentile('+field+', array(0.75))')[0].alias(upper_quartile), \n",
    "                   fn.expr('percentile('+field+', array(0.5))')[0].alias(field_median))\n",
    "              .withColumn(quartile_dev, (fn.col(upper_quartile) - fn.col(lower_quartile))/2))\n",
    "    return QuartilR"
   ]
  },
  {
   "cell_type": "code",
   "execution_count": 219,
   "id": "e9e29097",
   "metadata": {},
   "outputs": [],
   "source": [
    "field = \"userTransactions\"\n",
    "\n",
    "field_median =   'median_{}'.format(field)\n",
    "quartile_dev =   'quartile_dev_{}'.format(field)\n",
    "outlier_removed = (df.join(outlier_df(field), on=[\"fullVisitorId\", \"visitId\", \"date\"])\n",
    "                 .filter(fn.abs(fn.col(field)-fn.col(field_median)) >= (fn.col(quartile_dev)*2.2)))"
   ]
  },
  {
   "cell_type": "code",
   "execution_count": 220,
   "id": "b9f38e31",
   "metadata": {},
   "outputs": [
    {
     "name": "stderr",
     "output_type": "stream",
     "text": [
      "                                                                                \r"
     ]
    }
   ],
   "source": [
    "# save for easy access\n",
    "outlier_removed.write.format(\"ORC\").saveAsTable(\"outlier_db\")"
   ]
  },
  {
   "cell_type": "code",
   "execution_count": 224,
   "id": "9766be61",
   "metadata": {},
   "outputs": [
    {
     "data": {
      "text/plain": [
       "176657"
      ]
     },
     "execution_count": 224,
     "metadata": {},
     "output_type": "execute_result"
    }
   ],
   "source": [
    "outlier_df = spark.sql(\"select * from outlier_db\")\n",
    "\n",
    "outlier_removed = df.count() - outlier_df.count()\n",
    "outlier_removed"
   ]
  },
  {
   "cell_type": "code",
   "execution_count": 227,
   "id": "7a9862c8",
   "metadata": {},
   "outputs": [
    {
     "data": {
      "text/html": [
       "<div>\n",
       "<style scoped>\n",
       "    .dataframe tbody tr th:only-of-type {\n",
       "        vertical-align: middle;\n",
       "    }\n",
       "\n",
       "    .dataframe tbody tr th {\n",
       "        vertical-align: top;\n",
       "    }\n",
       "\n",
       "    .dataframe thead th {\n",
       "        text-align: right;\n",
       "    }\n",
       "</style>\n",
       "<table border=\"1\" class=\"dataframe\">\n",
       "  <thead>\n",
       "    <tr style=\"text-align: right;\">\n",
       "      <th></th>\n",
       "      <th>target</th>\n",
       "      <th>count</th>\n",
       "    </tr>\n",
       "  </thead>\n",
       "  <tbody>\n",
       "    <tr>\n",
       "      <th>0</th>\n",
       "      <td>0</td>\n",
       "      <td>6043599</td>\n",
       "    </tr>\n",
       "    <tr>\n",
       "      <th>1</th>\n",
       "      <td>1</td>\n",
       "      <td>173663</td>\n",
       "    </tr>\n",
       "  </tbody>\n",
       "</table>\n",
       "</div>"
      ],
      "text/plain": [
       "   target    count\n",
       "0       0  6043599\n",
       "1       1   173663"
      ]
     },
     "execution_count": 227,
     "metadata": {},
     "output_type": "execute_result"
    }
   ],
   "source": [
    "outlier_df.groupBy('target').count().toPandas()"
   ]
  },
  {
   "cell_type": "code",
   "execution_count": 10,
   "id": "35b4f96e",
   "metadata": {},
   "outputs": [
    {
     "name": "stderr",
     "output_type": "stream",
     "text": [
      "                                                                                \r"
     ]
    }
   ],
   "source": [
    "# Transaform String Type Columns to Index and Vectors\n",
    "from pyspark.ml.linalg import Vectors\n",
    "from pyspark.ml.feature import OneHotEncoder, StringIndexer, VectorAssembler\n",
    "\n",
    "vector_indexer = StringIndexer(inputCols=[\"action_type\"], outputCols=[\"action_type_index\"], handleInvalid=\"keep\").fit(df)\n",
    "df_new = vector_indexer.transform(df)\n",
    "# vector_encoder = OneHotEncoder(inputCols=[\"fullVisitorId_index\",\"pagePath_index\", \"action_type_index\", \"v2ProductCategory_index\"], outputCols=[\"fullVisitorId_vec\",\"pagePath_vec\", \"action_type_vec\", \"v2ProductCategory_vec\"]).fit(df_new)\n",
    "# df_vectors = vector_encoder.transform(df_new)"
   ]
  },
  {
   "cell_type": "code",
   "execution_count": 65,
   "id": "2d21008c",
   "metadata": {
    "scrolled": true
   },
   "outputs": [
    {
     "name": "stderr",
     "output_type": "stream",
     "text": [
      "21/11/26 21:02:06 WARN package: Truncated the string representation of a plan since it was too large. This behavior can be adjusted by setting 'spark.sql.debug.maxToStringFields'.\n",
      "[Stage 196:>                                                        (0 + 1) / 1]\r"
     ]
    },
    {
     "name": "stdout",
     "output_type": "stream",
     "text": [
      "+--------------------+\n",
      "|            features|\n",
      "+--------------------+\n",
      "|[1.490449171E9,0....|\n",
      "|[1.487937857E9,0....|\n",
      "|[1.495242698E9,0....|\n",
      "+--------------------+\n",
      "only showing top 3 rows\n",
      "\n"
     ]
    },
    {
     "name": "stderr",
     "output_type": "stream",
     "text": [
      "\r",
      "                                                                                \r"
     ]
    }
   ],
   "source": [
    "from pyspark.ml.linalg import Vectors\n",
    "from pyspark.ml.feature import OneHotEncoder, StringIndexer, VectorAssembler\n",
    "\n",
    "# Transform dataframe input features,\n",
    "\n",
    "assembler = (VectorAssembler(inputCols=[\"visitStartTime\",\n",
    "                                        \"bounceRate\", \n",
    "                                        \"userConversionRate\", \n",
    "                                        \"pageviews\",\n",
    "                                        \"hits\", \n",
    "                                        \"timeOnSite\",\n",
    "                                        \"dailyVisits\",\n",
    "                                        \"sessionQualityDim\",\n",
    "                                        \"action_type_index\",\n",
    "                                        \"browser\",\n",
    "                                        \"productClicksCount\",\n",
    "                                        \"productPrice\",\n",
    "                                        \"month\",\n",
    "                                        \"productListPosition\", \n",
    "                                        \"target\"],\n",
    "                             outputCol=\"features\"))\n",
    "\n",
    "data = assembler.transform(df_new)\n",
    "\n",
    "data.select(\"features\").show(3)"
   ]
  },
  {
   "cell_type": "code",
   "execution_count": 66,
   "id": "ce3af664",
   "metadata": {},
   "outputs": [
    {
     "name": "stderr",
     "output_type": "stream",
     "text": [
      "21/11/26 21:02:48 WARN InstanceBuilder$NativeBLAS: Failed to load implementation from:dev.ludovic.netlib.blas.JNIBLAS\n",
      "21/11/26 21:02:48 WARN InstanceBuilder$NativeBLAS: Failed to load implementation from:dev.ludovic.netlib.blas.ForeignLinkerBLAS\n",
      "                                                                                \r"
     ]
    },
    {
     "name": "stdout",
     "output_type": "stream",
     "text": [
      "Pearson correlation matrix \n",
      " DenseMatrix([[ 1.        ,  0.07238329,  0.00157463, -0.05336724, -0.03984732,\n",
      "              -0.0127655 ,  0.00904399,  0.29366393,  0.01317711, -0.00214665,\n",
      "               0.00639731, -0.02139534,  0.98978944, -0.01107512,  0.01002693],\n",
      "             [ 0.07238329,  1.        , -0.07421211, -0.28634203, -0.26424031,\n",
      "              -0.26309093, -0.10436571, -0.07538007, -0.09120775,  0.06886115,\n",
      "              -0.04450531, -0.07696227,  0.0722278 ,  0.04777894, -0.0974544 ],\n",
      "             [ 0.00157463, -0.07421211,  1.        ,  0.45942284,  0.42822407,\n",
      "               0.30213783,  0.11173508,  0.14692842,  0.20370524, -0.04134156,\n",
      "               0.01944011,  0.05597646,  0.00283192, -0.05520822,  0.76150595],\n",
      "             [-0.05336724, -0.28634203,  0.45942284,  1.        ,  0.98507167,\n",
      "               0.73826483,  0.22826593,  0.21610952,  0.20622449, -0.05279502,\n",
      "               0.0749983 ,  0.10770476, -0.05301003, -0.07944317,  0.38826559],\n",
      "             [-0.03984732, -0.26424031,  0.42822407,  0.98507167,  1.        ,\n",
      "               0.71819749,  0.22107046,  0.22326921,  0.21913011, -0.05312357,\n",
      "               0.08887873,  0.10398743, -0.03969361, -0.08410282,  0.37404825],\n",
      "             [-0.0127655 , -0.26309093,  0.30213783,  0.73826483,  0.71819749,\n",
      "               1.        ,  0.18190162,  0.20433793,  0.15911937, -0.0375885 ,\n",
      "               0.05034629,  0.08314092, -0.01321697, -0.05904064,  0.30231646],\n",
      "             [ 0.00904399, -0.10436571,  0.11173508,  0.22826593,  0.22107046,\n",
      "               0.18190162,  1.        ,  0.07402894,  0.11329806, -0.01041581,\n",
      "               0.16586379,  0.49047179,  0.01270429, -0.03076296,  0.09793571],\n",
      "             [ 0.29366393, -0.07538007,  0.14692842,  0.21610952,  0.22326921,\n",
      "               0.20433793,  0.07402894,  1.        ,  0.1036601 , -0.03791236,\n",
      "               0.03068198,  0.02959607,  0.2908636 , -0.04434704,  0.20004155],\n",
      "             [ 0.01317711, -0.09120775,  0.20370524,  0.20622449,  0.21913011,\n",
      "               0.15911937,  0.11329806,  0.1036601 ,  1.        , -0.02375467,\n",
      "               0.15917472,  0.08655073,  0.01318046, -0.24277864,  0.25138126],\n",
      "             [-0.00214665,  0.06886115, -0.04134156, -0.05279502, -0.05312357,\n",
      "              -0.0375885 , -0.01041581, -0.03791236, -0.02375467,  1.        ,\n",
      "              -0.00966614, -0.01520118, -0.00207401,  0.01951969, -0.05336435],\n",
      "             [ 0.00639731, -0.04450531,  0.01944011,  0.0749983 ,  0.08887873,\n",
      "               0.05034629,  0.16586379,  0.03068198,  0.15917472, -0.00966614,\n",
      "               1.        ,  0.07371032,  0.00669456, -0.14154689,  0.02350425],\n",
      "             [-0.02139534, -0.07696227,  0.05597646,  0.10770476,  0.10398743,\n",
      "               0.08314092,  0.49047179,  0.02959607,  0.08655073, -0.01520118,\n",
      "               0.07371032,  1.        , -0.02017117,  0.02279729,  0.04385948],\n",
      "             [ 0.98978944,  0.0722278 ,  0.00283192, -0.05301003, -0.03969361,\n",
      "              -0.01321697,  0.01270429,  0.2908636 ,  0.01318046, -0.00207401,\n",
      "               0.00669456, -0.02017117,  1.        , -0.01105186,  0.00987595],\n",
      "             [-0.01107512,  0.04777894, -0.05520822, -0.07944317, -0.08410282,\n",
      "              -0.05904064, -0.03076296, -0.04434704, -0.24277864,  0.01951969,\n",
      "              -0.14154689,  0.02279729, -0.01105186,  1.        , -0.06847992],\n",
      "             [ 0.01002693, -0.0974544 ,  0.76150595,  0.38826559,  0.37404825,\n",
      "               0.30231646,  0.09793571,  0.20004155,  0.25138126, -0.05336435,\n",
      "               0.02350425,  0.04385948,  0.00987595, -0.06847992,  1.        ]])\n"
     ]
    }
   ],
   "source": [
    "# Perform Correlation of inputs and output fields\n",
    "\n",
    "from pyspark.ml.stat import Correlation\n",
    "\n",
    "pearson_corr = Correlation.corr(data, \"features\").head()\n",
    "print(\"Pearson correlation matrix \\n\", str(pearson_corr[0]))"
   ]
  },
  {
   "cell_type": "code",
   "execution_count": 67,
   "id": "3eb53743",
   "metadata": {},
   "outputs": [],
   "source": [
    "pearson_array = pearson_corr[0].toArray()"
   ]
  },
  {
   "cell_type": "code",
   "execution_count": 68,
   "id": "27aab168",
   "metadata": {},
   "outputs": [
    {
     "data": {
      "image/png": "[encoded data removed]",
      "text/plain": [
       "<Figure size 720x576 with 2 Axes>"
      ]
     },
     "metadata": {
      "needs_background": "light"
     },
     "output_type": "display_data"
    }
   ],
   "source": [
    "fig = plt.figure(figsize=(10,8))\n",
    "ax = plt.subplot(111)\n",
    "sns.heatmap(pearson_array, annot=True, cmap=\"Blues\", ax=ax)\n",
    "\n",
    "classes = [ \"visitStartTime\",\n",
    "            \"bounceRate\", \n",
    "            \"userConversionRate\", \n",
    "            \"pageviews\",\n",
    "            \"hits\", \n",
    "            \"timeOnSite\",\n",
    "            \"dailyVisits\",\n",
    "            \"sessionQualityDim\",\n",
    "            \"action_type\",\n",
    "            \"browser\",\n",
    "            \"productClicksCount\",\n",
    "            \"productPrice\",\n",
    "            \"month\",\n",
    "            \"productListPosition\", \n",
    "            \"target\"]\n",
    "\n",
    "tick_marks = np.arange(len(classes))\n",
    "\n",
    "plt.xticks(tick_marks, classes, rotation=90)\n",
    "plt.yticks(tick_marks, classes, rotation=10)\n",
    "plt.xlabel('Input Features')\n",
    "plt.ylabel('Input Features') \n",
    "plt.title('Pearson Correlation of Features')\n",
    "plt.show()"
   ]
  },
  {
   "cell_type": "code",
   "execution_count": 11,
   "id": "007d4092",
   "metadata": {},
   "outputs": [
    {
     "name": "stderr",
     "output_type": "stream",
     "text": [
      "                                                                                \r"
     ]
    },
    {
     "data": {
      "text/plain": [
       "{0: 0.5276576978015368, 1: 9.539074828061382}"
      ]
     },
     "execution_count": 11,
     "metadata": {},
     "output_type": "execute_result"
    }
   ],
   "source": [
    "# Handle Imbalance using weight, calculate ratio of each class\n",
    "\n",
    "y_collect = df_new.select(\"target\").groupBy(\"target\").count().collect()\n",
    "unique_y = [x[\"target\"] for x in y_collect]\n",
    "total_y = sum([x[\"count\"] for x in y_collect])\n",
    "unique_y_count = len(y_collect)\n",
    "bin_count = [x[\"count\"] for x in y_collect]\n",
    "\n",
    "class_weights = {i: ii for i, ii in zip(unique_y, total_y / (unique_y_count * np.array(bin_count)))}\n",
    "class_weights"
   ]
  },
  {
   "cell_type": "code",
   "execution_count": 12,
   "id": "a2aafd3d",
   "metadata": {},
   "outputs": [],
   "source": [
    "# Use weights to handle imbalance\n",
    "from itertools import chain\n",
    "\n",
    "map_expr = fn.create_map([fn.lit(x) for x in chain(*class_weights.items())])\n",
    "\n",
    "df_new = df_new.withColumn('weights', map_expr.getItem(fn.col('target')))"
   ]
  },
  {
   "cell_type": "code",
   "execution_count": 13,
   "id": "01f323be",
   "metadata": {},
   "outputs": [
    {
     "name": "stderr",
     "output_type": "stream",
     "text": [
      "[Stage 52:>                                                         (0 + 1) / 1]\r"
     ]
    },
    {
     "name": "stdout",
     "output_type": "stream",
     "text": [
      "+--------------------+------+\n",
      "|   assemble_features|target|\n",
      "+--------------------+------+\n",
      "|(11,[2,3,6,8,9,10...|     0|\n",
      "|(11,[2,3,6,8,9,10...|     0|\n",
      "|(11,[2,3,6,8,9,10...|     0|\n",
      "+--------------------+------+\n",
      "only showing top 3 rows\n",
      "\n"
     ]
    },
    {
     "name": "stderr",
     "output_type": "stream",
     "text": [
      "\r",
      "                                                                                \r"
     ]
    }
   ],
   "source": [
    "# Since pageviews, hits and timeOnsite are highly correlated and also correlated to target, use PCA\n",
    "# to handle this\n",
    "\n",
    "assembler = VectorAssembler(inputCols=[\"bounceRate\", \n",
    "                                       \"userConversionRate\", \n",
    "                                       \"pageviews\",\n",
    "                                       \"dailyVisits\",\n",
    "                                       \"sessionQualityDim\",\n",
    "                                       \"action_type_index\",\n",
    "                                       \"browser\",\n",
    "                                       \"productClicksCount\",\n",
    "                                       \"productPrice\",\n",
    "                                       \"month\",\n",
    "                                       \"productListPosition\" \n",
    "                                    ], outputCol=\"assemble_features\")\n",
    "\n",
    "output = assembler.transform(df_new)\n",
    "\n",
    "output.select(\"assemble_features\", \"target\").show(3)"
   ]
  },
  {
   "cell_type": "code",
   "execution_count": 14,
   "id": "0912ea50",
   "metadata": {},
   "outputs": [
    {
     "name": "stderr",
     "output_type": "stream",
     "text": [
      "                                                                                \r"
     ]
    },
    {
     "data": {
      "text/html": [
       "<div>\n",
       "<style scoped>\n",
       "    .dataframe tbody tr th:only-of-type {\n",
       "        vertical-align: middle;\n",
       "    }\n",
       "\n",
       "    .dataframe tbody tr th {\n",
       "        vertical-align: top;\n",
       "    }\n",
       "\n",
       "    .dataframe thead th {\n",
       "        text-align: right;\n",
       "    }\n",
       "</style>\n",
       "<table border=\"1\" class=\"dataframe\">\n",
       "  <thead>\n",
       "    <tr style=\"text-align: right;\">\n",
       "      <th></th>\n",
       "      <th>visitStartTime</th>\n",
       "      <th>bounceRate</th>\n",
       "      <th>userConversionRate</th>\n",
       "      <th>pageviews</th>\n",
       "      <th>hits</th>\n",
       "      <th>timeOnSite</th>\n",
       "      <th>dailyVisits</th>\n",
       "      <th>sessionQualityDim</th>\n",
       "      <th>action_type</th>\n",
       "      <th>productClicksCount</th>\n",
       "      <th>productPrice</th>\n",
       "      <th>month</th>\n",
       "      <th>productListPosition</th>\n",
       "      <th>browser</th>\n",
       "      <th>target</th>\n",
       "      <th>action_type_index</th>\n",
       "      <th>weights</th>\n",
       "      <th>assemble_features</th>\n",
       "      <th>features</th>\n",
       "    </tr>\n",
       "  </thead>\n",
       "  <tbody>\n",
       "    <tr>\n",
       "      <th>0</th>\n",
       "      <td>1490449171</td>\n",
       "      <td>0.0</td>\n",
       "      <td>0.0</td>\n",
       "      <td>16</td>\n",
       "      <td>17</td>\n",
       "      <td>273</td>\n",
       "      <td>1</td>\n",
       "      <td>0</td>\n",
       "      <td>0</td>\n",
       "      <td>0</td>\n",
       "      <td>14.99</td>\n",
       "      <td>3</td>\n",
       "      <td>11</td>\n",
       "      <td>2</td>\n",
       "      <td>0</td>\n",
       "      <td>0.0</td>\n",
       "      <td>0.527658</td>\n",
       "      <td>(0.0, 0.0, 16.0, 1.0, 0.0, 0.0, 2.0, 0.0, 14.9...</td>\n",
       "      <td>(0.0, 0.0, 1.3333333333333333, 0.0, 0.0, 0.0, ...</td>\n",
       "    </tr>\n",
       "    <tr>\n",
       "      <th>1</th>\n",
       "      <td>1487937857</td>\n",
       "      <td>0.0</td>\n",
       "      <td>0.0</td>\n",
       "      <td>9</td>\n",
       "      <td>9</td>\n",
       "      <td>289</td>\n",
       "      <td>1</td>\n",
       "      <td>0</td>\n",
       "      <td>0</td>\n",
       "      <td>0</td>\n",
       "      <td>5.50</td>\n",
       "      <td>2</td>\n",
       "      <td>2</td>\n",
       "      <td>1</td>\n",
       "      <td>0</td>\n",
       "      <td>0.0</td>\n",
       "      <td>0.527658</td>\n",
       "      <td>(0.0, 0.0, 9.0, 1.0, 0.0, 0.0, 1.0, 0.0, 5.5, ...</td>\n",
       "      <td>(0.0, 0.0, 0.75, 0.0, 0.0, 0.0, 0.0, 0.0, 0.20...</td>\n",
       "    </tr>\n",
       "  </tbody>\n",
       "</table>\n",
       "</div>"
      ],
      "text/plain": [
       "   visitStartTime  bounceRate  userConversionRate  pageviews  hits  \\\n",
       "0      1490449171         0.0                 0.0         16    17   \n",
       "1      1487937857         0.0                 0.0          9     9   \n",
       "\n",
       "   timeOnSite  dailyVisits  sessionQualityDim action_type  productClicksCount  \\\n",
       "0         273            1                  0           0                   0   \n",
       "1         289            1                  0           0                   0   \n",
       "\n",
       "   productPrice  month  productListPosition  browser  target  \\\n",
       "0         14.99      3                   11        2       0   \n",
       "1          5.50      2                    2        1       0   \n",
       "\n",
       "   action_type_index   weights  \\\n",
       "0                0.0  0.527658   \n",
       "1                0.0  0.527658   \n",
       "\n",
       "                                   assemble_features  \\\n",
       "0  (0.0, 0.0, 16.0, 1.0, 0.0, 0.0, 2.0, 0.0, 14.9...   \n",
       "1  (0.0, 0.0, 9.0, 1.0, 0.0, 0.0, 1.0, 0.0, 5.5, ...   \n",
       "\n",
       "                                            features  \n",
       "0  (0.0, 0.0, 1.3333333333333333, 0.0, 0.0, 0.0, ...  \n",
       "1  (0.0, 0.0, 0.75, 0.0, 0.0, 0.0, 0.0, 0.0, 0.20...  "
      ]
     },
     "execution_count": 14,
     "metadata": {},
     "output_type": "execute_result"
    }
   ],
   "source": [
    "# Apply Scaler before splitting\n",
    "from pyspark.ml.feature import RobustScaler\n",
    "\n",
    "\n",
    "scaler = RobustScaler(inputCol=\"assemble_features\", outputCol=\"features\",\n",
    "                        withScaling=True, withCentering=False,\n",
    "                        lower=0.25, upper=0.75)\n",
    "\n",
    "scaler_model = scaler.fit(output)\n",
    "\n",
    "df_scaled = scaler_model.transform(output)\n",
    "df_scaled.limit(2).toPandas()"
   ]
  },
  {
   "cell_type": "code",
   "execution_count": 15,
   "id": "a02f572c",
   "metadata": {},
   "outputs": [],
   "source": [
    "features_label = df_scaled.withColumn(\"label\", col(\"target\"))"
   ]
  },
  {
   "cell_type": "markdown",
   "id": "dcf7f2e5",
   "metadata": {},
   "source": [
    "# Model Training and Validation"
   ]
  },
  {
   "cell_type": "raw",
   "id": "a1353f7d",
   "metadata": {},
   "source": [
    "In this section, four models will be trained and the best performing model chosen for demonstration."
   ]
  },
  {
   "cell_type": "markdown",
   "id": "1619b96e",
   "metadata": {},
   "source": [
    "### Split Normalized Data Into Train and Test sets"
   ]
  },
  {
   "cell_type": "code",
   "execution_count": 16,
   "id": "05d2aa63",
   "metadata": {},
   "outputs": [
    {
     "name": "stderr",
     "output_type": "stream",
     "text": [
      "                                                                                \r"
     ]
    },
    {
     "name": "stdout",
     "output_type": "stream",
     "text": [
      "Test split: 1831756\n"
     ]
    },
    {
     "name": "stderr",
     "output_type": "stream",
     "text": [
      "[Stage 68:==============================================>           (4 + 1) / 5]\r"
     ]
    },
    {
     "name": "stdout",
     "output_type": "stream",
     "text": [
      "Train split: 4273767\n"
     ]
    },
    {
     "name": "stderr",
     "output_type": "stream",
     "text": [
      "\r",
      "                                                                                \r"
     ]
    }
   ],
   "source": [
    "# Randomly split normalized data into train and test\n",
    "\n",
    "df_model = features_label.select([\"features\", \"label\", \"weights\"])\n",
    "\n",
    "train, test = df_model.randomSplit([0.7, 0.3], 56)\n",
    "print('Test split:', test.count())\n",
    "print('Train split:', train.count())"
   ]
  },
  {
   "cell_type": "code",
   "execution_count": 17,
   "id": "ffa60824",
   "metadata": {},
   "outputs": [],
   "source": [
    "from pyspark.ml.evaluation import BinaryClassificationEvaluator, MulticlassClassificationEvaluator\n",
    "\n",
    "def model_evaluation(results, metric, evaluator):\n",
    "    \n",
    "    predict_label = results.select(\"prediction\", \"label\")\n",
    "\n",
    "    \n",
    "    print(metric + \": \" + str(evaluator.evaluate(predict_label)))\n",
    "    \n",
    "    return evaluator.evaluate(predict_label)"
   ]
  },
  {
   "cell_type": "markdown",
   "id": "deff1690",
   "metadata": {},
   "source": [
    "# Logistic Regression"
   ]
  },
  {
   "cell_type": "code",
   "execution_count": 76,
   "id": "30753661",
   "metadata": {},
   "outputs": [],
   "source": [
    "from pyspark.ml.classification import LogisticRegression, LogisticRegressionModel\n",
    "from pyspark.ml.tuning import ParamGridBuilder, TrainValidationSplit, CrossValidator\n",
    "from pyspark.ml.evaluation import BinaryClassificationEvaluator, MulticlassClassificationEvaluator"
   ]
  },
  {
   "cell_type": "markdown",
   "id": "06bc1867",
   "metadata": {},
   "source": [
    "### Hyperparameter Tuning: Log Regression "
   ]
  },
  {
   "cell_type": "code",
   "execution_count": 130,
   "id": "85019cb5",
   "metadata": {},
   "outputs": [
    {
     "name": "stderr",
     "output_type": "stream",
     "text": [
      "[Stage 1788:============================>                           (2 + 2) / 4]\r"
     ]
    },
    {
     "data": {
      "text/plain": [
       "[0.8193810772544421, 0.8101112489514866, 0.800369462676797]"
      ]
     },
     "execution_count": 130,
     "metadata": {},
     "output_type": "execute_result"
    }
   ],
   "source": [
    "def LogModel(train):\n",
    "    \"\"\"\n",
    "    LogModel initialises the Logistic Regression Model\n",
    "    for parameter tuning.  \n",
    "    :train: is the training set of the data\n",
    "    \"\"\"\n",
    "    \n",
    "    LR = LogisticRegression(maxIter=5, elasticNetParam=0.8, weightCol=\"weights\") \n",
    "    \n",
    "    #set parameters for the model\n",
    "    param_grid = ParamGridBuilder()\\\n",
    "                .addGrid(LR.regParam, [0.1, 0.2, 0.3]) \\\n",
    "                .build()\n",
    "    \n",
    "    #set validation\n",
    "    val_LR =   CrossValidator(estimator=LR,\n",
    "                           estimatorParamMaps=param_grid,\n",
    "                           evaluator=MulticlassClassificationEvaluator(metricName=\"accuracy\", weightCol=\"weights\"),\n",
    "                           numFolds=10)\n",
    "    \n",
    "    #fit the Log Regression model and validation\n",
    "    model = val_LR.fit(train)\n",
    "\n",
    "    return model, model.avgMetrics\n",
    "LR_tune_model, ACU_metric = LogModel(train)\n",
    "ACU_metric"
   ]
  },
  {
   "cell_type": "code",
   "execution_count": 131,
   "id": "6e147516",
   "metadata": {},
   "outputs": [
    {
     "name": "stderr",
     "output_type": "stream",
     "text": [
      "                                                                                \r"
     ]
    },
    {
     "name": "stdout",
     "output_type": "stream",
     "text": [
      "areaUnderROC: 0.818004885905463\n"
     ]
    },
    {
     "name": "stderr",
     "output_type": "stream",
     "text": [
      "                                                                                \r"
     ]
    },
    {
     "name": "stdout",
     "output_type": "stream",
     "text": [
      "accuracy: 0.879113266177373\n"
     ]
    },
    {
     "name": "stderr",
     "output_type": "stream",
     "text": [
      "                                                                                \r"
     ]
    },
    {
     "name": "stdout",
     "output_type": "stream",
     "text": [
      "f1: 0.9045846111783516\n"
     ]
    },
    {
     "name": "stderr",
     "output_type": "stream",
     "text": [
      "                                                                                \r"
     ]
    },
    {
     "name": "stdout",
     "output_type": "stream",
     "text": [
      "precision_eval: 0.9845937496799566\n"
     ]
    },
    {
     "name": "stderr",
     "output_type": "stream",
     "text": [
      "                                                                                \r"
     ]
    },
    {
     "name": "stdout",
     "output_type": "stream",
     "text": [
      "recallByLabel: 0.8862827231164132\n"
     ]
    },
    {
     "name": "stderr",
     "output_type": "stream",
     "text": [
      "                                                                                \r"
     ]
    },
    {
     "data": {
      "text/plain": [
       "0.8862827231164132"
      ]
     },
     "execution_count": 131,
     "metadata": {},
     "output_type": "execute_result"
    }
   ],
   "source": [
    "results = LR_tune_model.bestModel.transform(test)\n",
    "\n",
    "auc_eval = BinaryClassificationEvaluator(metricName=\"areaUnderROC\", rawPredictionCol=\"prediction\")\n",
    "accuracy_eval = MulticlassClassificationEvaluator(metricName=\"accuracy\")\n",
    "f1_eval = MulticlassClassificationEvaluator(metricName=\"f1\")\n",
    "precision_eval = MulticlassClassificationEvaluator(metricName=\"precisionByLabel\")\n",
    "recall_eval = MulticlassClassificationEvaluator(metricName=\"recallByLabel\")\n",
    "\n",
    "\n",
    "model_evaluation(results, \"areaUnderROC\",  auc_eval)\n",
    "model_evaluation(results, \"accuracy\",  accuracy_eval)\n",
    "model_evaluation(results, \"f1\",  f1_eval)\n",
    "model_evaluation(results, \"precision_eval\",  precision_eval)\n",
    "model_evaluation(results, \"recallByLabel\",  recall_eval)"
   ]
  },
  {
   "cell_type": "code",
   "execution_count": 132,
   "id": "af27ff34",
   "metadata": {},
   "outputs": [
    {
     "name": "stderr",
     "output_type": "stream",
     "text": [
      "                                                                                \r"
     ]
    }
   ],
   "source": [
    "from pyspark.mllib.evaluation import MulticlassMetrics\n",
    "\n",
    "predictandLabel = results.select(['prediction', 'label']\\\n",
    "                                      ).withColumn('label',col('label').cast(DoubleType())).rdd\n",
    "\n",
    "metrics = MulticlassMetrics(predictandLabel)\n",
    "cm=metrics.confusionMatrix().toArray()"
   ]
  },
  {
   "cell_type": "code",
   "execution_count": 145,
   "id": "a06a6d9b",
   "metadata": {},
   "outputs": [
    {
     "data": {
      "image/png": "[encoded data removed]",
      "text/plain": [
       "<Figure size 720x432 with 2 Axes>"
      ]
     },
     "metadata": {},
     "output_type": "display_data"
    }
   ],
   "source": [
    "sns.set_theme()\n",
    "fig = plt.figure(figsize=(10,6))\n",
    "ax = plt.subplot(111)\n",
    "sns.set(font_scale=1.4)\n",
    "sns.heatmap(cm, annot=True, fmt='g', cmap=\"Blues\", ax=ax, annot_kws={\"size\": 16})\n",
    "classes = [\"Not Transacting\", \"Transacting\"]\n",
    "\n",
    "tick_marks = np.arange(len(classes))\n",
    "\n",
    "plt.xlabel('Predicted labels')\n",
    "plt.ylabel('True labels') \n",
    "# plt.xticks(tick_marks, classes, rotation=45)\n",
    "# plt.yticks(tick_marks, classes, rotation=0)\n",
    "plt.title('Logistic Regression Confusion Matrix')\n",
    "plt.show()"
   ]
  },
  {
   "cell_type": "code",
   "execution_count": 77,
   "id": "e2a09be6",
   "metadata": {},
   "outputs": [
    {
     "name": "stderr",
     "output_type": "stream",
     "text": [
      "[Stage 253:============================>                            (2 + 2) / 4]\r"
     ]
    }
   ],
   "source": [
    "LR = LogisticRegression(maxIter=10, regParam=0.3, elasticNetParam=0.8, weightCol=\"weights\")\n",
    "\n",
    "LR_model = LR.fit(train)"
   ]
  },
  {
   "cell_type": "code",
   "execution_count": 78,
   "id": "cc2924ba",
   "metadata": {},
   "outputs": [
    {
     "name": "stderr",
     "output_type": "stream",
     "text": [
      "                                                                                \r"
     ]
    },
    {
     "data": {
      "image/png": "[encoded data removed]",
      "text/plain": [
       "<Figure size 432x288 with 1 Axes>"
      ]
     },
     "metadata": {
      "needs_background": "light"
     },
     "output_type": "display_data"
    }
   ],
   "source": [
    "# Test the model\n",
    "LR_summary = LR_model.summary\n",
    "\n",
    "LR_result = LR_model.transform(test)\n",
    "\n",
    "ROC = LR_summary.roc.toPandas()\n",
    "label = 'ROC curve (area = %.2f)'% LR_summary.areaUnderROC\n",
    "plt.plot(ROC['FPR'],ROC['TPR'], label=label)\n",
    "plt.plot([0, 1], [0, 1], 'k--')\n",
    "plt.ylabel('False Positive Rate')\n",
    "plt.xlabel('True Positive Rate')\n",
    "plt.title('ROC Curve - Random Forest Tree')\n",
    "plt.legend(loc=\"lower right\")\n",
    "plt.show()\n",
    "\n",
    "print('Training set ROC: ' + str(LR_summary.areaUnderROC))"
   ]
  },
  {
   "cell_type": "code",
   "execution_count": 79,
   "id": "67ba1dec",
   "metadata": {},
   "outputs": [
    {
     "name": "stderr",
     "output_type": "stream",
     "text": [
      "                                                                                \r"
     ]
    },
    {
     "name": "stdout",
     "output_type": "stream",
     "text": [
      "areaUnderROC: 0.7986453771937666\n"
     ]
    },
    {
     "name": "stderr",
     "output_type": "stream",
     "text": [
      "                                                                                \r"
     ]
    },
    {
     "name": "stdout",
     "output_type": "stream",
     "text": [
      "accuracy: 0.8928951235863292\n"
     ]
    },
    {
     "name": "stderr",
     "output_type": "stream",
     "text": [
      "                                                                                \r"
     ]
    },
    {
     "name": "stdout",
     "output_type": "stream",
     "text": [
      "f1: 0.9129875706141914\n"
     ]
    },
    {
     "name": "stderr",
     "output_type": "stream",
     "text": [
      "                                                                                \r"
     ]
    },
    {
     "name": "stdout",
     "output_type": "stream",
     "text": [
      "Precision: 0.9815488066347218\n"
     ]
    },
    {
     "name": "stderr",
     "output_type": "stream",
     "text": [
      "                                                                                \r"
     ]
    },
    {
     "name": "stdout",
     "output_type": "stream",
     "text": [
      "Recall: 0.9039528458704126\n"
     ]
    },
    {
     "name": "stderr",
     "output_type": "stream",
     "text": [
      "                                                                                \r"
     ]
    },
    {
     "data": {
      "text/plain": [
       "0.9039528458704126"
      ]
     },
     "execution_count": 79,
     "metadata": {},
     "output_type": "execute_result"
    }
   ],
   "source": [
    "auc_eval = BinaryClassificationEvaluator(metricName=\"areaUnderROC\", rawPredictionCol=\"prediction\")\n",
    "accuracy_eval = MulticlassClassificationEvaluator(metricName=\"accuracy\")\n",
    "f1_eval = MulticlassClassificationEvaluator(metricName=\"f1\")\n",
    "precision_eval = MulticlassClassificationEvaluator(metricName=\"precisionByLabel\")\n",
    "recall_eval = MulticlassClassificationEvaluator(metricName=\"recallByLabel\")\n",
    "\n",
    "\n",
    "model_evaluation(LR_result, \"areaUnderROC\",  auc_eval)\n",
    "model_evaluation(LR_result, \"accuracy\",  accuracy_eval)\n",
    "model_evaluation(LR_result, \"f1\",  f1_eval)\n",
    "model_evaluation(LR_result, \"Precision\",  precision_eval)\n",
    "model_evaluation(LR_result, \"Recall\",  recall_eval)"
   ]
  },
  {
   "cell_type": "code",
   "execution_count": 84,
   "id": "e42e3df7",
   "metadata": {},
   "outputs": [
    {
     "name": "stderr",
     "output_type": "stream",
     "text": [
      "                                                                                \r"
     ]
    },
    {
     "data": {
      "text/html": [
       "<table border='1'>\n",
       "<tr><th>prediction_label</th><th>0</th><th>1</th></tr>\n",
       "<tr><td>1.0</td><td>166698</td><td>66679</td></tr>\n",
       "<tr><td>0.0</td><td>1568887</td><td>29492</td></tr>\n",
       "</table>\n"
      ],
      "text/plain": [
       "+----------------+-------+-----+\n",
       "|prediction_label|      0|    1|\n",
       "+----------------+-------+-----+\n",
       "|             1.0| 166698|66679|\n",
       "|             0.0|1568887|29492|\n",
       "+----------------+-------+-----+"
      ]
     },
     "execution_count": 84,
     "metadata": {},
     "output_type": "execute_result"
    }
   ],
   "source": [
    "conf_matrix = LR_result.crosstab(\"prediction\", \"label\")\n",
    "conf_matrix"
   ]
  },
  {
   "cell_type": "code",
   "execution_count": 56,
   "id": "26881140",
   "metadata": {},
   "outputs": [],
   "source": [
    "from pyspark.mllib.linalg import Vectors as mllib_vectors\n",
    "from pyspark.ml.linalg import Vectors as ml_vectors\n",
    "\n",
    "# y = ml_vectors.dense([13, 2, 20, 6, 1])\n",
    "\n",
    "# predictn = LRModel.predict(y)\n",
    "# predictn"
   ]
  },
  {
   "cell_type": "code",
   "execution_count": 86,
   "id": "11b45885",
   "metadata": {},
   "outputs": [
    {
     "name": "stderr",
     "output_type": "stream",
     "text": [
      "                                                                                \r"
     ]
    }
   ],
   "source": [
    "#Save Model \n",
    "path = \"home/jovyan/work/research_model_logR\"\n",
    "\n",
    "LR_model.save(path)"
   ]
  },
  {
   "cell_type": "markdown",
   "id": "b3714908",
   "metadata": {},
   "source": [
    "# Random Forest Tree"
   ]
  },
  {
   "cell_type": "code",
   "execution_count": 21,
   "id": "38aa6dc9",
   "metadata": {},
   "outputs": [],
   "source": [
    "from pyspark.ml.classification import RandomForestClassifier, RandomForestClassificationModel\n",
    "from pyspark.ml.tuning import ParamGridBuilder, CrossValidator\n",
    "from pyspark.ml.evaluation import BinaryClassificationEvaluator"
   ]
  },
  {
   "cell_type": "markdown",
   "id": "37946bd8",
   "metadata": {},
   "source": [
    "### Hyperparameter Tuning: Random Forest "
   ]
  },
  {
   "cell_type": "code",
   "execution_count": 146,
   "id": "aed0c465",
   "metadata": {},
   "outputs": [
    {
     "name": "stderr",
     "output_type": "stream",
     "text": [
      "[Stage 3156:============================>                           (2 + 2) / 4]\r"
     ]
    }
   ],
   "source": [
    "def RFModel(train):\n",
    "    \n",
    "    estimator = RandomForestClassifier(seed=42, weightCol=\"weights\")\n",
    "    \n",
    "    param_grid = (ParamGridBuilder()\\\n",
    "                 .addGrid(estimator.maxDepth, [4, 7])\\\n",
    "                 .addGrid(estimator.numTrees, [3, 5])\\\n",
    "                 .build())\n",
    "    \n",
    "    model_validate =  CrossValidator(estimator=estimator,\n",
    "                               estimatorParamMaps=param_grid,\n",
    "                               evaluator=MulticlassClassificationEvaluator(metricName=\"accuracy\", weightCol=\"weights\"),\n",
    "                               numFolds=10)\n",
    "    model = model_validate.fit(train)\n",
    "    \n",
    "    return model, model.avgMetrics\n",
    "RF_model, ACU_Metrics = RFModel(train)"
   ]
  },
  {
   "cell_type": "code",
   "execution_count": 147,
   "id": "d4c4eaa5",
   "metadata": {},
   "outputs": [
    {
     "data": {
      "text/plain": [
       "[0.866021730442261, 0.8662318177992587, 0.8673321839770278, 0.8666636437600749]"
      ]
     },
     "execution_count": 147,
     "metadata": {},
     "output_type": "execute_result"
    }
   ],
   "source": [
    "ACU_Metrics"
   ]
  },
  {
   "cell_type": "code",
   "execution_count": 148,
   "id": "bc169161",
   "metadata": {},
   "outputs": [
    {
     "name": "stderr",
     "output_type": "stream",
     "text": [
      "                                                                                \r"
     ]
    },
    {
     "name": "stdout",
     "output_type": "stream",
     "text": [
      "areaUnderROC: 0.8670968023549739\n"
     ]
    },
    {
     "name": "stderr",
     "output_type": "stream",
     "text": [
      "                                                                                \r"
     ]
    },
    {
     "name": "stdout",
     "output_type": "stream",
     "text": [
      "accuracy: 0.8042659611869704\n"
     ]
    },
    {
     "name": "stderr",
     "output_type": "stream",
     "text": [
      "                                                                                \r"
     ]
    },
    {
     "name": "stdout",
     "output_type": "stream",
     "text": [
      "f1: 0.8563455894545383\n"
     ]
    },
    {
     "name": "stderr",
     "output_type": "stream",
     "text": [
      "                                                                                \r"
     ]
    },
    {
     "name": "stdout",
     "output_type": "stream",
     "text": [
      "precision_eval: 0.9956590848227783\n"
     ]
    },
    {
     "name": "stderr",
     "output_type": "stream",
     "text": [
      "                                                                                \r"
     ]
    },
    {
     "name": "stdout",
     "output_type": "stream",
     "text": [
      "recallByLabel: 0.7968944188846988\n"
     ]
    },
    {
     "name": "stderr",
     "output_type": "stream",
     "text": [
      "                                                                                \r"
     ]
    },
    {
     "data": {
      "text/plain": [
       "0.7968944188846988"
      ]
     },
     "execution_count": 148,
     "metadata": {},
     "output_type": "execute_result"
    }
   ],
   "source": [
    "predictions = RF_model.bestModel.transform(test)\n",
    "\n",
    "auc_eval = BinaryClassificationEvaluator(metricName=\"areaUnderROC\", rawPredictionCol=\"prediction\")\n",
    "accuracy_eval = MulticlassClassificationEvaluator(metricName=\"accuracy\")\n",
    "f1_eval = MulticlassClassificationEvaluator(metricName=\"f1\")\n",
    "precision_eval = MulticlassClassificationEvaluator(metricName=\"precisionByLabel\")\n",
    "recall_eval = MulticlassClassificationEvaluator(metricName=\"recallByLabel\")\n",
    "\n",
    "\n",
    "model_evaluation(predictions, \"areaUnderROC\",  auc_eval)\n",
    "model_evaluation(predictions, \"accuracy\",  accuracy_eval)\n",
    "model_evaluation(predictions, \"f1\",  f1_eval)\n",
    "model_evaluation(predictions, \"precision_eval\",  precision_eval)\n",
    "model_evaluation(predictions, \"recallByLabel\",  recall_eval)"
   ]
  },
  {
   "cell_type": "code",
   "execution_count": 149,
   "id": "de58e007",
   "metadata": {},
   "outputs": [
    {
     "name": "stderr",
     "output_type": "stream",
     "text": [
      "                                                                                \r"
     ]
    }
   ],
   "source": [
    "from pyspark.mllib.evaluation import MulticlassMetrics\n",
    "\n",
    "predictandLabel = predictions.select(['prediction', 'label']\\\n",
    "                                      ).withColumn('label',col('label').cast(DoubleType())).rdd\n",
    "\n",
    "metrics = MulticlassMetrics(predictandLabel)\n",
    "cm=metrics.confusionMatrix().toArray()"
   ]
  },
  {
   "cell_type": "code",
   "execution_count": 155,
   "id": "dc99148b",
   "metadata": {},
   "outputs": [
    {
     "data": {
      "image/png": "[encoded data removed]",
      "text/plain": [
       "<Figure size 720x432 with 2 Axes>"
      ]
     },
     "metadata": {},
     "output_type": "display_data"
    }
   ],
   "source": [
    "fig = plt.figure(figsize=(10,6))\n",
    "ax = plt.subplot(111)\n",
    "sns.heatmap(cm, annot=True, fmt='g', cmap=\"BrBG\", ax=ax)\n",
    "classes = [\"Not Transacting\", \"Transacting\"]\n",
    "\n",
    "tick_marks = np.arange(len(classes))\n",
    "\n",
    "plt.xlabel('Predicted labels')\n",
    "plt.ylabel('True labels') \n",
    "# plt.xticks(tick_marks, classes, rotation=0)\n",
    "# plt.yticks(tick_marks, classes, rotation=0) \n",
    "# plt.setp(ax.get_xticklabels(), rotation=45, ha=\"right\", rotation_mode=\"anchor\")\n",
    "plt.title('Random Forest Confusion Matrix')\n",
    "plt.show()"
   ]
  },
  {
   "cell_type": "code",
   "execution_count": 88,
   "id": "6bd08876",
   "metadata": {},
   "outputs": [
    {
     "name": "stderr",
     "output_type": "stream",
     "text": [
      "[Stage 418:============================>                            (2 + 2) / 4]\r"
     ]
    }
   ],
   "source": [
    "RF = RandomForestClassifier(maxDepth=10, weightCol=\"weights\")\n",
    "RFModel = RF.fit(train)"
   ]
  },
  {
   "cell_type": "code",
   "execution_count": 89,
   "id": "4ee717b9",
   "metadata": {},
   "outputs": [
    {
     "name": "stderr",
     "output_type": "stream",
     "text": [
      "                                                                                \r"
     ]
    },
    {
     "data": {
      "image/png": "[encoded data removed]",
      "text/plain": [
       "<Figure size 432x288 with 1 Axes>"
      ]
     },
     "metadata": {
      "needs_background": "light"
     },
     "output_type": "display_data"
    }
   ],
   "source": [
    "RF_summary = RFModel.summary\n",
    "\n",
    "RF_result = RFModel.transform(test)\n",
    "\n",
    "\n",
    "\n",
    "ROC = RF_summary.roc.toPandas()\n",
    "label = 'ROC curve (area = %.2f)'% RF_summary.areaUnderROC\n",
    "plt.plot(ROC['FPR'],ROC['TPR'], label=label)\n",
    "plt.plot([0, 1], [0, 1], 'k--')\n",
    "plt.ylabel('False Positive Rate')\n",
    "plt.xlabel('True Positive Rate')\n",
    "plt.title('ROC Curve - Random Forest Tree')\n",
    "plt.legend(loc=\"lower right\")\n",
    "plt.show()"
   ]
  },
  {
   "cell_type": "code",
   "execution_count": 90,
   "id": "57755a83",
   "metadata": {},
   "outputs": [
    {
     "name": "stderr",
     "output_type": "stream",
     "text": [
      "                                                                                \r"
     ]
    },
    {
     "name": "stdout",
     "output_type": "stream",
     "text": [
      "areaUnderROC: 0.8684208977236921\n"
     ]
    },
    {
     "name": "stderr",
     "output_type": "stream",
     "text": [
      "                                                                                \r"
     ]
    },
    {
     "name": "stdout",
     "output_type": "stream",
     "text": [
      "accuracy: 0.7964172084054864\n"
     ]
    },
    {
     "name": "stderr",
     "output_type": "stream",
     "text": [
      "                                                                                \r"
     ]
    },
    {
     "name": "stdout",
     "output_type": "stream",
     "text": [
      "f1: 0.8510673216866727\n"
     ]
    },
    {
     "name": "stderr",
     "output_type": "stream",
     "text": [
      "                                                                                \r"
     ]
    },
    {
     "name": "stdout",
     "output_type": "stream",
     "text": [
      "Precision: 0.9964174993898018\n"
     ]
    },
    {
     "name": "stderr",
     "output_type": "stream",
     "text": [
      "                                                                                \r"
     ]
    },
    {
     "name": "stdout",
     "output_type": "stream",
     "text": [
      "Recall: 0.7879694742694826\n"
     ]
    },
    {
     "name": "stderr",
     "output_type": "stream",
     "text": [
      "                                                                                \r"
     ]
    },
    {
     "data": {
      "text/plain": [
       "0.7879694742694826"
      ]
     },
     "execution_count": 90,
     "metadata": {},
     "output_type": "execute_result"
    }
   ],
   "source": [
    "auc_eval = BinaryClassificationEvaluator(metricName=\"areaUnderROC\", rawPredictionCol=\"prediction\")\n",
    "accuracy_eval = MulticlassClassificationEvaluator(metricName=\"accuracy\")\n",
    "f1_eval = MulticlassClassificationEvaluator(metricName=\"f1\")\n",
    "precision_eval = MulticlassClassificationEvaluator(metricName=\"precisionByLabel\")\n",
    "recall_eval = MulticlassClassificationEvaluator(metricName=\"recallByLabel\")\n",
    "\n",
    "\n",
    "model_evaluation(RF_result, \"areaUnderROC\",  auc_eval)\n",
    "model_evaluation(RF_result, \"accuracy\",  accuracy_eval)\n",
    "model_evaluation(RF_result, \"f1\",  f1_eval)\n",
    "model_evaluation(RF_result, \"Precision\",  precision_eval)\n",
    "model_evaluation(RF_result, \"Recall\",  recall_eval)"
   ]
  },
  {
   "cell_type": "code",
   "execution_count": 91,
   "id": "1cebfa66",
   "metadata": {},
   "outputs": [
    {
     "name": "stderr",
     "output_type": "stream",
     "text": [
      "                                                                                \r"
     ]
    },
    {
     "data": {
      "text/html": [
       "<table border='1'>\n",
       "<tr><th>prediction_label</th><th>0</th><th>1</th></tr>\n",
       "<tr><td>1.0</td><td>367997</td><td>91254</td></tr>\n",
       "<tr><td>0.0</td><td>1367588</td><td>4917</td></tr>\n",
       "</table>\n"
      ],
      "text/plain": [
       "+----------------+-------+-----+\n",
       "|prediction_label|      0|    1|\n",
       "+----------------+-------+-----+\n",
       "|             1.0| 367997|91254|\n",
       "|             0.0|1367588| 4917|\n",
       "+----------------+-------+-----+"
      ]
     },
     "execution_count": 91,
     "metadata": {},
     "output_type": "execute_result"
    }
   ],
   "source": [
    "cm = RF_result.crosstab(\"prediction\", \"label\")\n",
    "cm"
   ]
  },
  {
   "cell_type": "code",
   "execution_count": 94,
   "id": "5be342d5",
   "metadata": {},
   "outputs": [],
   "source": [
    "#Save Model \n",
    "path = \"home/jovyan/work/researchModels_RF\"\n",
    "RFModel.save(path)"
   ]
  },
  {
   "cell_type": "code",
   "execution_count": null,
   "id": "b39da959",
   "metadata": {},
   "outputs": [],
   "source": []
  },
  {
   "cell_type": "markdown",
   "id": "69fff525",
   "metadata": {},
   "source": [
    "# Gradient Boosted Tree"
   ]
  },
  {
   "cell_type": "code",
   "execution_count": 95,
   "id": "73b2d290",
   "metadata": {},
   "outputs": [],
   "source": [
    "from pyspark.ml.classification import GBTClassifier, GBTClassificationModel  "
   ]
  },
  {
   "cell_type": "markdown",
   "id": "5af6e2b6",
   "metadata": {},
   "source": [
    "### Hyperparameter Tuning: Gradient Boost "
   ]
  },
  {
   "cell_type": "code",
   "execution_count": 157,
   "id": "1893ed82",
   "metadata": {},
   "outputs": [
    {
     "data": {
      "text/plain": [
       "[0.7775434196206802, 0.7895314389418782, 0.8081738939331399]"
      ]
     },
     "execution_count": 157,
     "metadata": {},
     "output_type": "execute_result"
    }
   ],
   "source": [
    "def GBTModel(train):\n",
    "        \n",
    "    estimator = GBTClassifier(maxIter=5, weightCol=\"weights\")\n",
    "    \n",
    "    param_grid = (ParamGridBuilder()\\\n",
    "                 .addGrid(estimator.maxDepth, [2, 3, 4])\\\n",
    "                 .build())\n",
    "    \n",
    "    model_validate =  CrossValidator(estimator=estimator,\n",
    "                               estimatorParamMaps=param_grid,\n",
    "                               evaluator=MulticlassClassificationEvaluator(metricName=\"accuracy\"),\n",
    "                               numFolds=10)\n",
    "    model = model_validate.fit(train)\n",
    "    \n",
    "    return model, model.avgMetrics\n",
    "GBT_model, auc_metrics = GBTModel(train)\n",
    "auc_metrics"
   ]
  },
  {
   "cell_type": "code",
   "execution_count": 158,
   "id": "5f96f1d2",
   "metadata": {},
   "outputs": [
    {
     "name": "stderr",
     "output_type": "stream",
     "text": [
      "                                                                                \r"
     ]
    },
    {
     "name": "stdout",
     "output_type": "stream",
     "text": [
      "areaUnderROC: 0.8664841722771894\n"
     ]
    },
    {
     "name": "stderr",
     "output_type": "stream",
     "text": [
      "                                                                                \r"
     ]
    },
    {
     "name": "stdout",
     "output_type": "stream",
     "text": [
      "accuracy: 0.8063901524002105\n"
     ]
    },
    {
     "name": "stderr",
     "output_type": "stream",
     "text": [
      "                                                                                \r"
     ]
    },
    {
     "name": "stdout",
     "output_type": "stream",
     "text": [
      "f1: 0.8577652078862615\n"
     ]
    },
    {
     "name": "stderr",
     "output_type": "stream",
     "text": [
      "                                                                                \r"
     ]
    },
    {
     "name": "stdout",
     "output_type": "stream",
     "text": [
      "precision_eval: 0.9954201211877693\n"
     ]
    },
    {
     "name": "stderr",
     "output_type": "stream",
     "text": [
      "                                                                                \r"
     ]
    },
    {
     "name": "stdout",
     "output_type": "stream",
     "text": [
      "recallByLabel: 0.799339703903871\n"
     ]
    },
    {
     "name": "stderr",
     "output_type": "stream",
     "text": [
      "                                                                                \r"
     ]
    },
    {
     "data": {
      "text/plain": [
       "0.799339703903871"
      ]
     },
     "execution_count": 158,
     "metadata": {},
     "output_type": "execute_result"
    }
   ],
   "source": [
    "# Evaluate the best Model\n",
    "\n",
    "predictions = GBT_model.bestModel.transform(test)\n",
    "\n",
    "auc_eval = BinaryClassificationEvaluator(metricName=\"areaUnderROC\", rawPredictionCol=\"prediction\")\n",
    "accuracy_eval = MulticlassClassificationEvaluator(metricName=\"accuracy\")\n",
    "f1_eval = MulticlassClassificationEvaluator(metricName=\"f1\")\n",
    "precision_eval = MulticlassClassificationEvaluator(metricName=\"precisionByLabel\")\n",
    "recall_eval = MulticlassClassificationEvaluator(metricName=\"recallByLabel\")\n",
    "\n",
    "\n",
    "model_evaluation(predictions, \"areaUnderROC\",  auc_eval)\n",
    "model_evaluation(predictions, \"accuracy\",  accuracy_eval)\n",
    "model_evaluation(predictions, \"f1\",  f1_eval)\n",
    "model_evaluation(predictions, \"precision_eval\",  precision_eval)\n",
    "model_evaluation(predictions, \"recallByLabel\",  recall_eval)"
   ]
  },
  {
   "cell_type": "code",
   "execution_count": 159,
   "id": "a8e1fe33",
   "metadata": {},
   "outputs": [
    {
     "name": "stderr",
     "output_type": "stream",
     "text": [
      "                                                                                \r"
     ]
    }
   ],
   "source": [
    "from pyspark.mllib.evaluation import MulticlassMetrics\n",
    "\n",
    "predictandLabel = predictions.select(['prediction', 'label']\\\n",
    "                                      ).withColumn('label',col('label').cast(DoubleType())).rdd\n",
    "\n",
    "metrics = MulticlassMetrics(predictandLabel)\n",
    "cm=metrics.confusionMatrix().toArray()"
   ]
  },
  {
   "cell_type": "code",
   "execution_count": 168,
   "id": "43c17d6e",
   "metadata": {},
   "outputs": [
    {
     "data": {
      "image/png": "[encoded data removed]",
      "text/plain": [
       "<Figure size 720x432 with 2 Axes>"
      ]
     },
     "metadata": {},
     "output_type": "display_data"
    }
   ],
   "source": [
    "fig = plt.figure(figsize=(10,6))\n",
    "ax = plt.subplot(111)\n",
    "sns.heatmap(cm, annot=True, fmt='g', cmap=\"PuBuGn\", ax=ax)\n",
    "classes = [\"Not Transacting\", \"Transacting\"]\n",
    "\n",
    "tick_marks = np.arange(len(classes))\n",
    "\n",
    "plt.xlabel('Predicted labels')\n",
    "plt.ylabel('True labels') \n",
    "# plt.xticks(tick_marks, classes, rotation=0)\n",
    "# plt.yticks(tick_marks, classes, rotation=0) \n",
    "plt.title('Grandient Boost Confusion Matrix')\n",
    "plt.show()"
   ]
  },
  {
   "cell_type": "code",
   "execution_count": 96,
   "id": "6fa2d6b3",
   "metadata": {},
   "outputs": [
    {
     "name": "stderr",
     "output_type": "stream",
     "text": [
      "                                                                                \r"
     ]
    }
   ],
   "source": [
    "GB = GBTClassifier(maxIter=10, seed=42, weightCol=\"weights\")\n",
    "\n",
    "GB_model = GB.fit(train)"
   ]
  },
  {
   "cell_type": "code",
   "execution_count": 97,
   "id": "385258a2",
   "metadata": {},
   "outputs": [],
   "source": [
    "GB_result = GB_model.transform(test)"
   ]
  },
  {
   "cell_type": "code",
   "execution_count": 98,
   "id": "994602e3",
   "metadata": {},
   "outputs": [
    {
     "name": "stderr",
     "output_type": "stream",
     "text": [
      "                                                                                \r"
     ]
    },
    {
     "name": "stdout",
     "output_type": "stream",
     "text": [
      "areaUnderROC: 0.8691957740909679\n"
     ]
    },
    {
     "name": "stderr",
     "output_type": "stream",
     "text": [
      "                                                                                \r"
     ]
    },
    {
     "name": "stdout",
     "output_type": "stream",
     "text": [
      "accuracy: 0.8056842723594191\n"
     ]
    },
    {
     "name": "stderr",
     "output_type": "stream",
     "text": [
      "                                                                                \r"
     ]
    },
    {
     "name": "stdout",
     "output_type": "stream",
     "text": [
      "f1: 0.857324892526265\n"
     ]
    },
    {
     "name": "stderr",
     "output_type": "stream",
     "text": [
      "                                                                                \r"
     ]
    },
    {
     "name": "stdout",
     "output_type": "stream",
     "text": [
      "Precision: 0.9958631526586522\n"
     ]
    },
    {
     "name": "stderr",
     "output_type": "stream",
     "text": [
      "                                                                                \r"
     ]
    },
    {
     "name": "stdout",
     "output_type": "stream",
     "text": [
      "Recall: 0.7982328724896792\n"
     ]
    },
    {
     "name": "stderr",
     "output_type": "stream",
     "text": [
      "                                                                                \r"
     ]
    },
    {
     "data": {
      "text/plain": [
       "0.7982328724896792"
      ]
     },
     "execution_count": 98,
     "metadata": {},
     "output_type": "execute_result"
    }
   ],
   "source": [
    "auc_eval = BinaryClassificationEvaluator(metricName=\"areaUnderROC\", rawPredictionCol=\"prediction\")\n",
    "accuracy_eval = MulticlassClassificationEvaluator(metricName=\"accuracy\")\n",
    "f1_eval = MulticlassClassificationEvaluator(metricName=\"f1\")\n",
    "precision_eval = MulticlassClassificationEvaluator(metricName=\"precisionByLabel\")\n",
    "recall_eval = MulticlassClassificationEvaluator(metricName=\"recallByLabel\")\n",
    "\n",
    "\n",
    "model_evaluation(GB_result, \"areaUnderROC\",  auc_eval)\n",
    "model_evaluation(GB_result, \"accuracy\",  accuracy_eval)\n",
    "model_evaluation(GB_result, \"f1\",  f1_eval)\n",
    "model_evaluation(GB_result, \"Precision\",  precision_eval)\n",
    "model_evaluation(GB_result, \"Recall\",  recall_eval)"
   ]
  },
  {
   "cell_type": "code",
   "execution_count": 107,
   "id": "ee10d8ff",
   "metadata": {},
   "outputs": [],
   "source": [
    "GB_summary = GB_model.featureImportances"
   ]
  },
  {
   "cell_type": "code",
   "execution_count": 103,
   "id": "356b7d03",
   "metadata": {},
   "outputs": [
    {
     "name": "stderr",
     "output_type": "stream",
     "text": [
      "                                                                                \r"
     ]
    },
    {
     "data": {
      "text/html": [
       "<table border='1'>\n",
       "<tr><th>prediction_label</th><th>0</th><th>1</th></tr>\n",
       "<tr><td>1.0</td><td>350184</td><td>90416</td></tr>\n",
       "<tr><td>0.0</td><td>1385401</td><td>5755</td></tr>\n",
       "</table>\n"
      ],
      "text/plain": [
       "+----------------+-------+-----+\n",
       "|prediction_label|      0|    1|\n",
       "+----------------+-------+-----+\n",
       "|             1.0| 350184|90416|\n",
       "|             0.0|1385401| 5755|\n",
       "+----------------+-------+-----+"
      ]
     },
     "execution_count": 103,
     "metadata": {},
     "output_type": "execute_result"
    }
   ],
   "source": [
    "cm = GB_result.crosstab(\"prediction\", \"label\")\n",
    "cm"
   ]
  },
  {
   "cell_type": "code",
   "execution_count": 126,
   "id": "b1b66be9",
   "metadata": {},
   "outputs": [],
   "source": [
    "#Save Model \n",
    "path = \"home/jovyan/work/gradientBoostT_model\"\n",
    "GB_model.save(path)"
   ]
  },
  {
   "cell_type": "markdown",
   "id": "4d4b521c",
   "metadata": {},
   "source": [
    "# Naive Bayes"
   ]
  },
  {
   "cell_type": "code",
   "execution_count": 19,
   "id": "ea7ff86a",
   "metadata": {},
   "outputs": [],
   "source": [
    "from pyspark.ml.classification import NaiveBayes, NaiveBayesModel"
   ]
  },
  {
   "cell_type": "markdown",
   "id": "9641dbda",
   "metadata": {},
   "source": [
    "### Hyperparameter Tuning: Naive Bayes"
   ]
  },
  {
   "cell_type": "code",
   "execution_count": 22,
   "id": "f0fc5c0c",
   "metadata": {},
   "outputs": [
    {
     "name": "stderr",
     "output_type": "stream",
     "text": [
      "21/11/27 05:34:02 WARN InstanceBuilder$NativeBLAS: Failed to load implementation from:dev.ludovic.netlib.blas.JNIBLAS\n",
      "21/11/27 05:34:02 WARN InstanceBuilder$NativeBLAS: Failed to load implementation from:dev.ludovic.netlib.blas.ForeignLinkerBLAS\n",
      "                                                                                \r"
     ]
    },
    {
     "data": {
      "text/plain": [
       "[0.9424071473141173, 0.9424071473141173, 0.9424071473141173]"
      ]
     },
     "execution_count": 22,
     "metadata": {},
     "output_type": "execute_result"
    }
   ],
   "source": [
    "# Tune the Naive Bayes model with parameters, select the best model \n",
    "def NByModel(train):\n",
    "    \n",
    "    estimator = NaiveBayes(thresholds=[1, 10], weightCol=\"weights\")\n",
    "    \n",
    "    param_grid = (ParamGridBuilder()\n",
    "                 .addGrid(estimator.smoothing, [1, 2, 3])\n",
    "                 .build())\n",
    "    \n",
    "    validator =  CrossValidator(estimator=estimator,\n",
    "                               estimatorParamMaps=param_grid,\n",
    "                               evaluator=MulticlassClassificationEvaluator(metricName=\"accuracy\"),\n",
    "                               numFolds=10)\n",
    "    \n",
    "    model = validator.fit(train)\n",
    "    \n",
    "    return model, model.avgMetrics\n",
    "\n",
    "\n",
    "Nb_model, Acu_metrics = NByModel(train)\n",
    "Acu_metrics"
   ]
  },
  {
   "cell_type": "code",
   "execution_count": 23,
   "id": "012b0ba2",
   "metadata": {},
   "outputs": [
    {
     "name": "stderr",
     "output_type": "stream",
     "text": [
      "                                                                                \r"
     ]
    },
    {
     "name": "stdout",
     "output_type": "stream",
     "text": [
      "areaUnderROC: 0.5717020429451439\n"
     ]
    },
    {
     "name": "stderr",
     "output_type": "stream",
     "text": [
      "                                                                                \r"
     ]
    },
    {
     "name": "stdout",
     "output_type": "stream",
     "text": [
      "accuracy: 0.9421871690334302\n"
     ]
    },
    {
     "name": "stderr",
     "output_type": "stream",
     "text": [
      "                                                                                \r"
     ]
    },
    {
     "name": "stdout",
     "output_type": "stream",
     "text": [
      "f1: 0.9307439074724574\n"
     ]
    },
    {
     "name": "stderr",
     "output_type": "stream",
     "text": [
      "                                                                                \r"
     ]
    },
    {
     "name": "stdout",
     "output_type": "stream",
     "text": [
      "precision_eval: 0.9547911855090679\n"
     ]
    },
    {
     "name": "stderr",
     "output_type": "stream",
     "text": [
      "                                                                                \r"
     ]
    },
    {
     "name": "stdout",
     "output_type": "stream",
     "text": [
      "recallByLabel: 0.9856538285361996\n"
     ]
    },
    {
     "name": "stderr",
     "output_type": "stream",
     "text": [
      "                                                                                \r"
     ]
    },
    {
     "data": {
      "text/plain": [
       "0.9856538285361996"
      ]
     },
     "execution_count": 23,
     "metadata": {},
     "output_type": "execute_result"
    }
   ],
   "source": [
    "# Evaluate the best Model\n",
    "\n",
    "predictions = Nb_model.bestModel.transform(test)\n",
    "\n",
    "auc_eval = BinaryClassificationEvaluator(metricName=\"areaUnderROC\", rawPredictionCol=\"prediction\")\n",
    "accuracy_eval = MulticlassClassificationEvaluator(metricName=\"accuracy\")\n",
    "f1_eval = MulticlassClassificationEvaluator(metricName=\"f1\")\n",
    "precision_eval = MulticlassClassificationEvaluator(metricName=\"precisionByLabel\")\n",
    "recall_eval = MulticlassClassificationEvaluator(metricName=\"recallByLabel\")\n",
    "\n",
    "\n",
    "model_evaluation(predictions, \"areaUnderROC\",  auc_eval)\n",
    "model_evaluation(predictions, \"accuracy\",  accuracy_eval)\n",
    "model_evaluation(predictions, \"f1\",  f1_eval)\n",
    "model_evaluation(predictions, \"precision_eval\",  precision_eval)\n",
    "model_evaluation(predictions, \"recallByLabel\",  recall_eval)"
   ]
  },
  {
   "cell_type": "code",
   "execution_count": 24,
   "id": "ffca335a",
   "metadata": {},
   "outputs": [
    {
     "name": "stderr",
     "output_type": "stream",
     "text": [
      "                                                                                \r"
     ]
    }
   ],
   "source": [
    "from pyspark.mllib.evaluation import MulticlassMetrics\n",
    "\n",
    "predictandLabel = predictions.select(['prediction', 'label']\\\n",
    "                                      ).withColumn('label',col('label').cast(DoubleType())).rdd\n",
    "\n",
    "metrics = MulticlassMetrics(predictandLabel)\n",
    "cm=metrics.confusionMatrix().toArray()"
   ]
  },
  {
   "cell_type": "code",
   "execution_count": 29,
   "id": "472fd9ad",
   "metadata": {},
   "outputs": [
    {
     "data": {
      "image/png": "[encoded data removed]",
      "text/plain": [
       "<Figure size 720x432 with 2 Axes>"
      ]
     },
     "metadata": {
      "needs_background": "light"
     },
     "output_type": "display_data"
    }
   ],
   "source": [
    "fig = plt.figure(figsize=(10,6))\n",
    "ax = plt.subplot(111)\n",
    "sns.heatmap(cm, annot=True, fmt='g', cmap=\"YlGnBu_r\", ax=ax)\n",
    "classes = [\"Not Transacting\", \"Transacting\"]\n",
    "\n",
    "tick_marks = np.arange(len(classes))\n",
    "\n",
    "plt.xlabel('Predicted labels')\n",
    "plt.ylabel('True labels') \n",
    "# plt.xticks(tick_marks, classes, rotation=0)\n",
    "# plt.yticks(tick_marks, classes, rotation=0) \n",
    "plt.title('Grandient Boost Confusion Matrix')\n",
    "plt.show()"
   ]
  },
  {
   "cell_type": "code",
   "execution_count": 109,
   "id": "92c6bee1",
   "metadata": {},
   "outputs": [
    {
     "name": "stderr",
     "output_type": "stream",
     "text": [
      "                                                                                \r"
     ]
    }
   ],
   "source": [
    "NB = NaiveBayes(weightCol=\"weights\")\n",
    "\n",
    "NBModel = NB.fit(train)"
   ]
  },
  {
   "cell_type": "code",
   "execution_count": 110,
   "id": "9d1d77da",
   "metadata": {},
   "outputs": [],
   "source": [
    "NB_result = NBModel.transform(test)"
   ]
  },
  {
   "cell_type": "code",
   "execution_count": 116,
   "id": "83b4d17c",
   "metadata": {},
   "outputs": [
    {
     "name": "stderr",
     "output_type": "stream",
     "text": [
      "                                                                                \r"
     ]
    },
    {
     "name": "stdout",
     "output_type": "stream",
     "text": [
      "areaUnderROC: 0.8065732146824798\n"
     ]
    },
    {
     "name": "stderr",
     "output_type": "stream",
     "text": [
      "                                                                                \r"
     ]
    },
    {
     "name": "stdout",
     "output_type": "stream",
     "text": [
      "accuracy: 0.8223562526886768\n"
     ]
    },
    {
     "name": "stderr",
     "output_type": "stream",
     "text": [
      "                                                                                \r"
     ]
    },
    {
     "name": "stdout",
     "output_type": "stream",
     "text": [
      "f1: 0.8674341179403299\n"
     ]
    },
    {
     "name": "stderr",
     "output_type": "stream",
     "text": [
      "                                                                                \r"
     ]
    },
    {
     "name": "stdout",
     "output_type": "stream",
     "text": [
      "Precision: 0.9860089151980899\n"
     ]
    },
    {
     "name": "stderr",
     "output_type": "stream",
     "text": [
      "                                                                                \r"
     ]
    },
    {
     "name": "stdout",
     "output_type": "stream",
     "text": [
      "Recall: 0.8242079759850425\n"
     ]
    },
    {
     "name": "stderr",
     "output_type": "stream",
     "text": [
      "                                                                                \r"
     ]
    },
    {
     "data": {
      "text/plain": [
       "0.8242079759850425"
      ]
     },
     "execution_count": 116,
     "metadata": {},
     "output_type": "execute_result"
    }
   ],
   "source": [
    "auc_eval = BinaryClassificationEvaluator(metricName=\"areaUnderROC\", rawPredictionCol=\"prediction\")\n",
    "accuracy_eval = MulticlassClassificationEvaluator(metricName=\"accuracy\")\n",
    "f1_eval = MulticlassClassificationEvaluator(metricName=\"f1\")\n",
    "precision_eval = MulticlassClassificationEvaluator(metricName=\"precisionByLabel\")\n",
    "recall_eval = MulticlassClassificationEvaluator(metricName=\"recallByLabel\")\n",
    "\n",
    "\n",
    "model_evaluation(NB_result, \"areaUnderROC\",  auc_eval)\n",
    "model_evaluation(NB_result, \"accuracy\",  accuracy_eval)\n",
    "model_evaluation(NB_result, \"f1\",  f1_eval)\n",
    "model_evaluation(NB_result, \"Precision\",  precision_eval)\n",
    "model_evaluation(NB_result, \"Recall\",  recall_eval)"
   ]
  },
  {
   "cell_type": "code",
   "execution_count": 124,
   "id": "bd047a38",
   "metadata": {},
   "outputs": [
    {
     "name": "stderr",
     "output_type": "stream",
     "text": [
      "                                                                                \r"
     ]
    },
    {
     "data": {
      "text/html": [
       "<div>\n",
       "<style scoped>\n",
       "    .dataframe tbody tr th:only-of-type {\n",
       "        vertical-align: middle;\n",
       "    }\n",
       "\n",
       "    .dataframe tbody tr th {\n",
       "        vertical-align: top;\n",
       "    }\n",
       "\n",
       "    .dataframe thead th {\n",
       "        text-align: right;\n",
       "    }\n",
       "</style>\n",
       "<table border=\"1\" class=\"dataframe\">\n",
       "  <thead>\n",
       "    <tr style=\"text-align: right;\">\n",
       "      <th></th>\n",
       "      <th>prediction_label</th>\n",
       "      <th>0</th>\n",
       "      <th>1</th>\n",
       "    </tr>\n",
       "  </thead>\n",
       "  <tbody>\n",
       "    <tr>\n",
       "      <th>0</th>\n",
       "      <td>1.0</td>\n",
       "      <td>305102</td>\n",
       "      <td>75873</td>\n",
       "    </tr>\n",
       "    <tr>\n",
       "      <th>1</th>\n",
       "      <td>0.0</td>\n",
       "      <td>1430483</td>\n",
       "      <td>20298</td>\n",
       "    </tr>\n",
       "  </tbody>\n",
       "</table>\n",
       "</div>"
      ],
      "text/plain": [
       "  prediction_label        0      1\n",
       "0              1.0   305102  75873\n",
       "1              0.0  1430483  20298"
      ]
     },
     "execution_count": 124,
     "metadata": {},
     "output_type": "execute_result"
    }
   ],
   "source": [
    "cm = NB_result.crosstab(\"prediction\", \"label\").toPandas()\n",
    "cm"
   ]
  },
  {
   "cell_type": "code",
   "execution_count": 129,
   "id": "21958e5c",
   "metadata": {},
   "outputs": [],
   "source": [
    "NB_summary = NB_result.summary"
   ]
  },
  {
   "cell_type": "code",
   "execution_count": 127,
   "id": "845ecb8a",
   "metadata": {},
   "outputs": [],
   "source": [
    "#Save Model \n",
    "path = \"home/jovyan/work/navebayes_model\"\n",
    "NBModel.save(path)"
   ]
  }
 ],
 "metadata": {
  "kernelspec": {
   "display_name": "Python 3 (ipykernel)",
   "language": "python",
   "name": "python3"
  },
  "language_info": {
   "codemirror_mode": {
    "name": "ipython",
    "version": 3
   },
   "file_extension": ".py",
   "mimetype": "text/x-python",
   "name": "python",
   "nbconvert_exporter": "python",
   "pygments_lexer": "ipython3",
   "version": "3.9.7"
  }
 },
 "nbformat": 4,
 "nbformat_minor": 5
}
