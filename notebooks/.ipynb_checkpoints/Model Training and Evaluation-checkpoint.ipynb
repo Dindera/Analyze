{
 "cells": [
  {
   "cell_type": "code",
   "execution_count": 1,
   "id": "9781c172",
   "metadata": {},
   "outputs": [],
   "source": [
    "import pyspark\n",
    "import pandas as pd\n",
    "import numpy as np\n",
    "import matplotlib.pyplot as plt\n",
    "import seaborn as sns\n",
    "import pyspark.sql.functions as fn\n",
    "from scipy.stats import mode\n",
    "from pyspark.sql import SparkSession\n",
    "from pyspark.sql.functions import count, col\n",
    "from pyspark.sql.types import FloatType, DoubleType, DecimalType\n",
    "from google.cloud import bigquery \n",
    "import warnings\n",
    "import os"
   ]
  },
  {
   "cell_type": "markdown",
   "id": "4b91c91b",
   "metadata": {},
   "source": [
    "# Start A Spark Session"
   ]
  },
  {
   "cell_type": "code",
   "execution_count": 2,
   "id": "4bc55248",
   "metadata": {},
   "outputs": [
    {
     "name": "stderr",
     "output_type": "stream",
     "text": [
      "WARNING: An illegal reflective access operation has occurred\n",
      "WARNING: Illegal reflective access by org.apache.spark.unsafe.Platform (file:/usr/local/spark-3.2.0-bin-hadoop3.2/jars/spark-unsafe_2.12-3.2.0.jar) to constructor java.nio.DirectByteBuffer(long,int)\n",
      "WARNING: Please consider reporting this to the maintainers of org.apache.spark.unsafe.Platform\n",
      "WARNING: Use --illegal-access=warn to enable warnings of further illegal reflective access operations\n",
      "WARNING: All illegal access operations will be denied in a future release\n",
      "21/11/16 08:41:48 WARN NativeCodeLoader: Unable to load native-hadoop library for your platform... using builtin-java classes where applicable\n",
      "Using Spark's default log4j profile: org/apache/spark/log4j-defaults.properties\n",
      "Setting default log level to \"WARN\".\n",
      "To adjust logging level use sc.setLogLevel(newLevel). For SparkR, use setLogLevel(newLevel).\n"
     ]
    }
   ],
   "source": [
    "# Initialise a sparksession with Hive Store Support\n",
    "warnings.filterwarnings('ignore')\n",
    "\n",
    "\n",
    "spark = SparkSession.builder \\\n",
    "        .master('local[4]')\\\n",
    "        .enableHiveSupport()\\\n",
    "        .appName('Research_Notebook')\\\n",
    "        .config('spark.sql.execution.arrow.pyspark.enabled', True) \\\n",
    "        .config('spark.driver.memory','32G') \\\n",
    "        .config('spark.ui.showConsoleProgress', True) \\\n",
    "        .config('spark.sql.repl.eagerEval.enabled', True) \\\n",
    "        .config('spark.jars', '/home/jovyan/work/Downloads/spark-bigquery-with-dependencies_2.12-0.22.0.jar') \\\n",
    "        .getOrCreate()"
   ]
  },
  {
   "cell_type": "code",
   "execution_count": 4,
   "id": "627215a6",
   "metadata": {},
   "outputs": [
    {
     "data": {
      "text/html": [
       "\n",
       "            <div>\n",
       "                <p><b>SparkSession - hive</b></p>\n",
       "                \n",
       "        <div>\n",
       "            <p><b>SparkContext</b></p>\n",
       "\n",
       "            <p><a href=\"http://11a874d82ba9:4040\">Spark UI</a></p>\n",
       "\n",
       "            <dl>\n",
       "              <dt>Version</dt>\n",
       "                <dd><code>v3.2.0</code></dd>\n",
       "              <dt>Master</dt>\n",
       "                <dd><code>local[4]</code></dd>\n",
       "              <dt>AppName</dt>\n",
       "                <dd><code>Research_Notebook</code></dd>\n",
       "            </dl>\n",
       "        </div>\n",
       "        \n",
       "            </div>\n",
       "        "
      ],
      "text/plain": [
       "<pyspark.sql.session.SparkSession at 0x7ff26c493760>"
      ]
     },
     "execution_count": 4,
     "metadata": {},
     "output_type": "execute_result"
    }
   ],
   "source": [
    "spark"
   ]
  },
  {
   "cell_type": "code",
   "execution_count": 3,
   "id": "ec799b97",
   "metadata": {},
   "outputs": [
    {
     "name": "stderr",
     "output_type": "stream",
     "text": [
      "21/11/16 08:42:03 WARN HiveConf: HiveConf of name hive.stats.jdbc.timeout does not exist\n",
      "21/11/16 08:42:03 WARN HiveConf: HiveConf of name hive.stats.retries.wait does not exist\n",
      "21/11/16 08:42:10 WARN ObjectStore: Version information not found in metastore. hive.metastore.schema.verification is not enabled so recording the schema version 2.3.0\n",
      "21/11/16 08:42:10 WARN ObjectStore: setMetaStoreSchemaVersion called but recording version is disabled: version = 2.3.0, comment = Set by MetaStore UNKNOWN@172.18.0.2\n",
      "21/11/16 08:42:10 WARN ObjectStore: Failed to get database global_temp, returning NoSuchObjectException\n"
     ]
    },
    {
     "data": {
      "text/html": [
       "<table border='1'>\n",
       "<tr><th></th></tr>\n",
       "</table>\n"
      ],
      "text/plain": [
       "++\n",
       "||\n",
       "++\n",
       "++"
      ]
     },
     "execution_count": 3,
     "metadata": {},
     "output_type": "execute_result"
    }
   ],
   "source": [
    "# Ensure ecommerce_logs database is selected\n",
    "\n",
    "spark.sql(\"use ecommerce_logs\")"
   ]
  },
  {
   "cell_type": "code",
   "execution_count": 4,
   "id": "1e44ace7",
   "metadata": {},
   "outputs": [],
   "source": [
    "spark.catalog.clearCache()"
   ]
  },
  {
   "cell_type": "code",
   "execution_count": null,
   "id": "d24823c4",
   "metadata": {},
   "outputs": [],
   "source": []
  },
  {
   "cell_type": "markdown",
   "id": "04ebc8c5",
   "metadata": {},
   "source": [
    "# Feature Engineering,  Data Cleaning and Preprocessing"
   ]
  },
  {
   "cell_type": "raw",
   "id": "7219a165",
   "metadata": {},
   "source": [
    "Extract the features from the tables stored in Hive database. In total there are 10 features and one target representing transaction and no transaction "
   ]
  },
  {
   "cell_type": "code",
   "execution_count": 5,
   "id": "6fbe4f6b",
   "metadata": {},
   "outputs": [
    {
     "name": "stderr",
     "output_type": "stream",
     "text": [
      "[Stage 3:>                                                          (0 + 4) / 4]\r"
     ]
    },
    {
     "name": "stdout",
     "output_type": "stream",
     "text": [
      "+-------------------+----------+--------------------+----------+\n",
      "|      fullVisitorId|   visitId|         landingPage|bounceRate|\n",
      "+-------------------+----------+--------------------+----------+\n",
      "|2946483869924872640|1489705378|/google+redesign/...|       1.0|\n",
      "|8746803893925419891|1496248141|/google+redesign/...|       1.0|\n",
      "|2091931365501549127|1489678068|/google+redesign/...|       1.0|\n",
      "|8088078621625596969|1489765524|/google+redesign/...|       1.0|\n",
      "|1535937873866082977|1483956520|/google+redesign/...|       1.0|\n",
      "+-------------------+----------+--------------------+----------+\n",
      "only showing top 5 rows\n",
      "\n"
     ]
    },
    {
     "name": "stderr",
     "output_type": "stream",
     "text": [
      "\r",
      "                                                                                \r"
     ]
    }
   ],
   "source": [
    "sql = \"\"\"\n",
    "       SELECT\n",
    "          e.fullVisitorId,\n",
    "          e.visitId,\n",
    "          pagePath as landingPage,\n",
    "          SUM(totals.bounces) / COUNT(*) AS bounceRate\n",
    "        FROM\n",
    "          db_session s\n",
    "          INNER JOIN db_ecommerce e ON s.fullVisitorId = e.fullVisitorId\n",
    "        WHERE\n",
    "          s.hitNumber = 1\n",
    "          AND s.type = 'PAGE'\n",
    "        AND \n",
    "          e.fullVisitorId == s.fullVisitorId\n",
    "        AND\n",
    "          e.visitId == s.visitId\n",
    "        GROUP BY\n",
    "          e.fullVisitorId,\n",
    "          e.visitId,\n",
    "          landingPage\n",
    "        ORDER BY\n",
    "          bounceRate DESC\n",
    "      \"\"\" \n",
    "\n",
    "bounce_rate = spark.sql(sql)\n",
    "bounce_rate.show(5)"
   ]
  },
  {
   "cell_type": "code",
   "execution_count": 6,
   "id": "7aa9a7a8",
   "metadata": {},
   "outputs": [
    {
     "name": "stderr",
     "output_type": "stream",
     "text": [
      "[Stage 6:=============================>                             (2 + 2) / 4]\r"
     ]
    },
    {
     "name": "stdout",
     "output_type": "stream",
     "text": [
      "+-------------------+----------------+\n",
      "|      fullVisitorId|userTransactions|\n",
      "+-------------------+----------------+\n",
      "|5526675926038480325|              25|\n",
      "|4983264713224875783|              21|\n",
      "|8637158932301658318|              15|\n",
      "|7713012430069756739|              12|\n",
      "|2396848817613598114|              10|\n",
      "+-------------------+----------------+\n",
      "only showing top 5 rows\n",
      "\n"
     ]
    },
    {
     "name": "stderr",
     "output_type": "stream",
     "text": [
      "\r",
      "                                                                                \r"
     ]
    }
   ],
   "source": [
    "sql = \"\"\"\n",
    "        SELECT\n",
    "          DISTINCT fullVisitorId,\n",
    "          SUM(totals.transactions) AS userTransactions\n",
    "        FROM\n",
    "          db_ecommerce\n",
    "        GROUP BY\n",
    "          fullVisitorId,\n",
    "          visitId\n",
    "        ORDER BY\n",
    "          userTransactions DESC\n",
    "      \"\"\"\n",
    "total_transactions = spark.sql(sql)\n",
    "total_transactions.show(5)"
   ]
  },
  {
   "cell_type": "code",
   "execution_count": 7,
   "id": "5bbe64ad",
   "metadata": {},
   "outputs": [
    {
     "name": "stderr",
     "output_type": "stream",
     "text": [
      "[Stage 12:>                                                         (0 + 4) / 4]\r"
     ]
    },
    {
     "name": "stdout",
     "output_type": "stream",
     "text": [
      "+-------------------+------------------+\n",
      "|      fullVisitorId|userConversionRate|\n",
      "+-------------------+------------------+\n",
      "|5526675926038480325|              25.0|\n",
      "|4983264713224875783|              21.0|\n",
      "|8637158932301658318|              15.0|\n",
      "|7713012430069756739|              12.0|\n",
      "|2396848817613598114|              10.0|\n",
      "+-------------------+------------------+\n",
      "only showing top 5 rows\n",
      "\n"
     ]
    },
    {
     "name": "stderr",
     "output_type": "stream",
     "text": [
      "\r",
      "                                                                                \r"
     ]
    }
   ],
   "source": [
    "sql = \"\"\"\n",
    "        SELECT\n",
    "          DISTINCT fullVisitorId,\n",
    "          SUM(totals.transactions) / COUNT(*) AS userConversionRate\n",
    "        FROM\n",
    "          db_ecommerce\n",
    "        GROUP BY\n",
    "          fullVisitorId,\n",
    "          visitId\n",
    "        ORDER BY\n",
    "          userConversionRate DESC \n",
    "      \"\"\"\n",
    "conversion_rate = spark.sql(sql)\n",
    "conversion_rate.show(5)"
   ]
  },
  {
   "cell_type": "code",
   "execution_count": 8,
   "id": "586cbd10",
   "metadata": {},
   "outputs": [
    {
     "name": "stderr",
     "output_type": "stream",
     "text": [
      "[Stage 16:==============================================>           (4 + 1) / 5]\r"
     ]
    },
    {
     "name": "stdout",
     "output_type": "stream",
     "text": [
      "+-------------------+----------+-----------+\n",
      "|      fullVisitorId|   visitId|browserType|\n",
      "+-------------------+----------+-----------+\n",
      "|1344850280726426756|1483871708|     Chrome|\n",
      "|0874196810149227716|1487681190|     Chrome|\n",
      "|3763443414966640620|1489542337|     Chrome|\n",
      "|3061806842864316823|1501000645|     Chrome|\n",
      "|7307319709131680719|1499457486|     Chrome|\n",
      "+-------------------+----------+-----------+\n",
      "only showing top 5 rows\n",
      "\n"
     ]
    },
    {
     "name": "stderr",
     "output_type": "stream",
     "text": [
      "\r",
      "                                                                                \r"
     ]
    }
   ],
   "source": [
    "sql = \"\"\"\n",
    "        SELECT\n",
    "          DISTINCT fullVisitorId,\n",
    "          visitId,\n",
    "          device.browser as browserType\n",
    "        FROM\n",
    "          db_ecommerce\n",
    "        GROUP BY\n",
    "          fullVisitorId,\n",
    "          visitId,\n",
    "          device.browser\n",
    "      \"\"\"\n",
    "\n",
    "browser_type = spark.sql(sql)\n",
    "browser_type.show(5)"
   ]
  },
  {
   "cell_type": "code",
   "execution_count": 9,
   "id": "c254f217",
   "metadata": {},
   "outputs": [
    {
     "name": "stderr",
     "output_type": "stream",
     "text": [
      "\r",
      "[Stage 19:==============================================>           (4 + 1) / 5]\r"
     ]
    },
    {
     "name": "stdout",
     "output_type": "stream",
     "text": [
      "+-------------------+----------+---------+\n",
      "|      fullVisitorId|   visitId|pageViews|\n",
      "+-------------------+----------+---------+\n",
      "|5526675926038480325|1488663704|      466|\n",
      "|6879336706336070910|1489823400|      400|\n",
      "|4983264713224875783|1488672213|      358|\n",
      "|8942866004645538967|1489999542|      343|\n",
      "|5531986444834608429|1485273868|      340|\n",
      "+-------------------+----------+---------+\n",
      "only showing top 5 rows\n",
      "\n"
     ]
    },
    {
     "name": "stderr",
     "output_type": "stream",
     "text": [
      "\r",
      "                                                                                \r"
     ]
    }
   ],
   "source": [
    "sql = \"\"\"\n",
    "        SELECT\n",
    "          fullVisitorId,\n",
    "          visitId,\n",
    "          totals.pageviews AS pageViews\n",
    "        FROM\n",
    "          db_ecommerce\n",
    "        GROUP BY\n",
    "          fullVisitorId,\n",
    "          visitId,\n",
    "          totals.pageviews\n",
    "        ORDER BY\n",
    "          pageViews DESC\n",
    "       \"\"\"\n",
    "pageViews = spark.sql(sql)\n",
    "pageViews.show(5)"
   ]
  },
  {
   "cell_type": "code",
   "execution_count": 10,
   "id": "0a317d2d",
   "metadata": {},
   "outputs": [
    {
     "name": "stderr",
     "output_type": "stream",
     "text": [
      "\r",
      "[Stage 22:==============================================>           (4 + 1) / 5]\r"
     ]
    },
    {
     "name": "stdout",
     "output_type": "stream",
     "text": [
      "+-------------------+----------+-------------+\n",
      "|      fullVisitorId|   visitId|timeOfSession|\n",
      "+-------------------+----------+-------------+\n",
      "|6957245643416321514|1489503889|        12136|\n",
      "|1957458976293878100|1487782681|        11848|\n",
      "|2969418676126258798|1501207944|        11316|\n",
      "|2735916843202442631|1490143998|        10068|\n",
      "|5208937953046059083|1483979477|         9772|\n",
      "+-------------------+----------+-------------+\n",
      "only showing top 5 rows\n",
      "\n"
     ]
    },
    {
     "name": "stderr",
     "output_type": "stream",
     "text": [
      "\r",
      "                                                                                \r"
     ]
    }
   ],
   "source": [
    "sql = \"\"\"\n",
    "        SELECT\n",
    "          fullVisitorId,\n",
    "          visitId,\n",
    "          totals.timeOnSite AS timeOfSession\n",
    "        FROM\n",
    "          db_ecommerce\n",
    "        GROUP BY\n",
    "          fullVisitorId,\n",
    "          visitId,\n",
    "          totals.timeOnSite\n",
    "        ORDER BY\n",
    "          timeOfSession DESC\n",
    "       \"\"\"\n",
    "time_of_session = spark.sql(sql)\n",
    "time_of_session.show(5)"
   ]
  },
  {
   "cell_type": "code",
   "execution_count": 11,
   "id": "09e28f8b",
   "metadata": {},
   "outputs": [
    {
     "name": "stderr",
     "output_type": "stream",
     "text": [
      "[Stage 27:>                                                         (0 + 4) / 4]\r"
     ]
    },
    {
     "name": "stdout",
     "output_type": "stream",
     "text": [
      "+-------------------+--------+-----------+\n",
      "|      fullVisitorId|    date|dailyVisits|\n",
      "+-------------------+--------+-----------+\n",
      "| 489038402765684003|20170717|         32|\n",
      "|8726427406034606152|20170717|         18|\n",
      "|7305009892445248665|20170320|         14|\n",
      "|5687667730920600613|20170212|         12|\n",
      "|7748782825261851002|20170508|         12|\n",
      "+-------------------+--------+-----------+\n",
      "only showing top 5 rows\n",
      "\n"
     ]
    },
    {
     "name": "stderr",
     "output_type": "stream",
     "text": [
      "\r",
      "                                                                                \r"
     ]
    }
   ],
   "source": [
    "sql = \"\"\"\n",
    "       SELECT\n",
    "          DISTINCT fullVisitorId,\n",
    "          date,\n",
    "          COUNT(*) AS dailyVisits\n",
    "        FROM\n",
    "          db_ecommerce\n",
    "        GROUP BY\n",
    "          fullVisitorId,\n",
    "          date\n",
    "        ORDER BY\n",
    "          dailyVisits DESC\n",
    "      \"\"\"\n",
    "user_visits = spark.sql(sql)\n",
    "user_visits.show(5)"
   ]
  },
  {
   "cell_type": "code",
   "execution_count": 12,
   "id": "5475fa90",
   "metadata": {},
   "outputs": [
    {
     "name": "stderr",
     "output_type": "stream",
     "text": [
      "\r",
      "[Stage 28:==============================================>           (4 + 1) / 5]\r"
     ]
    },
    {
     "name": "stdout",
     "output_type": "stream",
     "text": [
      "+-------------------+----------+-----------+\n",
      "|      fullVisitorId|   visitId|sessionHits|\n",
      "+-------------------+----------+-----------+\n",
      "|6879336706336070910|1489823400|        500|\n",
      "|5526675926038480325|1488663704|        500|\n",
      "|1106901861011569877|1484949128|        500|\n",
      "|5531986444834608429|1485273868|        483|\n",
      "|4983264713224875783|1488672213|        445|\n",
      "+-------------------+----------+-----------+\n",
      "only showing top 5 rows\n",
      "\n"
     ]
    },
    {
     "name": "stderr",
     "output_type": "stream",
     "text": [
      "\r",
      "                                                                                \r"
     ]
    }
   ],
   "source": [
    "sql = \"\"\"\n",
    "        SELECT\n",
    "          fullVisitorId,\n",
    "          visitId,\n",
    "          totals.hits AS sessionHits\n",
    "        FROM\n",
    "          db_ecommerce\n",
    "        GROUP BY\n",
    "          fullVisitorId,\n",
    "          visitId,\n",
    "          totals.hits\n",
    "        ORDER BY\n",
    "          sessionHits DESC\n",
    "      \"\"\"\n",
    "sessions_hits = spark.sql(sql)\n",
    "sessions_hits.show(5)"
   ]
  },
  {
   "cell_type": "code",
   "execution_count": 13,
   "id": "b9029f15",
   "metadata": {},
   "outputs": [
    {
     "name": "stderr",
     "output_type": "stream",
     "text": [
      "[Stage 31:===========================================>              (3 + 1) / 4]\r"
     ]
    },
    {
     "name": "stdout",
     "output_type": "stream",
     "text": [
      "+-------------------+----------+----------+\n",
      "|      fullVisitorId|   visitId|pageAction|\n",
      "+-------------------+----------+----------+\n",
      "|6885670706378955819|1500155776|         0|\n",
      "|0584277630236416029|1500157402|         0|\n",
      "|0823688768165405685|1497956261|         5|\n",
      "|5030772166419361448|1486044731|         2|\n",
      "|0127669493904922932|1486453611|         0|\n",
      "+-------------------+----------+----------+\n",
      "only showing top 5 rows\n",
      "\n"
     ]
    },
    {
     "name": "stderr",
     "output_type": "stream",
     "text": [
      "\r",
      "                                                                                \r"
     ]
    }
   ],
   "source": [
    "sql = \"\"\"\n",
    "      SELECT\n",
    "          fullVisitorId,\n",
    "          visitId, \n",
    "          action_type as pageAction\n",
    "        FROM\n",
    "          db_session\n",
    "        WHERE\n",
    "          type = 'PAGE'\n",
    "        GROUP BY\n",
    "          fullVisitorId,\n",
    "          visitId,\n",
    "          action_type\n",
    "      \"\"\"\n",
    "pageAction = spark.sql(sql)\n",
    "pageAction.show(5)"
   ]
  },
  {
   "cell_type": "code",
   "execution_count": 14,
   "id": "90fb6739",
   "metadata": {},
   "outputs": [
    {
     "name": "stderr",
     "output_type": "stream",
     "text": [
      "[Stage 34:===========================================>              (3 + 1) / 4]\r"
     ]
    },
    {
     "name": "stdout",
     "output_type": "stream",
     "text": [
      "+-------------------+----------+-------------------+--------------------+\n",
      "|      fullVisitorId|   visitId|productListPosition|   v2ProductCategory|\n",
      "+-------------------+----------+-------------------+--------------------+\n",
      "|2090316602240305671|1491836726|                  0|Home/Bags/Shoppin...|\n",
      "|2950848740706349041|1495797939|                  7| Home/Apparel/Kid's/|\n",
      "|6632926338629563089|1486511929|                  3|Home/Apparel/Head...|\n",
      "|1853411780543932631|1489338566|                  0|Home/Accessories/...|\n",
      "|2640884740235009723|1490834516|                  0|Home/Apparel/Wome...|\n",
      "+-------------------+----------+-------------------+--------------------+\n",
      "only showing top 5 rows\n",
      "\n"
     ]
    },
    {
     "name": "stderr",
     "output_type": "stream",
     "text": [
      "\r",
      "                                                                                \r"
     ]
    }
   ],
   "source": [
    "sql = \"\"\"\n",
    "      SELECT\n",
    "          fullVisitorId,\n",
    "          visitId, \n",
    "          productListPosition, \n",
    "          v2ProductCategory\n",
    "        FROM\n",
    "          db_session\n",
    "        WHERE\n",
    "          isClick = true\n",
    "        GROUP BY\n",
    "          fullVisitorId,\n",
    "          visitId,\n",
    "          productListPosition, \n",
    "          v2ProductCategory\n",
    "      \"\"\"\n",
    "\n",
    "product_cat_pos = spark.sql(sql)\n",
    "product_cat_pos.show(5)"
   ]
  },
  {
   "cell_type": "code",
   "execution_count": 15,
   "id": "e057373a",
   "metadata": {},
   "outputs": [
    {
     "name": "stderr",
     "output_type": "stream",
     "text": [
      "\r",
      "[Stage 37:==============>                                           (1 + 3) / 4]\r"
     ]
    },
    {
     "name": "stdout",
     "output_type": "stream",
     "text": [
      "+-------------------+----------+-------------+\n",
      "|      fullVisitorId|   visitId|productClicks|\n",
      "+-------------------+----------+-------------+\n",
      "|4950411203281265700|1491342252|            5|\n",
      "|3394557957149163238|1486508775|            9|\n",
      "|1877123306725352681|1485961067|            1|\n",
      "|0116216428116887442|1489381342|            3|\n",
      "|5766521293132069264|1487045334|            1|\n",
      "+-------------------+----------+-------------+\n",
      "only showing top 5 rows\n",
      "\n"
     ]
    },
    {
     "name": "stderr",
     "output_type": "stream",
     "text": [
      "\r",
      "[Stage 37:===========================================>              (3 + 1) / 4]\r",
      "\r",
      "                                                                                \r"
     ]
    }
   ],
   "source": [
    "sql = \"\"\"\n",
    "      SELECT\n",
    "          fullVisitorId,\n",
    "          visitId, \n",
    "          COUNT(*) as productClicks\n",
    "        FROM\n",
    "          db_session\n",
    "        WHERE\n",
    "          isClick = true\n",
    "        GROUP BY\n",
    "          fullVisitorId,\n",
    "          visitId\n",
    "\n",
    "      \"\"\"\n",
    "\n",
    "productClicks = spark.sql(sql)\n",
    "productClicks.show(5)"
   ]
  },
  {
   "cell_type": "code",
   "execution_count": 16,
   "id": "8a4141ba",
   "metadata": {},
   "outputs": [
    {
     "name": "stderr",
     "output_type": "stream",
     "text": [
      "[Stage 40:==============================================>           (4 + 1) / 5]\r"
     ]
    },
    {
     "name": "stdout",
     "output_type": "stream",
     "text": [
      "+-------------------+----------+------+\n",
      "|      fullVisitorId|   visitId|target|\n",
      "+-------------------+----------+------+\n",
      "|5687201440185842310|1498510241|     1|\n",
      "|3724344539154169107|1491608976|     1|\n",
      "| 173863901552294318|1484399835|     1|\n",
      "|9574540989591143939|1486661421|     1|\n",
      "|8434622228747679141|1489099807|     1|\n",
      "+-------------------+----------+------+\n",
      "only showing top 5 rows\n",
      "\n"
     ]
    },
    {
     "name": "stderr",
     "output_type": "stream",
     "text": [
      "\r",
      "                                                                                \r"
     ]
    }
   ],
   "source": [
    "sql = \"\"\"\n",
    "        SELECT\n",
    "          fullVisitorId,\n",
    "          visitId,\n",
    "          CASE\n",
    "             WHEN totals.transactions >= 1 THEN 1\n",
    "             WHEN totals.transactions <= 0 THEN 0\n",
    "          END AS target\n",
    "        FROM\n",
    "          db_ecommerce\n",
    "        GROUP BY\n",
    "          fullVisitorId,\n",
    "          visitId,\n",
    "          target\n",
    "        ORDER BY target DESC\n",
    "      \"\"\"\n",
    "target = spark.sql(sql)\n",
    "target.show(5)"
   ]
  },
  {
   "cell_type": "markdown",
   "id": "ecc8eb48",
   "metadata": {},
   "source": [
    "## Combine the features"
   ]
  },
  {
   "cell_type": "raw",
   "id": "ed9f398d",
   "metadata": {},
   "source": [
    "Here, I will join all the features into one dataframe and save for cleaning, preprocessing and modelling"
   ]
  },
  {
   "cell_type": "code",
   "execution_count": 17,
   "id": "051eb0ef",
   "metadata": {},
   "outputs": [],
   "source": [
    "bounce_trans = bounce_rate.join(total_transactions, 'fullVisitorId')\n",
    "bounce__conv = bounce_trans.join(conversion_rate, 'fullVisitorId')\n",
    "bounce__browser = bounce__conv.join(browser_type, 'fullVisitorId')\n",
    "bounce__pageV = bounce__browser.join(pageViews, 'fullVisitorId')"
   ]
  },
  {
   "cell_type": "code",
   "execution_count": null,
   "id": "c7a40fd9",
   "metadata": {},
   "outputs": [],
   "source": [
    "time__visits = time_of_session.join(user_visits, 'fullVisitorId')\n",
    "time__actions = time__visits.join(pageAction, 'fullVisitorId')\n",
    "time_clicks = time__actions.join(productClicks, 'fullVisitorId')\n",
    "time__product = time_clicks.join(product_cat_pos, 'fullVisitorId')"
   ]
  },
  {
   "cell_type": "code",
   "execution_count": 19,
   "id": "26abd1ec",
   "metadata": {},
   "outputs": [],
   "source": [
    "target = time__product.join(target, 'fullVisitorId')"
   ]
  },
  {
   "cell_type": "code",
   "execution_count": null,
   "id": "bc11f093",
   "metadata": {},
   "outputs": [],
   "source": [
    "bounce__target = target.join(bounce__pageV, 'fullVisitorId')"
   ]
  },
  {
   "cell_type": "code",
   "execution_count": 20,
   "id": "ec81adb2",
   "metadata": {},
   "outputs": [],
   "source": [
    "save__target = bounce__target.select(\"fullVisitorId\",\n",
    "                             \"e.visitId\",\n",
    "                            \"landingPage\", \n",
    "                             \"bounceRate\", \n",
    "                             \"userTransactions\", \n",
    "                             \"userConversionRate\", \n",
    "                             \"browserType\", \n",
    "                             \"pageViews\",\n",
    "                             \"dailyVisits\",\n",
    "                             \"timeOfSession\",\n",
    "                             \"sessionHits\",\n",
    "                             \"pageAction\",\n",
    "                             \"productListPosition\",\n",
    "                             \"v2ProductCategory\",\n",
    "                             \"productClicks\",\n",
    "                             \"target\"\n",
    "                )\n",
    "data = save__target.createOrReplaceTempView(\"session__target\")"
   ]
  },
  {
   "cell_type": "code",
   "execution_count": 21,
   "id": "960b5c4b",
   "metadata": {},
   "outputs": [],
   "source": []
  },
  {
   "cell_type": "code",
   "execution_count": 22,
   "id": "5136ed0e",
   "metadata": {},
   "outputs": [],
   "source": []
  },
  {
   "cell_type": "code",
   "execution_count": 26,
   "id": "c6ac36d3",
   "metadata": {},
   "outputs": [
    {
     "name": "stderr",
     "output_type": "stream",
     "text": [
      "ERROR:root:Exception while sending command.                         (0 + 4) / 4]\n",
      "Traceback (most recent call last):\n",
      "  File \"/usr/local/spark/python/lib/py4j-0.10.9.2-src.zip/py4j/clientserver.py\", line 480, in send_command\n",
      "    raise Py4JNetworkError(\"Answer from Java side is empty\")\n",
      "py4j.protocol.Py4JNetworkError: Answer from Java side is empty\n",
      "\n",
      "During handling of the above exception, another exception occurred:\n",
      "\n",
      "Traceback (most recent call last):\n",
      "  File \"/usr/local/spark/python/lib/py4j-0.10.9.2-src.zip/py4j/java_gateway.py\", line 1038, in send_command\n",
      "    response = connection.send_command(command)\n",
      "  File \"/usr/local/spark/python/lib/py4j-0.10.9.2-src.zip/py4j/clientserver.py\", line 503, in send_command\n",
      "    raise Py4JNetworkError(\n",
      "py4j.protocol.Py4JNetworkError: Error while sending or receiving\n"
     ]
    },
    {
     "ename": "Py4JError",
     "evalue": "An error occurred while calling o135.showString",
     "output_type": "error",
     "traceback": [
      "\u001b[0;31m---------------------------------------------------------------------------\u001b[0m",
      "\u001b[0;31mPy4JError\u001b[0m                                 Traceback (most recent call last)",
      "\u001b[0;32m/tmp/ipykernel_2492/3130366816.py\u001b[0m in \u001b[0;36m<module>\u001b[0;34m\u001b[0m\n\u001b[1;32m      1\u001b[0m \u001b[0mdf\u001b[0m \u001b[0;34m=\u001b[0m \u001b[0mspark\u001b[0m\u001b[0;34m.\u001b[0m\u001b[0msql\u001b[0m\u001b[0;34m(\u001b[0m\u001b[0;34m\"select * from session__target\"\u001b[0m\u001b[0;34m)\u001b[0m\u001b[0;34m\u001b[0m\u001b[0;34m\u001b[0m\u001b[0m\n\u001b[0;32m----> 2\u001b[0;31m \u001b[0mdf\u001b[0m\u001b[0;34m.\u001b[0m\u001b[0mshow\u001b[0m\u001b[0;34m(\u001b[0m\u001b[0;36m3\u001b[0m\u001b[0;34m)\u001b[0m\u001b[0;34m\u001b[0m\u001b[0;34m\u001b[0m\u001b[0m\n\u001b[0m",
      "\u001b[0;32m/usr/local/spark/python/pyspark/sql/dataframe.py\u001b[0m in \u001b[0;36mshow\u001b[0;34m(self, n, truncate, vertical)\u001b[0m\n\u001b[1;32m    492\u001b[0m \u001b[0;34m\u001b[0m\u001b[0m\n\u001b[1;32m    493\u001b[0m         \u001b[0;32mif\u001b[0m \u001b[0misinstance\u001b[0m\u001b[0;34m(\u001b[0m\u001b[0mtruncate\u001b[0m\u001b[0;34m,\u001b[0m \u001b[0mbool\u001b[0m\u001b[0;34m)\u001b[0m \u001b[0;32mand\u001b[0m \u001b[0mtruncate\u001b[0m\u001b[0;34m:\u001b[0m\u001b[0;34m\u001b[0m\u001b[0;34m\u001b[0m\u001b[0m\n\u001b[0;32m--> 494\u001b[0;31m             \u001b[0mprint\u001b[0m\u001b[0;34m(\u001b[0m\u001b[0mself\u001b[0m\u001b[0;34m.\u001b[0m\u001b[0m_jdf\u001b[0m\u001b[0;34m.\u001b[0m\u001b[0mshowString\u001b[0m\u001b[0;34m(\u001b[0m\u001b[0mn\u001b[0m\u001b[0;34m,\u001b[0m \u001b[0;36m20\u001b[0m\u001b[0;34m,\u001b[0m \u001b[0mvertical\u001b[0m\u001b[0;34m)\u001b[0m\u001b[0;34m)\u001b[0m\u001b[0;34m\u001b[0m\u001b[0;34m\u001b[0m\u001b[0m\n\u001b[0m\u001b[1;32m    495\u001b[0m         \u001b[0;32melse\u001b[0m\u001b[0;34m:\u001b[0m\u001b[0;34m\u001b[0m\u001b[0;34m\u001b[0m\u001b[0m\n\u001b[1;32m    496\u001b[0m             \u001b[0;32mtry\u001b[0m\u001b[0;34m:\u001b[0m\u001b[0;34m\u001b[0m\u001b[0;34m\u001b[0m\u001b[0m\n",
      "\u001b[0;32m/usr/local/spark/python/lib/py4j-0.10.9.2-src.zip/py4j/java_gateway.py\u001b[0m in \u001b[0;36m__call__\u001b[0;34m(self, *args)\u001b[0m\n\u001b[1;32m   1307\u001b[0m \u001b[0;34m\u001b[0m\u001b[0m\n\u001b[1;32m   1308\u001b[0m         \u001b[0manswer\u001b[0m \u001b[0;34m=\u001b[0m \u001b[0mself\u001b[0m\u001b[0;34m.\u001b[0m\u001b[0mgateway_client\u001b[0m\u001b[0;34m.\u001b[0m\u001b[0msend_command\u001b[0m\u001b[0;34m(\u001b[0m\u001b[0mcommand\u001b[0m\u001b[0;34m)\u001b[0m\u001b[0;34m\u001b[0m\u001b[0;34m\u001b[0m\u001b[0m\n\u001b[0;32m-> 1309\u001b[0;31m         return_value = get_return_value(\n\u001b[0m\u001b[1;32m   1310\u001b[0m             answer, self.gateway_client, self.target_id, self.name)\n\u001b[1;32m   1311\u001b[0m \u001b[0;34m\u001b[0m\u001b[0m\n",
      "\u001b[0;32m/usr/local/spark/python/pyspark/sql/utils.py\u001b[0m in \u001b[0;36mdeco\u001b[0;34m(*a, **kw)\u001b[0m\n\u001b[1;32m    109\u001b[0m     \u001b[0;32mdef\u001b[0m \u001b[0mdeco\u001b[0m\u001b[0;34m(\u001b[0m\u001b[0;34m*\u001b[0m\u001b[0ma\u001b[0m\u001b[0;34m,\u001b[0m \u001b[0;34m**\u001b[0m\u001b[0mkw\u001b[0m\u001b[0;34m)\u001b[0m\u001b[0;34m:\u001b[0m\u001b[0;34m\u001b[0m\u001b[0;34m\u001b[0m\u001b[0m\n\u001b[1;32m    110\u001b[0m         \u001b[0;32mtry\u001b[0m\u001b[0;34m:\u001b[0m\u001b[0;34m\u001b[0m\u001b[0;34m\u001b[0m\u001b[0m\n\u001b[0;32m--> 111\u001b[0;31m             \u001b[0;32mreturn\u001b[0m \u001b[0mf\u001b[0m\u001b[0;34m(\u001b[0m\u001b[0;34m*\u001b[0m\u001b[0ma\u001b[0m\u001b[0;34m,\u001b[0m \u001b[0;34m**\u001b[0m\u001b[0mkw\u001b[0m\u001b[0;34m)\u001b[0m\u001b[0;34m\u001b[0m\u001b[0;34m\u001b[0m\u001b[0m\n\u001b[0m\u001b[1;32m    112\u001b[0m         \u001b[0;32mexcept\u001b[0m \u001b[0mpy4j\u001b[0m\u001b[0;34m.\u001b[0m\u001b[0mprotocol\u001b[0m\u001b[0;34m.\u001b[0m\u001b[0mPy4JJavaError\u001b[0m \u001b[0;32mas\u001b[0m \u001b[0me\u001b[0m\u001b[0;34m:\u001b[0m\u001b[0;34m\u001b[0m\u001b[0;34m\u001b[0m\u001b[0m\n\u001b[1;32m    113\u001b[0m             \u001b[0mconverted\u001b[0m \u001b[0;34m=\u001b[0m \u001b[0mconvert_exception\u001b[0m\u001b[0;34m(\u001b[0m\u001b[0me\u001b[0m\u001b[0;34m.\u001b[0m\u001b[0mjava_exception\u001b[0m\u001b[0;34m)\u001b[0m\u001b[0;34m\u001b[0m\u001b[0;34m\u001b[0m\u001b[0m\n",
      "\u001b[0;32m/usr/local/spark/python/lib/py4j-0.10.9.2-src.zip/py4j/protocol.py\u001b[0m in \u001b[0;36mget_return_value\u001b[0;34m(answer, gateway_client, target_id, name)\u001b[0m\n\u001b[1;32m    332\u001b[0m                     format(target_id, \".\", name, value))\n\u001b[1;32m    333\u001b[0m         \u001b[0;32melse\u001b[0m\u001b[0;34m:\u001b[0m\u001b[0;34m\u001b[0m\u001b[0;34m\u001b[0m\u001b[0m\n\u001b[0;32m--> 334\u001b[0;31m             raise Py4JError(\n\u001b[0m\u001b[1;32m    335\u001b[0m                 \u001b[0;34m\"An error occurred while calling {0}{1}{2}\"\u001b[0m\u001b[0;34m.\u001b[0m\u001b[0;34m\u001b[0m\u001b[0;34m\u001b[0m\u001b[0m\n\u001b[1;32m    336\u001b[0m                 format(target_id, \".\", name))\n",
      "\u001b[0;31mPy4JError\u001b[0m: An error occurred while calling o135.showString"
     ]
    }
   ],
   "source": [
    "df = spark.sql(\"select * from session__target\")\n",
    "df.show(3)"
   ]
  },
  {
   "cell_type": "code",
   "execution_count": 27,
   "id": "33fa6344",
   "metadata": {},
   "outputs": [],
   "source": [
    "# df.show(5)"
   ]
  },
  {
   "cell_type": "code",
   "execution_count": null,
   "id": "e5145917",
   "metadata": {},
   "outputs": [],
   "source": []
  },
  {
   "cell_type": "code",
   "execution_count": null,
   "id": "dd9431bb",
   "metadata": {},
   "outputs": [],
   "source": []
  },
  {
   "cell_type": "code",
   "execution_count": 6,
   "id": "6673d3e4",
   "metadata": {},
   "outputs": [],
   "source": [
    "# manual selection of columns\n",
    "sql = \"\"\"\n",
    "      SELECT distinct fullVisitorId,\n",
    "      visitId,\n",
    "      date,\n",
    "      totals.pageViews,\n",
    "      totals.sessionQualityDim,\n",
    "      100*SUM(totals.bounces)/COUNT(*) as bounce_rate,\n",
    "      totals.timeOnSite,\n",
    "      totals.hits,\n",
    "      hits.ecommerceAction.action_type,\n",
    "      totals.transactions\n",
    "      FROM db_ecommerce\n",
    "      GROUP BY\n",
    "      fullVisitorId,\n",
    "      visitId,\n",
    "      date,\n",
    "      totals.pageViews,\n",
    "      totals.sessionQualityDim,\n",
    "      totals.timeOnSite,\n",
    "      totals.hits,\n",
    "      hits.ecommerceAction.action_type,\n",
    "      totals.transactions\n",
    "      \"\"\"\n",
    "\n",
    "\n",
    "df = spark.sql(sql)"
   ]
  },
  {
   "cell_type": "code",
   "execution_count": 6,
   "id": "2830642a",
   "metadata": {},
   "outputs": [],
   "source": [
    "df = spark.sql(\"SELECT * FROM db_viewstable\")"
   ]
  },
  {
   "cell_type": "code",
   "execution_count": 7,
   "id": "ad5c20f3",
   "metadata": {},
   "outputs": [
    {
     "name": "stderr",
     "output_type": "stream",
     "text": [
      "                                                                                \r"
     ]
    },
    {
     "data": {
      "text/html": [
       "<div>\n",
       "<style scoped>\n",
       "    .dataframe tbody tr th:only-of-type {\n",
       "        vertical-align: middle;\n",
       "    }\n",
       "\n",
       "    .dataframe tbody tr th {\n",
       "        vertical-align: top;\n",
       "    }\n",
       "\n",
       "    .dataframe thead th {\n",
       "        text-align: right;\n",
       "    }\n",
       "</style>\n",
       "<table border=\"1\" class=\"dataframe\">\n",
       "  <thead>\n",
       "    <tr style=\"text-align: right;\">\n",
       "      <th></th>\n",
       "      <th>fullVisitorId</th>\n",
       "      <th>visitId</th>\n",
       "      <th>date</th>\n",
       "      <th>VIEWs</th>\n",
       "      <th>visitStartTime</th>\n",
       "      <th>isClick</th>\n",
       "      <th>time</th>\n",
       "      <th>hitNumber</th>\n",
       "      <th>isImpression</th>\n",
       "      <th>action_type</th>\n",
       "    </tr>\n",
       "  </thead>\n",
       "  <tbody>\n",
       "    <tr>\n",
       "      <th>0</th>\n",
       "      <td>0500711155618777223</td>\n",
       "      <td>1494878679</td>\n",
       "      <td>20170515</td>\n",
       "      <td>12</td>\n",
       "      <td>1494878679</td>\n",
       "      <td>None</td>\n",
       "      <td>0</td>\n",
       "      <td>1</td>\n",
       "      <td>True</td>\n",
       "      <td>0</td>\n",
       "    </tr>\n",
       "    <tr>\n",
       "      <th>1</th>\n",
       "      <td>4227248630291081253</td>\n",
       "      <td>1494854668</td>\n",
       "      <td>20170515</td>\n",
       "      <td>12</td>\n",
       "      <td>1494854668</td>\n",
       "      <td>None</td>\n",
       "      <td>0</td>\n",
       "      <td>1</td>\n",
       "      <td>True</td>\n",
       "      <td>0</td>\n",
       "    </tr>\n",
       "    <tr>\n",
       "      <th>2</th>\n",
       "      <td>6273957120072763161</td>\n",
       "      <td>1494899498</td>\n",
       "      <td>20170515</td>\n",
       "      <td>12</td>\n",
       "      <td>1494899498</td>\n",
       "      <td>None</td>\n",
       "      <td>0</td>\n",
       "      <td>1</td>\n",
       "      <td>True</td>\n",
       "      <td>0</td>\n",
       "    </tr>\n",
       "    <tr>\n",
       "      <th>3</th>\n",
       "      <td>3083904865739902229</td>\n",
       "      <td>1494873402</td>\n",
       "      <td>20170515</td>\n",
       "      <td>12</td>\n",
       "      <td>1494873402</td>\n",
       "      <td>None</td>\n",
       "      <td>0</td>\n",
       "      <td>1</td>\n",
       "      <td>True</td>\n",
       "      <td>0</td>\n",
       "    </tr>\n",
       "    <tr>\n",
       "      <th>4</th>\n",
       "      <td>9339314253424492257</td>\n",
       "      <td>1494875972</td>\n",
       "      <td>20170515</td>\n",
       "      <td>12</td>\n",
       "      <td>1494875972</td>\n",
       "      <td>None</td>\n",
       "      <td>0</td>\n",
       "      <td>1</td>\n",
       "      <td>True</td>\n",
       "      <td>0</td>\n",
       "    </tr>\n",
       "  </tbody>\n",
       "</table>\n",
       "</div>"
      ],
      "text/plain": [
       "         fullVisitorId     visitId      date  VIEWs  visitStartTime isClick  \\\n",
       "0  0500711155618777223  1494878679  20170515     12      1494878679    None   \n",
       "1  4227248630291081253  1494854668  20170515     12      1494854668    None   \n",
       "2  6273957120072763161  1494899498  20170515     12      1494899498    None   \n",
       "3  3083904865739902229  1494873402  20170515     12      1494873402    None   \n",
       "4  9339314253424492257  1494875972  20170515     12      1494875972    None   \n",
       "\n",
       "   time  hitNumber  isImpression action_type  \n",
       "0     0          1          True           0  \n",
       "1     0          1          True           0  \n",
       "2     0          1          True           0  \n",
       "3     0          1          True           0  \n",
       "4     0          1          True           0  "
      ]
     },
     "execution_count": 7,
     "metadata": {},
     "output_type": "execute_result"
    }
   ],
   "source": [
    "# Show the dataframe\n",
    "df.limit(5).toPandas()"
   ]
  },
  {
   "cell_type": "code",
   "execution_count": 8,
   "id": "814e65c3",
   "metadata": {},
   "outputs": [
    {
     "name": "stderr",
     "output_type": "stream",
     "text": [
      "                                                                                \r"
     ]
    },
    {
     "data": {
      "text/plain": [
       "(1333071, 1333071)"
      ]
     },
     "execution_count": 8,
     "metadata": {},
     "output_type": "execute_result"
    }
   ],
   "source": [
    "#check for duplicates in the dataframe\n",
    "\n",
    "df.count(), df.distinct().count()"
   ]
  },
  {
   "cell_type": "code",
   "execution_count": 9,
   "id": "4b40537e",
   "metadata": {},
   "outputs": [
    {
     "name": "stderr",
     "output_type": "stream",
     "text": [
      "                                                                                \r"
     ]
    },
    {
     "data": {
      "text/html": [
       "<table border='1'>\n",
       "<tr><th>fullVisitorId</th><th>visitId</th><th>date</th><th>VIEWs</th><th>visitStartTime</th><th>isClick</th><th>time</th><th>hitNumber</th><th>isImpression</th><th>action_type</th></tr>\n",
       "<tr><td>1333071</td><td>1333071</td><td>1333071</td><td>1333071</td><td>1333071</td><td>215560</td><td>1333071</td><td>1333071</td><td>810505</td><td>1333071</td></tr>\n",
       "</table>\n"
      ],
      "text/plain": [
       "+-------------+-------+-------+-------+--------------+-------+-------+---------+------------+-----------+\n",
       "|fullVisitorId|visitId|   date|  VIEWs|visitStartTime|isClick|   time|hitNumber|isImpression|action_type|\n",
       "+-------------+-------+-------+-------+--------------+-------+-------+---------+------------+-----------+\n",
       "|      1333071|1333071|1333071|1333071|       1333071| 215560|1333071|  1333071|      810505|    1333071|\n",
       "+-------------+-------+-------+-------+--------------+-------+-------+---------+------------+-----------+"
      ]
     },
     "execution_count": 9,
     "metadata": {},
     "output_type": "execute_result"
    }
   ],
   "source": [
    "# Count and check for missing and/or null values in the columns selected\n",
    "\n",
    "def df_count(df):\n",
    "    df_col_count = df.agg(*[count(c).alias(c) for c in df.columns])\n",
    "    return df_col_count\n",
    "    \n",
    "df_count(df)"
   ]
  },
  {
   "cell_type": "code",
   "execution_count": 10,
   "id": "479b704b",
   "metadata": {},
   "outputs": [],
   "source": [
    "# Create new column common_actions using most occuring actions in each session\n",
    "\n",
    "def most_occuring_actions(x):\n",
    "    popular_actions = mode(x)\n",
    "    return popular_actions[0][0]\n",
    "\n",
    "array_mode = fn.udf(lambda x: float(most_occuring_actions(x)), DoubleType())\n",
    "\n",
    "df_arr = df.withColumn(\"common_actions\", array_mode(df.action_type))"
   ]
  },
  {
   "cell_type": "code",
   "execution_count": 11,
   "id": "9f67688a",
   "metadata": {},
   "outputs": [
    {
     "name": "stderr",
     "output_type": "stream",
     "text": [
      "                                                                                \r"
     ]
    },
    {
     "data": {
      "text/html": [
       "<div>\n",
       "<style scoped>\n",
       "    .dataframe tbody tr th:only-of-type {\n",
       "        vertical-align: middle;\n",
       "    }\n",
       "\n",
       "    .dataframe tbody tr th {\n",
       "        vertical-align: top;\n",
       "    }\n",
       "\n",
       "    .dataframe thead th {\n",
       "        text-align: right;\n",
       "    }\n",
       "</style>\n",
       "<table border=\"1\" class=\"dataframe\">\n",
       "  <thead>\n",
       "    <tr style=\"text-align: right;\">\n",
       "      <th></th>\n",
       "      <th>fullVisitorId</th>\n",
       "      <th>visitId</th>\n",
       "      <th>date</th>\n",
       "      <th>pageViews</th>\n",
       "      <th>sessionQualityDim</th>\n",
       "      <th>bounce_rate</th>\n",
       "      <th>timeOnSite</th>\n",
       "      <th>hits</th>\n",
       "      <th>action_type</th>\n",
       "      <th>transactions</th>\n",
       "      <th>common_actions</th>\n",
       "      <th>max_session_action</th>\n",
       "    </tr>\n",
       "  </thead>\n",
       "  <tbody>\n",
       "    <tr>\n",
       "      <th>0</th>\n",
       "      <td>8839065493642053324</td>\n",
       "      <td>1496683872</td>\n",
       "      <td>20170605</td>\n",
       "      <td>22</td>\n",
       "      <td>NaN</td>\n",
       "      <td>NaN</td>\n",
       "      <td>705</td>\n",
       "      <td>31</td>\n",
       "      <td>[0, 1, 2, 3, 1, 2, 3, 1, 2, 3, 1, 2, 3, 0, 4, ...</td>\n",
       "      <td>1.0</td>\n",
       "      <td>0.0</td>\n",
       "      <td>6.0</td>\n",
       "    </tr>\n",
       "    <tr>\n",
       "      <th>1</th>\n",
       "      <td>6838503583738299884</td>\n",
       "      <td>1493517242</td>\n",
       "      <td>20170429</td>\n",
       "      <td>15</td>\n",
       "      <td>NaN</td>\n",
       "      <td>NaN</td>\n",
       "      <td>831</td>\n",
       "      <td>15</td>\n",
       "      <td>[0, 0, 0, 0, 0, 0, 0, 0, 0, 0, 0, 0, 0, 0, 0]</td>\n",
       "      <td>NaN</td>\n",
       "      <td>0.0</td>\n",
       "      <td>0.0</td>\n",
       "    </tr>\n",
       "    <tr>\n",
       "      <th>2</th>\n",
       "      <td>1740119438841306669</td>\n",
       "      <td>1484757067</td>\n",
       "      <td>20170118</td>\n",
       "      <td>20</td>\n",
       "      <td>NaN</td>\n",
       "      <td>NaN</td>\n",
       "      <td>853</td>\n",
       "      <td>20</td>\n",
       "      <td>[0, 0, 0, 0, 0, 0, 0, 0, 0, 0, 0, 0, 0, 0, 0, ...</td>\n",
       "      <td>NaN</td>\n",
       "      <td>0.0</td>\n",
       "      <td>0.0</td>\n",
       "    </tr>\n",
       "  </tbody>\n",
       "</table>\n",
       "</div>"
      ],
      "text/plain": [
       "         fullVisitorId     visitId      date  pageViews  sessionQualityDim  \\\n",
       "0  8839065493642053324  1496683872  20170605         22                NaN   \n",
       "1  6838503583738299884  1493517242  20170429         15                NaN   \n",
       "2  1740119438841306669  1484757067  20170118         20                NaN   \n",
       "\n",
       "   bounce_rate  timeOnSite  hits  \\\n",
       "0          NaN         705    31   \n",
       "1          NaN         831    15   \n",
       "2          NaN         853    20   \n",
       "\n",
       "                                         action_type  transactions  \\\n",
       "0  [0, 1, 2, 3, 1, 2, 3, 1, 2, 3, 1, 2, 3, 0, 4, ...           1.0   \n",
       "1      [0, 0, 0, 0, 0, 0, 0, 0, 0, 0, 0, 0, 0, 0, 0]           NaN   \n",
       "2  [0, 0, 0, 0, 0, 0, 0, 0, 0, 0, 0, 0, 0, 0, 0, ...           NaN   \n",
       "\n",
       "   common_actions  max_session_action  \n",
       "0             0.0                 6.0  \n",
       "1             0.0                 0.0  \n",
       "2             0.0                 0.0  "
      ]
     },
     "execution_count": 11,
     "metadata": {},
     "output_type": "execute_result"
    }
   ],
   "source": [
    "# Handle the arrays action_type and hitNumber,\n",
    "# Expand action_type array, choose the max number in the array\n",
    "\n",
    "df2 = df_arr.withColumn(\"max_session_action\", fn.expr(\"array_max(action_type)\").cast(DoubleType()))\n",
    "df2.limit(3).toPandas()"
   ]
  },
  {
   "cell_type": "code",
   "execution_count": 8,
   "id": "dcc876a2",
   "metadata": {},
   "outputs": [
    {
     "data": {
      "text/html": [
       "<div>\n",
       "<style scoped>\n",
       "    .dataframe tbody tr th:only-of-type {\n",
       "        vertical-align: middle;\n",
       "    }\n",
       "\n",
       "    .dataframe tbody tr th {\n",
       "        vertical-align: top;\n",
       "    }\n",
       "\n",
       "    .dataframe thead th {\n",
       "        text-align: right;\n",
       "    }\n",
       "</style>\n",
       "<table border=\"1\" class=\"dataframe\">\n",
       "  <thead>\n",
       "    <tr style=\"text-align: right;\">\n",
       "      <th></th>\n",
       "      <th>UserID</th>\n",
       "      <th>date</th>\n",
       "      <th>VIEWs</th>\n",
       "      <th>isClick</th>\n",
       "      <th>time</th>\n",
       "      <th>hitNumber</th>\n",
       "      <th>isImpression</th>\n",
       "      <th>action_type</th>\n",
       "    </tr>\n",
       "  </thead>\n",
       "  <tbody>\n",
       "    <tr>\n",
       "      <th>0</th>\n",
       "      <td>05007111556187772231494878679</td>\n",
       "      <td>20170515</td>\n",
       "      <td>12</td>\n",
       "      <td>None</td>\n",
       "      <td>0</td>\n",
       "      <td>1</td>\n",
       "      <td>True</td>\n",
       "      <td>0</td>\n",
       "    </tr>\n",
       "    <tr>\n",
       "      <th>1</th>\n",
       "      <td>42272486302910812531494854668</td>\n",
       "      <td>20170515</td>\n",
       "      <td>12</td>\n",
       "      <td>None</td>\n",
       "      <td>0</td>\n",
       "      <td>1</td>\n",
       "      <td>True</td>\n",
       "      <td>0</td>\n",
       "    </tr>\n",
       "    <tr>\n",
       "      <th>2</th>\n",
       "      <td>62739571200727631611494899498</td>\n",
       "      <td>20170515</td>\n",
       "      <td>12</td>\n",
       "      <td>None</td>\n",
       "      <td>0</td>\n",
       "      <td>1</td>\n",
       "      <td>True</td>\n",
       "      <td>0</td>\n",
       "    </tr>\n",
       "    <tr>\n",
       "      <th>3</th>\n",
       "      <td>30839048657399022291494873402</td>\n",
       "      <td>20170515</td>\n",
       "      <td>12</td>\n",
       "      <td>None</td>\n",
       "      <td>0</td>\n",
       "      <td>1</td>\n",
       "      <td>True</td>\n",
       "      <td>0</td>\n",
       "    </tr>\n",
       "    <tr>\n",
       "      <th>4</th>\n",
       "      <td>93393142534244922571494875972</td>\n",
       "      <td>20170515</td>\n",
       "      <td>12</td>\n",
       "      <td>None</td>\n",
       "      <td>0</td>\n",
       "      <td>1</td>\n",
       "      <td>True</td>\n",
       "      <td>0</td>\n",
       "    </tr>\n",
       "  </tbody>\n",
       "</table>\n",
       "</div>"
      ],
      "text/plain": [
       "                          UserID      date  VIEWs isClick  time  hitNumber  \\\n",
       "0  05007111556187772231494878679  20170515     12    None     0          1   \n",
       "1  42272486302910812531494854668  20170515     12    None     0          1   \n",
       "2  62739571200727631611494899498  20170515     12    None     0          1   \n",
       "3  30839048657399022291494873402  20170515     12    None     0          1   \n",
       "4  93393142534244922571494875972  20170515     12    None     0          1   \n",
       "\n",
       "   isImpression action_type  \n",
       "0          True           0  \n",
       "1          True           0  \n",
       "2          True           0  \n",
       "3          True           0  \n",
       "4          True           0  "
      ]
     },
     "execution_count": 8,
     "metadata": {},
     "output_type": "execute_result"
    }
   ],
   "source": [
    "# Create a new Id using fullVisitorId and visitId, drop fullVisitor, visitId\n",
    "\n",
    "df_Id = df.withColumn('UserID', fn.concat(df.fullVisitorId, df.visitId))\n",
    "df_new = df_Id.select('UserID', \"date\", \"VIEWs\", \"isClick\", \"time\", \"hitNumber\", \"isImpression\", \"action_type\")\n",
    "df_new.limit(5).toPandas()"
   ]
  },
  {
   "cell_type": "code",
   "execution_count": 10,
   "id": "da603690",
   "metadata": {},
   "outputs": [
    {
     "name": "stderr",
     "output_type": "stream",
     "text": [
      "\r\n",
      "[Stage 5:>                                                          (0 + 4) / 4]\r\n",
      "\r\n",
      "[Stage 5:============================================>              (3 + 1) / 4]\r"
     ]
    },
    {
     "name": "stdout",
     "output_type": "stream",
     "text": [
      "+-------+------------------+-----------------+------------------+------------------+\n",
      "|summary|             VIEWs|             time|         hitNumber|       action_type|\n",
      "+-------+------------------+-----------------+------------------+------------------+\n",
      "|  count|           1333071|          1333071|           1333071|           1333071|\n",
      "|   mean| 6.063232190933566|348747.6578936906|12.986027750960002|0.8296152267958721|\n",
      "| stddev|5.0496761108400054|603016.7726252243| 20.77305231437836| 1.332204379096519|\n",
      "|    min|                 1|                0|                 1|                 0|\n",
      "|    25%|                 1|            34123|                 3|               0.0|\n",
      "|    50%|                 3|           132849|                 7|               0.0|\n",
      "|    75%|                12|           393648|                15|               1.0|\n",
      "|    max|                54|         12135786|               500|                 6|\n",
      "+-------+------------------+-----------------+------------------+------------------+\n",
      "\n"
     ]
    },
    {
     "name": "stderr",
     "output_type": "stream",
     "text": [
      "\r\n",
      "                                                                                \r"
     ]
    }
   ],
   "source": [
    "# Show the descriptive statistics of some columns\n",
    "\n",
    "df_new.select( \"VIEWs\", \"isClick\", \"time\", \"hitNumber\", \"action_type\").summary().show()\n"
   ]
  },
  {
   "cell_type": "code",
   "execution_count": 12,
   "id": "adad10d7",
   "metadata": {},
   "outputs": [
    {
     "name": "stdout",
     "output_type": "stream",
     "text": [
      "+-----------+------+\n",
      "|action_type| count|\n",
      "+-----------+------+\n",
      "|          3| 65232|\n",
      "|          0|810505|\n",
      "|          5| 46456|\n",
      "|          6| 13436|\n",
      "|          1|215560|\n",
      "|          4|  9010|\n",
      "|          2|172872|\n",
      "+-----------+------+\n",
      "\n"
     ]
    }
   ],
   "source": [
    "# Count the action type column, notice the imbalance \n",
    "\n",
    "df_new.groupBy('action_type').count().show()"
   ]
  },
  {
   "cell_type": "code",
   "execution_count": 15,
   "id": "55958c0f",
   "metadata": {},
   "outputs": [
    {
     "name": "stdout",
     "output_type": "stream",
     "text": [
      "+-------+-------+\n",
      "|isClick|  count|\n",
      "+-------+-------+\n",
      "|   null|1117511|\n",
      "|   true| 215560|\n",
      "+-------+-------+\n",
      "\n"
     ]
    }
   ],
   "source": [
    "# Count the isClick column, notice the imbalance \n",
    "\n",
    "df_new.groupBy('isClick').count().show()"
   ]
  },
  {
   "cell_type": "code",
   "execution_count": 16,
   "id": "b88119e9",
   "metadata": {},
   "outputs": [
    {
     "name": "stdout",
     "output_type": "stream",
     "text": [
      "+------------+------+\n",
      "|isImpression| count|\n",
      "+------------+------+\n",
      "|        null|522566|\n",
      "|        true|810505|\n",
      "+------------+------+\n",
      "\n"
     ]
    }
   ],
   "source": [
    "# Count the isImpression column, notice the imbalance \n",
    "\n",
    "df_new.groupBy('isImpression').count().show()"
   ]
  },
  {
   "cell_type": "code",
   "execution_count": 9,
   "id": "0f0ce87c",
   "metadata": {},
   "outputs": [
    {
     "name": "stderr",
     "output_type": "stream",
     "text": [
      "\r\n",
      "[Stage 5:============================================>              (3 + 1) / 4]\r\n",
      "\r\n",
      "                                                                                \r"
     ]
    },
    {
     "data": {
      "text/html": [
       "<div>\n",
       "<style scoped>\n",
       "    .dataframe tbody tr th:only-of-type {\n",
       "        vertical-align: middle;\n",
       "    }\n",
       "\n",
       "    .dataframe tbody tr th {\n",
       "        vertical-align: top;\n",
       "    }\n",
       "\n",
       "    .dataframe thead th {\n",
       "        text-align: right;\n",
       "    }\n",
       "</style>\n",
       "<table border=\"1\" class=\"dataframe\">\n",
       "  <thead>\n",
       "    <tr style=\"text-align: right;\">\n",
       "      <th></th>\n",
       "      <th>UserID</th>\n",
       "      <th>date</th>\n",
       "      <th>VIEWs</th>\n",
       "      <th>isClick</th>\n",
       "      <th>time</th>\n",
       "      <th>hitNumber</th>\n",
       "      <th>isImpression</th>\n",
       "      <th>action_type</th>\n",
       "    </tr>\n",
       "  </thead>\n",
       "  <tbody>\n",
       "    <tr>\n",
       "      <th>0</th>\n",
       "      <td>05007111556187772231494878679</td>\n",
       "      <td>20170515</td>\n",
       "      <td>12</td>\n",
       "      <td>NaN</td>\n",
       "      <td>0</td>\n",
       "      <td>1</td>\n",
       "      <td>1</td>\n",
       "      <td>0</td>\n",
       "    </tr>\n",
       "    <tr>\n",
       "      <th>1</th>\n",
       "      <td>42272486302910812531494854668</td>\n",
       "      <td>20170515</td>\n",
       "      <td>12</td>\n",
       "      <td>NaN</td>\n",
       "      <td>0</td>\n",
       "      <td>1</td>\n",
       "      <td>1</td>\n",
       "      <td>0</td>\n",
       "    </tr>\n",
       "    <tr>\n",
       "      <th>2</th>\n",
       "      <td>62739571200727631611494899498</td>\n",
       "      <td>20170515</td>\n",
       "      <td>12</td>\n",
       "      <td>NaN</td>\n",
       "      <td>0</td>\n",
       "      <td>1</td>\n",
       "      <td>1</td>\n",
       "      <td>0</td>\n",
       "    </tr>\n",
       "    <tr>\n",
       "      <th>3</th>\n",
       "      <td>30839048657399022291494873402</td>\n",
       "      <td>20170515</td>\n",
       "      <td>12</td>\n",
       "      <td>NaN</td>\n",
       "      <td>0</td>\n",
       "      <td>1</td>\n",
       "      <td>1</td>\n",
       "      <td>0</td>\n",
       "    </tr>\n",
       "    <tr>\n",
       "      <th>4</th>\n",
       "      <td>93393142534244922571494875972</td>\n",
       "      <td>20170515</td>\n",
       "      <td>12</td>\n",
       "      <td>NaN</td>\n",
       "      <td>0</td>\n",
       "      <td>1</td>\n",
       "      <td>1</td>\n",
       "      <td>0</td>\n",
       "    </tr>\n",
       "    <tr>\n",
       "      <th>...</th>\n",
       "      <td>...</td>\n",
       "      <td>...</td>\n",
       "      <td>...</td>\n",
       "      <td>...</td>\n",
       "      <td>...</td>\n",
       "      <td>...</td>\n",
       "      <td>...</td>\n",
       "      <td>...</td>\n",
       "    </tr>\n",
       "    <tr>\n",
       "      <th>95</th>\n",
       "      <td>79260523670918245741494881623</td>\n",
       "      <td>20170515</td>\n",
       "      <td>1</td>\n",
       "      <td>NaN</td>\n",
       "      <td>0</td>\n",
       "      <td>1</td>\n",
       "      <td>1</td>\n",
       "      <td>0</td>\n",
       "    </tr>\n",
       "    <tr>\n",
       "      <th>96</th>\n",
       "      <td>62251246383869901791494841162</td>\n",
       "      <td>20170515</td>\n",
       "      <td>12</td>\n",
       "      <td>NaN</td>\n",
       "      <td>173503</td>\n",
       "      <td>6</td>\n",
       "      <td>1</td>\n",
       "      <td>0</td>\n",
       "    </tr>\n",
       "    <tr>\n",
       "      <th>97</th>\n",
       "      <td>71854025926827735341494903189</td>\n",
       "      <td>20170515</td>\n",
       "      <td>12</td>\n",
       "      <td>NaN</td>\n",
       "      <td>20470</td>\n",
       "      <td>3</td>\n",
       "      <td>1</td>\n",
       "      <td>0</td>\n",
       "    </tr>\n",
       "    <tr>\n",
       "      <th>98</th>\n",
       "      <td>19245515424563076541494901079</td>\n",
       "      <td>20170515</td>\n",
       "      <td>12</td>\n",
       "      <td>NaN</td>\n",
       "      <td>206263</td>\n",
       "      <td>7</td>\n",
       "      <td>1</td>\n",
       "      <td>0</td>\n",
       "    </tr>\n",
       "    <tr>\n",
       "      <th>99</th>\n",
       "      <td>18098176066237910871494912997</td>\n",
       "      <td>20170515</td>\n",
       "      <td>3</td>\n",
       "      <td>NaN</td>\n",
       "      <td>31800</td>\n",
       "      <td>2</td>\n",
       "      <td>1</td>\n",
       "      <td>0</td>\n",
       "    </tr>\n",
       "  </tbody>\n",
       "</table>\n",
       "<p>100 rows × 8 columns</p>\n",
       "</div>"
      ],
      "text/plain": [
       "                           UserID      date  VIEWs  isClick    time  \\\n",
       "0   05007111556187772231494878679  20170515     12      NaN       0   \n",
       "1   42272486302910812531494854668  20170515     12      NaN       0   \n",
       "2   62739571200727631611494899498  20170515     12      NaN       0   \n",
       "3   30839048657399022291494873402  20170515     12      NaN       0   \n",
       "4   93393142534244922571494875972  20170515     12      NaN       0   \n",
       "..                            ...       ...    ...      ...     ...   \n",
       "95  79260523670918245741494881623  20170515      1      NaN       0   \n",
       "96  62251246383869901791494841162  20170515     12      NaN  173503   \n",
       "97  71854025926827735341494903189  20170515     12      NaN   20470   \n",
       "98  19245515424563076541494901079  20170515     12      NaN  206263   \n",
       "99  18098176066237910871494912997  20170515      3      NaN   31800   \n",
       "\n",
       "    hitNumber  isImpression action_type  \n",
       "0           1             1           0  \n",
       "1           1             1           0  \n",
       "2           1             1           0  \n",
       "3           1             1           0  \n",
       "4           1             1           0  \n",
       "..        ...           ...         ...  \n",
       "95          1             1           0  \n",
       "96          6             1           0  \n",
       "97          3             1           0  \n",
       "98          7             1           0  \n",
       "99          2             1           0  \n",
       "\n",
       "[100 rows x 8 columns]"
      ]
     },
     "execution_count": 9,
     "metadata": {},
     "output_type": "execute_result"
    }
   ],
   "source": [
    "# change IsImpression and IsClick to true = 1 and null = 0\n",
    "\n",
    "df2 = df_new.withColumn(\"isImpression\", fn.when((df_new.isImpression==True), 1))\n",
    "df3 = df2.withColumn(\"isClick\", fn.when((df_new.isClick==True), 1))\n",
    "df3.limit(100).toPandas()"
   ]
  },
  {
   "cell_type": "code",
   "execution_count": 10,
   "id": "e02c528e",
   "metadata": {},
   "outputs": [
    {
     "data": {
      "text/html": [
       "<div>\n",
       "<style scoped>\n",
       "    .dataframe tbody tr th:only-of-type {\n",
       "        vertical-align: middle;\n",
       "    }\n",
       "\n",
       "    .dataframe tbody tr th {\n",
       "        vertical-align: top;\n",
       "    }\n",
       "\n",
       "    .dataframe thead th {\n",
       "        text-align: right;\n",
       "    }\n",
       "</style>\n",
       "<table border=\"1\" class=\"dataframe\">\n",
       "  <thead>\n",
       "    <tr style=\"text-align: right;\">\n",
       "      <th></th>\n",
       "      <th>UserID</th>\n",
       "      <th>date</th>\n",
       "      <th>VIEWs</th>\n",
       "      <th>isClick</th>\n",
       "      <th>time</th>\n",
       "      <th>hitNumber</th>\n",
       "      <th>isImpression</th>\n",
       "      <th>action_type</th>\n",
       "      <th>label</th>\n",
       "    </tr>\n",
       "  </thead>\n",
       "  <tbody>\n",
       "    <tr>\n",
       "      <th>0</th>\n",
       "      <td>05007111556187772231494878679</td>\n",
       "      <td>20170515</td>\n",
       "      <td>12</td>\n",
       "      <td>NaN</td>\n",
       "      <td>0</td>\n",
       "      <td>1</td>\n",
       "      <td>1</td>\n",
       "      <td>0</td>\n",
       "      <td>0</td>\n",
       "    </tr>\n",
       "    <tr>\n",
       "      <th>1</th>\n",
       "      <td>42272486302910812531494854668</td>\n",
       "      <td>20170515</td>\n",
       "      <td>12</td>\n",
       "      <td>NaN</td>\n",
       "      <td>0</td>\n",
       "      <td>1</td>\n",
       "      <td>1</td>\n",
       "      <td>0</td>\n",
       "      <td>0</td>\n",
       "    </tr>\n",
       "    <tr>\n",
       "      <th>2</th>\n",
       "      <td>62739571200727631611494899498</td>\n",
       "      <td>20170515</td>\n",
       "      <td>12</td>\n",
       "      <td>NaN</td>\n",
       "      <td>0</td>\n",
       "      <td>1</td>\n",
       "      <td>1</td>\n",
       "      <td>0</td>\n",
       "      <td>0</td>\n",
       "    </tr>\n",
       "    <tr>\n",
       "      <th>3</th>\n",
       "      <td>30839048657399022291494873402</td>\n",
       "      <td>20170515</td>\n",
       "      <td>12</td>\n",
       "      <td>NaN</td>\n",
       "      <td>0</td>\n",
       "      <td>1</td>\n",
       "      <td>1</td>\n",
       "      <td>0</td>\n",
       "      <td>0</td>\n",
       "    </tr>\n",
       "    <tr>\n",
       "      <th>4</th>\n",
       "      <td>93393142534244922571494875972</td>\n",
       "      <td>20170515</td>\n",
       "      <td>12</td>\n",
       "      <td>NaN</td>\n",
       "      <td>0</td>\n",
       "      <td>1</td>\n",
       "      <td>1</td>\n",
       "      <td>0</td>\n",
       "      <td>0</td>\n",
       "    </tr>\n",
       "  </tbody>\n",
       "</table>\n",
       "</div>"
      ],
      "text/plain": [
       "                          UserID      date  VIEWs  isClick  time  hitNumber  \\\n",
       "0  05007111556187772231494878679  20170515     12      NaN     0          1   \n",
       "1  42272486302910812531494854668  20170515     12      NaN     0          1   \n",
       "2  62739571200727631611494899498  20170515     12      NaN     0          1   \n",
       "3  30839048657399022291494873402  20170515     12      NaN     0          1   \n",
       "4  93393142534244922571494875972  20170515     12      NaN     0          1   \n",
       "\n",
       "   isImpression action_type  label  \n",
       "0             1           0      0  \n",
       "1             1           0      0  \n",
       "2             1           0      0  \n",
       "3             1           0      0  \n",
       "4             1           0      0  "
      ]
     },
     "execution_count": 10,
     "metadata": {},
     "output_type": "execute_result"
    }
   ],
   "source": [
    "\"\"\"\n",
    "    Create Input and Output Fields\n",
    "    Create a label using action_type field\n",
    "\"\"\"\n",
    "\n",
    "df = df3.withColumn(\"label\", fn.when((df3.action_type>=5), 3).when((df3.action_type==3)|(df3.action_type==4), 2).when((df3.action_type==1)|(df3.action_type==2), 1).otherwise(0))\n",
    "\n",
    "df.limit(5).toPandas()"
   ]
  },
  {
   "cell_type": "code",
   "execution_count": 11,
   "id": "ab46da5c",
   "metadata": {},
   "outputs": [],
   "source": [
    "#fill null values\n",
    "df = df.fillna(0)"
   ]
  },
  {
   "cell_type": "code",
   "execution_count": 12,
   "id": "7e0dff41",
   "metadata": {},
   "outputs": [
    {
     "name": "stderr",
     "output_type": "stream",
     "text": [
      "\r\n",
      "[Stage 9:============================================>              (3 + 1) / 4]\r"
     ]
    },
    {
     "name": "stdout",
     "output_type": "stream",
     "text": [
      "+-----+------+\n",
      "|label| count|\n",
      "+-----+------+\n",
      "|    1|388432|\n",
      "|    3| 59892|\n",
      "|    2| 74242|\n",
      "|    0|810505|\n",
      "+-----+------+\n",
      "\n"
     ]
    },
    {
     "name": "stderr",
     "output_type": "stream",
     "text": [
      "\r\n",
      "                                                                                \r"
     ]
    }
   ],
   "source": [
    "# Determine the count of records for each target\n",
    "\n",
    "df.groupBy('label').count().show()"
   ]
  },
  {
   "cell_type": "code",
   "execution_count": 13,
   "id": "35b4f96e",
   "metadata": {},
   "outputs": [
    {
     "name": "stderr",
     "output_type": "stream",
     "text": [
      "                                                                                \r"
     ]
    }
   ],
   "source": [
    "# Transform string columns UserID and action_type, isClick and isImpression to index \n",
    "from pyspark.ml.linalg import Vectors\n",
    "from pyspark.ml.feature import OneHotEncoder, StringIndexer, VectorAssembler\n",
    "\n",
    "userId_action_indexer = StringIndexer(inputCols=[\"UserID\", \"action_type\"], outputCols=[\"userID_index\", \"action_index\"], handleInvalid=\"keep\").fit(df)\n",
    "df_new = userId_action_indexer.transform(df)\n",
    "# user_action_encoder = OneHotEncoder(inputCols=[\"userID_index\", \"action_index\", \"is_click_index\", \"is_impression_index\"], outputCols=[\"userId_vec\", \"action_vec\", \"is_click_vec\", \"is_impression_vec\"]).fit(df_new)\n",
    "# df_vectors = user_action_encoder.transform(df_new)"
   ]
  },
  {
   "cell_type": "code",
   "execution_count": 52,
   "id": "2d21008c",
   "metadata": {},
   "outputs": [
    {
     "name": "stderr",
     "output_type": "stream",
     "text": [
      "21/11/10 17:57:03 WARN DAGScheduler: Broadcasting large task binary with size 14.1 MiB\n",
      "[Stage 1500:>                                                       (0 + 1) / 1]\r"
     ]
    },
    {
     "name": "stdout",
     "output_type": "stream",
     "text": [
      "+--------------------+-----+\n",
      "|            features|label|\n",
      "+--------------------+-----+\n",
      "|[153387.0,12.0,0....|    0|\n",
      "|[202614.0,12.0,0....|    0|\n",
      "|[229075.0,12.0,0....|    0|\n",
      "+--------------------+-----+\n",
      "only showing top 3 rows\n",
      "\n"
     ]
    },
    {
     "name": "stderr",
     "output_type": "stream",
     "text": [
      "\r\n",
      "                                                                                \r"
     ]
    }
   ],
   "source": [
    "from pyspark.ml.linalg import Vectors\n",
    "from pyspark.ml.feature import OneHotEncoder, StringIndexer, VectorAssembler\n",
    "\n",
    "# Transform dataframe input features, drop date columns \n",
    "\n",
    "assembler = VectorAssembler(inputCols=[\"userID_index\", \"VIEWs\", \"isClick\", \"time\", \"hitNumber\",\"isImpression\", \"action_index\"], outputCol=\"features\")\n",
    "\n",
    "data = assembler.transform(df_new)\n",
    "\n",
    "data.select(\"features\", \"label\").show(3)"
   ]
  },
  {
   "cell_type": "code",
   "execution_count": 53,
   "id": "ce3af664",
   "metadata": {},
   "outputs": [
    {
     "name": "stderr",
     "output_type": "stream",
     "text": [
      "21/11/10 17:57:10 WARN DAGScheduler: Broadcasting large task binary with size 15.5 MiB\n",
      "21/11/10 17:57:11 WARN DAGScheduler: Broadcasting large task binary with size 15.5 MiB\n",
      "21/11/10 17:57:18 WARN DAGScheduler: Broadcasting large task binary with size 15.5 MiB\n",
      "21/11/10 17:57:19 WARN DAGScheduler: Broadcasting large task binary with size 15.5 MiB\n",
      "[Stage 1504:==========================================>             (3 + 1) / 4]\r"
     ]
    },
    {
     "name": "stdout",
     "output_type": "stream",
     "text": [
      "Pearson correlation matrix \n",
      " DenseMatrix([[ 1.        ,  0.3689005 , -0.20655342, -0.32251847, -0.36832981,\n",
      "               0.3840573 , -0.31585236],\n",
      "             [ 0.3689005 ,  1.        , -0.44037501, -0.13429467, -0.18725795,\n",
      "               0.77090871, -0.58854147],\n",
      "             [-0.20655342, -0.44037501,  1.        ,  0.02388623,  0.05869252,\n",
      "              -0.54697246,  0.07149785],\n",
      "             [-0.32251847, -0.13429467,  0.02388623,  1.        ,  0.68300207,\n",
      "              -0.1516593 ,  0.22169416],\n",
      "             [-0.36832981, -0.18725795,  0.05869252,  0.68300207,  1.        ,\n",
      "              -0.217172  ,  0.26631988],\n",
      "             [ 0.3840573 ,  0.77090871, -0.54697246, -0.1516593 , -0.217172  ,\n",
      "               1.        , -0.80194802],\n",
      "             [-0.31585236, -0.58854147,  0.07149785,  0.22169416,  0.26631988,\n",
      "              -0.80194802,  1.        ]])\n"
     ]
    },
    {
     "name": "stderr",
     "output_type": "stream",
     "text": [
      "\r\n",
      "                                                                                \r"
     ]
    }
   ],
   "source": [
    "# Perform Correlation of inputs and output fields\n",
    "\n",
    "from pyspark.ml.stat import Correlation\n",
    "\n",
    "pearson_corr = Correlation.corr(data, \"features\").head()\n",
    "print(\"Pearson correlation matrix \\n\", str(pearson_corr[0]))"
   ]
  },
  {
   "cell_type": "code",
   "execution_count": 54,
   "id": "3eb53743",
   "metadata": {},
   "outputs": [],
   "source": [
    "pearson_array = pearson_corr[0].toArray()"
   ]
  },
  {
   "cell_type": "code",
   "execution_count": 55,
   "id": "27aab168",
   "metadata": {},
   "outputs": [
    {
     "data": {
      "image/png": "[encoded data removed]",
      "text/plain": [
       "<Figure size 720x576 with 2 Axes>"
      ]
     },
     "metadata": {
      "needs_background": "light"
     },
     "output_type": "display_data"
    }
   ],
   "source": [
    "fig = plt.figure(figsize=(10,8))\n",
    "ax = plt.subplot(111)\n",
    "sns.heatmap(pearson_array, annot=True, cmap=\"Blues\", ax=ax)\n",
    "\n",
    "classes = [\"UserID\", \"Views\", \"isClick\", \"time\", \"hitNumber\",\"isImpression\", \"action_type\"]\n",
    "\n",
    "tick_marks = np.arange(len(classes))\n",
    "\n",
    "plt.xticks(tick_marks, classes, rotation=45)\n",
    "plt.yticks(tick_marks, classes, rotation=10)\n",
    "plt.xlabel('Input Features')\n",
    "plt.ylabel('Input Features') \n",
    "plt.title('Pearson Correlation of Features')\n",
    "plt.show()"
   ]
  },
  {
   "cell_type": "code",
   "execution_count": null,
   "id": "313383e9",
   "metadata": {},
   "outputs": [],
   "source": []
  },
  {
   "cell_type": "code",
   "execution_count": 104,
   "id": "01f323be",
   "metadata": {},
   "outputs": [
    {
     "name": "stdout",
     "output_type": "stream",
     "text": [
      "+--------------------+-----+\n",
      "|   assemble_features|label|\n",
      "+--------------------+-----+\n",
      "|(5,[0,2],[12.0,1.0])|    0|\n",
      "|(5,[0,2],[12.0,1.0])|    0|\n",
      "|(5,[0,2],[12.0,1.0])|    0|\n",
      "+--------------------+-----+\n",
      "only showing top 3 rows\n",
      "\n"
     ]
    }
   ],
   "source": [
    "# Since Page Views, isImpression and action_index columns are highly correlated, remove one => isImpression. \n",
    "# Drop UserID because it is unique\n",
    "\n",
    "assembler = VectorAssembler(inputCols=[\"VIEWs\", \"time\" ,\"hitNumber\", \"action_index\", \"isClick\"], outputCol=\"assemble_features\")\n",
    "\n",
    "output = assembler.transform(df_new)\n",
    "\n",
    "output.select(\"assemble_features\", \"label\").show(3)"
   ]
  },
  {
   "cell_type": "code",
   "execution_count": 105,
   "id": "0912ea50",
   "metadata": {},
   "outputs": [
    {
     "name": "stderr",
     "output_type": "stream",
     "text": [
      "21/11/10 18:43:33 WARN DAGScheduler: Broadcasting large task binary with size 14.1 MiB\n",
      "                                                                                \r"
     ]
    },
    {
     "data": {
      "text/html": [
       "<div>\n",
       "<style scoped>\n",
       "    .dataframe tbody tr th:only-of-type {\n",
       "        vertical-align: middle;\n",
       "    }\n",
       "\n",
       "    .dataframe tbody tr th {\n",
       "        vertical-align: top;\n",
       "    }\n",
       "\n",
       "    .dataframe thead th {\n",
       "        text-align: right;\n",
       "    }\n",
       "</style>\n",
       "<table border=\"1\" class=\"dataframe\">\n",
       "  <thead>\n",
       "    <tr style=\"text-align: right;\">\n",
       "      <th></th>\n",
       "      <th>UserID</th>\n",
       "      <th>date</th>\n",
       "      <th>VIEWs</th>\n",
       "      <th>isClick</th>\n",
       "      <th>time</th>\n",
       "      <th>hitNumber</th>\n",
       "      <th>isImpression</th>\n",
       "      <th>action_type</th>\n",
       "      <th>label</th>\n",
       "      <th>userID_index</th>\n",
       "      <th>action_index</th>\n",
       "      <th>assemble_features</th>\n",
       "      <th>features</th>\n",
       "    </tr>\n",
       "  </thead>\n",
       "  <tbody>\n",
       "    <tr>\n",
       "      <th>0</th>\n",
       "      <td>05007111556187772231494878679</td>\n",
       "      <td>20170515</td>\n",
       "      <td>12</td>\n",
       "      <td>0</td>\n",
       "      <td>0</td>\n",
       "      <td>1</td>\n",
       "      <td>1</td>\n",
       "      <td>0</td>\n",
       "      <td>0</td>\n",
       "      <td>153387.0</td>\n",
       "      <td>0.0</td>\n",
       "      <td>(12.0, 0.0, 1.0, 0.0, 0.0)</td>\n",
       "      <td>(0.9230769230769231, 0.0, 0.07692307692307693,...</td>\n",
       "    </tr>\n",
       "    <tr>\n",
       "      <th>1</th>\n",
       "      <td>42272486302910812531494854668</td>\n",
       "      <td>20170515</td>\n",
       "      <td>12</td>\n",
       "      <td>0</td>\n",
       "      <td>0</td>\n",
       "      <td>1</td>\n",
       "      <td>1</td>\n",
       "      <td>0</td>\n",
       "      <td>0</td>\n",
       "      <td>202614.0</td>\n",
       "      <td>0.0</td>\n",
       "      <td>(12.0, 0.0, 1.0, 0.0, 0.0)</td>\n",
       "      <td>(0.9230769230769231, 0.0, 0.07692307692307693,...</td>\n",
       "    </tr>\n",
       "  </tbody>\n",
       "</table>\n",
       "</div>"
      ],
      "text/plain": [
       "                          UserID      date  VIEWs  isClick  time  hitNumber  \\\n",
       "0  05007111556187772231494878679  20170515     12        0     0          1   \n",
       "1  42272486302910812531494854668  20170515     12        0     0          1   \n",
       "\n",
       "   isImpression action_type  label  userID_index  action_index  \\\n",
       "0             1           0      0      153387.0           0.0   \n",
       "1             1           0      0      202614.0           0.0   \n",
       "\n",
       "            assemble_features  \\\n",
       "0  (12.0, 0.0, 1.0, 0.0, 0.0)   \n",
       "1  (12.0, 0.0, 1.0, 0.0, 0.0)   \n",
       "\n",
       "                                            features  \n",
       "0  (0.9230769230769231, 0.0, 0.07692307692307693,...  \n",
       "1  (0.9230769230769231, 0.0, 0.07692307692307693,...  "
      ]
     },
     "execution_count": 105,
     "metadata": {},
     "output_type": "execute_result"
    }
   ],
   "source": [
    "# Apply Normalisation before splitting\n",
    "from pyspark.ml.feature import Normalizer\n",
    "\n",
    "\n",
    "normalizer = Normalizer(inputCol=\"assemble_features\", outputCol=\"features\", p=1.0)\n",
    "\n",
    "df_normalized = normalizer.transform(output)\n",
    "df_normalized.limit(2).toPandas()"
   ]
  },
  {
   "cell_type": "code",
   "execution_count": null,
   "id": "a02f572c",
   "metadata": {},
   "outputs": [],
   "source": []
  },
  {
   "cell_type": "markdown",
   "id": "dcf7f2e5",
   "metadata": {},
   "source": [
    "# Model Training and Validation"
   ]
  },
  {
   "cell_type": "markdown",
   "id": "b6dfc698",
   "metadata": {},
   "source": [
    "# K Means Clustering "
   ]
  },
  {
   "cell_type": "code",
   "execution_count": 27,
   "id": "39a1e526",
   "metadata": {},
   "outputs": [],
   "source": [
    "from pyspark.ml.clustering import KMeans, KMeansModel\n",
    "from pyspark.ml.evaluation import ClusteringEvaluator"
   ]
  },
  {
   "cell_type": "code",
   "execution_count": 19,
   "id": "64833716",
   "metadata": {},
   "outputs": [],
   "source": [
    "def KMeansModel(data):\n",
    "    \n",
    "    kmeans = KMeans().setK(2).setSeed(1)\n",
    "    \n",
    "    estimator = kmeans.fit(data)\n",
    "    \n",
    "    \n",
    "    return estimator"
   ]
  },
  {
   "cell_type": "code",
   "execution_count": 24,
   "id": "6d9f3c9d",
   "metadata": {
    "scrolled": false
   },
   "outputs": [],
   "source": [
    "model = KMeansModel(data)"
   ]
  },
  {
   "cell_type": "code",
   "execution_count": 23,
   "id": "46ed0b22",
   "metadata": {},
   "outputs": [
    {
     "name": "stderr",
     "output_type": "stream",
     "text": [
      "21/11/09 19:50:40 WARN DAGScheduler: Broadcasting large task binary with size 14.2 MiB\n",
      "21/11/09 19:50:47 WARN DAGScheduler: Broadcasting large task binary with size 14.2 MiB\n",
      "[Stage 56:===========================================>              (3 + 1) / 4]\r"
     ]
    },
    {
     "name": "stdout",
     "output_type": "stream",
     "text": [
      "Silhouette with squared euclidean distance = 0.785032629253814\n"
     ]
    },
    {
     "name": "stderr",
     "output_type": "stream",
     "text": [
      "\r\n",
      "                                                                                \r"
     ]
    }
   ],
   "source": [
    "predictions = model.transform(data)\n",
    "model_eval = ClusteringEvaluator().evaluate(predictions)\n",
    "\n",
    "print(\"Silhouette with squared euclidean distance =\", str(model_eval))"
   ]
  },
  {
   "cell_type": "code",
   "execution_count": 56,
   "id": "ff11ac3f",
   "metadata": {},
   "outputs": [
    {
     "name": "stdout",
     "output_type": "stream",
     "text": [
      "Cluster Centers: \n",
      "[5.54516358e+04 1.49723809e+09 5.89252756e+00 1.64124280e-01\n",
      " 3.39174222e+05 1.21692110e+01 6.02743451e-01 8.15560862e-01]\n",
      "[5.17051824e+04 1.48793369e+09 6.24511890e+00 1.59120665e-01\n",
      " 3.58948206e+05 1.38563504e+01 6.13597522e-01 7.79712332e-01]\n"
     ]
    }
   ],
   "source": [
    "centers = model.clusterCenters()\n",
    "print(\"Cluster Centers: \")\n",
    "for center in centers:\n",
    "    print(center)"
   ]
  },
  {
   "cell_type": "code",
   "execution_count": 443,
   "id": "ca766934",
   "metadata": {},
   "outputs": [
    {
     "data": {
      "text/plain": [
       "[array([5.54516358e+04, 1.49723809e+09, 5.89252756e+00, 1.64124280e-01,\n",
       "        3.39174222e+05, 1.21692110e+01, 6.02743451e-01, 8.15560862e-01]),\n",
       " array([5.17051824e+04, 1.48793369e+09, 6.24511890e+00, 1.59120665e-01,\n",
       "        3.58948206e+05, 1.38563504e+01, 6.13597522e-01, 7.79712332e-01])]"
      ]
     },
     "execution_count": 443,
     "metadata": {},
     "output_type": "execute_result"
    }
   ],
   "source": [
    "centers"
   ]
  },
  {
   "cell_type": "code",
   "execution_count": 48,
   "id": "2a71ad22",
   "metadata": {},
   "outputs": [
    {
     "name": "stderr",
     "output_type": "stream",
     "text": [
      "\r\n",
      "[Stage 222:>                                                        (0 + 1) / 1]\r\n",
      "\r\n",
      "                                                                                \r"
     ]
    }
   ],
   "source": [
    "# Save model for future use\n",
    "\n",
    "path = \"/tmp/kmeans_model\"\n",
    "model.save(path)"
   ]
  },
  {
   "cell_type": "code",
   "execution_count": 55,
   "id": "ff9c8d5c",
   "metadata": {},
   "outputs": [],
   "source": [
    "# load model\n",
    "\n",
    "model2 = KMeansModel.load(path)"
   ]
  },
  {
   "cell_type": "code",
   "execution_count": null,
   "id": "1a988be1",
   "metadata": {},
   "outputs": [],
   "source": []
  },
  {
   "cell_type": "markdown",
   "id": "1619b96e",
   "metadata": {},
   "source": [
    "# Split Normalized Data Into Train and Test sets"
   ]
  },
  {
   "cell_type": "code",
   "execution_count": 106,
   "id": "05d2aa63",
   "metadata": {},
   "outputs": [],
   "source": [
    "# Randomly split normalized data into train and test\n",
    "\n",
    "df_model = df_normalized.select([\"features\", \"label\"])\n",
    "\n",
    "train, test = df_model.randomSplit([0.7, 0.3], 1256)"
   ]
  },
  {
   "cell_type": "code",
   "execution_count": null,
   "id": "ffa60824",
   "metadata": {},
   "outputs": [],
   "source": []
  },
  {
   "cell_type": "markdown",
   "id": "deff1690",
   "metadata": {},
   "source": [
    "# Logistic Regression"
   ]
  },
  {
   "cell_type": "code",
   "execution_count": 114,
   "id": "30753661",
   "metadata": {},
   "outputs": [],
   "source": [
    "from pyspark.ml.classification import LogisticRegression, LogisticRegressionModel\n",
    "from pyspark.ml.tuning import ParamGridBuilder, TrainValidationSplit, CrossValidator\n",
    "from pyspark.ml.evaluation import BinaryClassificationEvaluator, MulticlassClassificationEvaluator"
   ]
  },
  {
   "cell_type": "code",
   "execution_count": 109,
   "id": "1f3a81b0",
   "metadata": {},
   "outputs": [],
   "source": [
    "\n",
    "\n",
    "def LogModel(train):\n",
    "    \"\"\"\n",
    "    LogModel initialises the Logistic Regression Model\n",
    "    for parameter tuning.  \n",
    "    :train: is the training set of the data\n",
    "    \"\"\"\n",
    "    \n",
    "    LR = LogisticRegression(maxIter=150) \n",
    "    \n",
    "    #set parameters for the model\n",
    "    param_grid = ParamGridBuilder()\\\n",
    "                .addGrid(LR.regParam, [0.1, 0.01, 0.0]) \\\n",
    "                .build()\n",
    "    \n",
    "    #set validation\n",
    "    val_LR = tvs = CrossValidator(estimator=LR,\n",
    "                           estimatorParamMaps=param_grid,\n",
    "                           evaluator=MulticlassClassificationEvaluator(metricName=\"accuracy\"),\n",
    "                           numFolds=3)\n",
    "    \n",
    "    #fit the Log Regression model and validation\n",
    "    model = val_LR.fit(train)\n",
    "\n",
    "    return model, model.avgMetrics"
   ]
  },
  {
   "cell_type": "code",
   "execution_count": 110,
   "id": "6e147516",
   "metadata": {},
   "outputs": [],
   "source": [
    "from pyspark.ml.evaluation import BinaryClassificationEvaluator, MulticlassClassificationEvaluator\n",
    "\n",
    "def EvalModel(results, metric, evaluator):\n",
    "    \n",
    "    predict_label = results.select(\"prediction\", \"label\")\n",
    "\n",
    "    \n",
    "    print(metric + \": \" + str(evaluator.evaluate(predict_label)))\n",
    "    \n",
    "    return evaluator.evaluate(predict_label)"
   ]
  },
  {
   "cell_type": "code",
   "execution_count": 112,
   "id": "20928262",
   "metadata": {
    "scrolled": true
   },
   "outputs": [
    {
     "data": {
      "text/plain": [
       "[0.6087704221362498, 0.6092139542432821, 0.6839332503384536]"
      ]
     },
     "execution_count": 112,
     "metadata": {},
     "output_type": "execute_result"
    }
   ],
   "source": [
    "LR_model, ACU_metric = LogModel(train)\n",
    "ACU_metric"
   ]
  },
  {
   "cell_type": "code",
   "execution_count": 113,
   "id": "0d9f3f79",
   "metadata": {
    "scrolled": false
   },
   "outputs": [
    {
     "name": "stderr",
     "output_type": "stream",
     "text": [
      "                                                                                \r"
     ]
    },
    {
     "name": "stdout",
     "output_type": "stream",
     "text": [
      "areaUnderROC: 0.6160422965655313\n"
     ]
    },
    {
     "name": "stderr",
     "output_type": "stream",
     "text": [
      "                                                                                \r"
     ]
    },
    {
     "name": "stdout",
     "output_type": "stream",
     "text": [
      "accuracy: 0.688004804083471\n"
     ]
    },
    {
     "name": "stderr",
     "output_type": "stream",
     "text": [
      "                                                                                \r"
     ]
    },
    {
     "name": "stdout",
     "output_type": "stream",
     "text": [
      "f1: 0.6091732940375324\n"
     ]
    },
    {
     "name": "stderr",
     "output_type": "stream",
     "text": [
      "                                                                                \r"
     ]
    },
    {
     "name": "stdout",
     "output_type": "stream",
     "text": [
      "precision_eval: 0.6699779310193007\n"
     ]
    },
    {
     "name": "stderr",
     "output_type": "stream",
     "text": [
      "                                                                                \r"
     ]
    },
    {
     "name": "stdout",
     "output_type": "stream",
     "text": [
      "recallByLabel: 0.9999835714109694\n"
     ]
    },
    {
     "name": "stderr",
     "output_type": "stream",
     "text": [
      "                                                                                \r"
     ]
    },
    {
     "data": {
      "text/plain": [
       "0.9999835714109694"
      ]
     },
     "execution_count": 113,
     "metadata": {},
     "output_type": "execute_result"
    }
   ],
   "source": [
    "results = LR_model.bestModel.transform(test)\n",
    "\n",
    "auc_eval = BinaryClassificationEvaluator(metricName=\"areaUnderROC\", rawPredictionCol=\"prediction\")\n",
    "accuracy_eval = MulticlassClassificationEvaluator(metricName=\"accuracy\")\n",
    "f1_eval = MulticlassClassificationEvaluator(metricName=\"f1\")\n",
    "precision_eval = MulticlassClassificationEvaluator(metricName=\"precisionByLabel\")\n",
    "recall_eval = MulticlassClassificationEvaluator(metricName=\"recallByLabel\")\n",
    "\n",
    "\n",
    "EvalModel(results, \"areaUnderROC\",  auc_eval)\n",
    "EvalModel(results, \"accuracy\",  accuracy_eval)\n",
    "EvalModel(results, \"f1\",  f1_eval)\n",
    "EvalModel(results, \"precision_eval\",  precision_eval)\n",
    "EvalModel(results, \"recallByLabel\",  recall_eval)"
   ]
  },
  {
   "cell_type": "code",
   "execution_count": 362,
   "id": "7476fcc0",
   "metadata": {},
   "outputs": [],
   "source": [
    "#Obtain and plot the coefficients\n",
    "# coefs = np.sort(results.coefficientMatrix)\n",
    "\n",
    "# from pyspark.mllib.evaluation import MulticlassMetrics\n",
    "\n",
    "# predictandLabel = results.select(['prediction', 'label']).withColumn('label',col('label').cast(DoubleType())).rdd\n",
    "\n",
    "# metrics = MulticlassMetrics(predictandLabel)\n",
    "# coefs=metrics.coefficientMatrix.toArray()\n",
    "\n",
    "# coefs\n",
    "# plt.plot(coefs)\n",
    "# plt.ylabel('Logistic Regression Coefficients')\n",
    "# plt.show()"
   ]
  },
  {
   "cell_type": "code",
   "execution_count": 66,
   "id": "dc4dcc2e",
   "metadata": {},
   "outputs": [
    {
     "name": "stderr",
     "output_type": "stream",
     "text": [
      "                                                                                \r"
     ]
    }
   ],
   "source": [
    "from pyspark.mllib.evaluation import MulticlassMetrics\n",
    "\n",
    "predictandLabel = results.select(['prediction', 'label']\\\n",
    "                                      ).withColumn('label',col('label').cast(DoubleType())).rdd\n",
    "\n",
    "metrics = MulticlassMetrics(predictandLabel)\n",
    "cm=metrics.confusionMatrix().toArray()"
   ]
  },
  {
   "cell_type": "code",
   "execution_count": 67,
   "id": "9aee7774",
   "metadata": {},
   "outputs": [
    {
     "data": {
      "image/png": "[encoded data removed]",
      "text/plain": [
       "<Figure size 720x576 with 2 Axes>"
      ]
     },
     "metadata": {
      "needs_background": "light"
     },
     "output_type": "display_data"
    }
   ],
   "source": [
    "fig = plt.figure(figsize=(10,8))\n",
    "ax = plt.subplot(111)\n",
    "sns.heatmap(cm, annot=True, fmt='g', cmap=\"Blues\", ax=ax)\n",
    "classes = ['Unknown', 'Click-throughs', 'Cart', 'Purchase']\n",
    "\n",
    "tick_marks = np.arange(len(classes))\n",
    "\n",
    "plt.xlabel('Predicted labels')\n",
    "plt.ylabel('True labels') \n",
    "plt.xticks(tick_marks, classes, rotation=45)\n",
    "plt.yticks(tick_marks, classes, rotation=10)\n",
    "plt.title('Logistic Regression Confusion Matrix')\n",
    "plt.show()"
   ]
  },
  {
   "cell_type": "code",
   "execution_count": 337,
   "id": "5ed867f2",
   "metadata": {},
   "outputs": [
    {
     "name": "stderr",
     "output_type": "stream",
     "text": [
      "21/11/10 23:56:05 ERROR StrongWolfeLineSearch: Encountered bad values in function evaluation. Decreasing step size to 0.5\n",
      "21/11/10 23:56:05 ERROR StrongWolfeLineSearch: Encountered bad values in function evaluation. Decreasing step size to 0.25\n",
      "21/11/10 23:56:05 ERROR StrongWolfeLineSearch: Encountered bad values in function evaluation. Decreasing step size to 0.125\n",
      "21/11/10 23:56:05 ERROR StrongWolfeLineSearch: Encountered bad values in function evaluation. Decreasing step size to 0.5\n",
      "21/11/10 23:56:06 ERROR StrongWolfeLineSearch: Encountered bad values in function evaluation. Decreasing step size to 0.25\n",
      "21/11/10 23:56:06 ERROR StrongWolfeLineSearch: Encountered bad values in function evaluation. Decreasing step size to 0.125\n",
      "21/11/10 23:56:06 ERROR StrongWolfeLineSearch: Encountered bad values in function evaluation. Decreasing step size to 0.0625\n",
      "21/11/10 23:56:06 ERROR StrongWolfeLineSearch: Encountered bad values in function evaluation. Decreasing step size to 0.03125\n",
      "21/11/10 23:56:06 ERROR StrongWolfeLineSearch: Encountered bad values in function evaluation. Decreasing step size to 0.015625\n",
      "21/11/10 23:56:06 ERROR StrongWolfeLineSearch: Encountered bad values in function evaluation. Decreasing step size to 0.0078125\n",
      "21/11/10 23:56:07 ERROR StrongWolfeLineSearch: Encountered bad values in function evaluation. Decreasing step size to 0.0087890625\n",
      "21/11/10 23:56:07 ERROR LBFGS: Failure! Resetting history: breeze.optimize.FirstOrderException: Line search failed\n",
      "21/11/10 23:56:10 ERROR StrongWolfeLineSearch: Encountered bad values in function evaluation. Decreasing step size to 0.5\n"
     ]
    }
   ],
   "source": [
    "#Create a new model with the best parameter from tuning to save and use in application\n",
    "LR = LogisticRegression()\n",
    "LRModel = LR.fit(train)"
   ]
  },
  {
   "cell_type": "code",
   "execution_count": 361,
   "id": "26881140",
   "metadata": {},
   "outputs": [
    {
     "data": {
      "text/plain": [
       "1.0"
      ]
     },
     "execution_count": 361,
     "metadata": {},
     "output_type": "execute_result"
    }
   ],
   "source": [
    "y = ml_vectors.dense([13, 2, 20, 6, 1])\n",
    "\n",
    "predictn = LRModel.predict(y)\n",
    "predictn"
   ]
  },
  {
   "cell_type": "code",
   "execution_count": 106,
   "id": "282294dc",
   "metadata": {},
   "outputs": [],
   "source": [
    "# Obtain and plot the coefficients\n",
    "# coefs = np.sort(LRModel.coefficientMatrix)\n",
    "\n",
    "# plt.plot(coefs)\n",
    "# plt.ylabel('Logistic Regression Coefficients')\n",
    "# plt.show()"
   ]
  },
  {
   "cell_type": "code",
   "execution_count": 107,
   "id": "166486ed",
   "metadata": {},
   "outputs": [],
   "source": [
    "#Obtain and plot AUC ROC curve \n",
    "# lr_summary = LRModel.summary\n",
    "# # lr_auc = lr_summary.roc.toPandas()\n",
    "\n",
    "# # plt.plot(lr_auc['FPR'], lr_auc['TPR'])\n",
    "# # plt.ylabel('False Positive Rate')\n",
    "# # plt.xlabel('True Positive Rate')\n",
    "# # plt.title('Logistic Regression Model ROC Curve')\n",
    "# # plt.show()\n",
    "\n",
    "# # print(\"Training set areaUnderROC: \"+ str(lr_summary.areaUnderROC))\n",
    "# lr_summary.areaUnderROC"
   ]
  },
  {
   "cell_type": "code",
   "execution_count": 108,
   "id": "5bf43333",
   "metadata": {},
   "outputs": [],
   "source": [
    "# lr_pr = lr_summary.pr.toPandas()\n",
    "# plt.plot(lr_pr['recall'],lr_pr['precision'])\n",
    "# plt.ylabel('Precision')\n",
    "# plt.xlabel('Recall')\n",
    "# plt.show()"
   ]
  },
  {
   "cell_type": "code",
   "execution_count": null,
   "id": "11b45885",
   "metadata": {},
   "outputs": [],
   "source": [
    "#Save Model \n",
    "path = \"/logRegression_model\"\n",
    "LR_model.save(path)"
   ]
  },
  {
   "cell_type": "code",
   "execution_count": null,
   "id": "d1bf1e1e",
   "metadata": {},
   "outputs": [],
   "source": [
    "\n",
    "predicLR = "
   ]
  },
  {
   "cell_type": "code",
   "execution_count": 209,
   "id": "3fd35f54",
   "metadata": {},
   "outputs": [],
   "source": []
  },
  {
   "cell_type": "code",
   "execution_count": null,
   "id": "593df43c",
   "metadata": {},
   "outputs": [],
   "source": []
  },
  {
   "cell_type": "markdown",
   "id": "9abae91f",
   "metadata": {},
   "source": [
    "# Undersample training set"
   ]
  },
  {
   "cell_type": "code",
   "execution_count": 202,
   "id": "03a66a61",
   "metadata": {},
   "outputs": [
    {
     "name": "stderr",
     "output_type": "stream",
     "text": [
      "                                                                                \r"
     ]
    }
   ],
   "source": [
    "# Undersample to handle imbalanced data\n",
    "\n",
    "import math\n",
    "\n",
    "def round_up(n, d=0):\n",
    "    multiplier = 10**d\n",
    "    return math.ceil(n*multiplier)/multiplier\n",
    "\n",
    "label_0 = train.filter(train.label==0)\n",
    "label_1 = train.filter(train.label==1)\n",
    "label_2 = train.filter(train.label==2)\n",
    "label_3 = train.filter(train.label==3)\n",
    "sampleR = round_up(label_2.count()/train.count(), 3)"
   ]
  },
  {
   "cell_type": "code",
   "execution_count": 203,
   "id": "8d1bb81a",
   "metadata": {},
   "outputs": [
    {
     "name": "stderr",
     "output_type": "stream",
     "text": [
      "                                                                                \r"
     ]
    },
    {
     "data": {
      "text/html": [
       "<table border='1'>\n",
       "<tr><th>label</th><th>count</th></tr>\n",
       "<tr><td>3</td><td>44617</td></tr>\n",
       "<tr><td>0</td><td>34147</td></tr>\n",
       "<tr><td>1</td><td>16177</td></tr>\n",
       "<tr><td>2</td><td>55815</td></tr>\n",
       "</table>\n"
      ],
      "text/plain": [
       "+-----+-----+\n",
       "|label|count|\n",
       "+-----+-----+\n",
       "|    3|44617|\n",
       "|    0|34147|\n",
       "|    1|16177|\n",
       "|    2|55815|\n",
       "+-----+-----+"
      ]
     },
     "execution_count": 203,
     "metadata": {},
     "output_type": "execute_result"
    }
   ],
   "source": [
    "# Use sample 3 ratio to undersample sample 1 and 3\n",
    "\n",
    "label_0_sample = label_0.sample(False,sampleR)\n",
    "label_1_sample = label_1.sample(False, sampleR)\n",
    "\n",
    "label_3_0 = label_3.unionAll(label_0_sample)\n",
    "label_3_0_1 = label_3_0.unionAll(label_1_sample)\n",
    "train_undersample = label_3_0_1.unionAll(label_2)\n",
    "\n",
    "train_undersample.groupBy('label').count()"
   ]
  },
  {
   "cell_type": "markdown",
   "id": "a3df0d52",
   "metadata": {},
   "source": [
    "### Apply LogModel to Undersampled train set"
   ]
  },
  {
   "cell_type": "code",
   "execution_count": 206,
   "id": "10098253",
   "metadata": {},
   "outputs": [],
   "source": [
    "LR_model2, AUC_metric2 = LogModel(train_undersample)"
   ]
  },
  {
   "cell_type": "code",
   "execution_count": 205,
   "id": "44636496",
   "metadata": {},
   "outputs": [
    {
     "data": {
      "text/plain": [
       "[0.4156360928324747, 0.41566263984076035, 0.5200252837658883]"
      ]
     },
     "execution_count": 205,
     "metadata": {},
     "output_type": "execute_result"
    }
   ],
   "source": [
    "ACU_metric2"
   ]
  },
  {
   "cell_type": "code",
   "execution_count": 207,
   "id": "7735ff43",
   "metadata": {},
   "outputs": [
    {
     "name": "stderr",
     "output_type": "stream",
     "text": [
      "                                                                                \r"
     ]
    },
    {
     "name": "stdout",
     "output_type": "stream",
     "text": [
      "areaUnderROC: 0.700751845862566\n"
     ]
    },
    {
     "name": "stderr",
     "output_type": "stream",
     "text": [
      "                                                                                \r"
     ]
    },
    {
     "name": "stdout",
     "output_type": "stream",
     "text": [
      "accuracy: 0.4253401145838969\n"
     ]
    },
    {
     "name": "stderr",
     "output_type": "stream",
     "text": [
      "                                                                                \r"
     ]
    },
    {
     "name": "stdout",
     "output_type": "stream",
     "text": [
      "f1: 0.5236628134119037\n"
     ]
    },
    {
     "name": "stderr",
     "output_type": "stream",
     "text": [
      "                                                                                \r"
     ]
    },
    {
     "name": "stdout",
     "output_type": "stream",
     "text": [
      "precision_eval: 1.0\n"
     ]
    },
    {
     "name": "stderr",
     "output_type": "stream",
     "text": [
      "\r\n",
      "[Stage 11921:=========================================>             (3 + 1) / 4]\r"
     ]
    },
    {
     "name": "stdout",
     "output_type": "stream",
     "text": [
      "recallByLabel: 0.4926561827970279\n"
     ]
    },
    {
     "name": "stderr",
     "output_type": "stream",
     "text": [
      "\r\n",
      "                                                                                \r"
     ]
    }
   ],
   "source": [
    "# Evaluate the model performance\n",
    "\n",
    "results2 = LR_model2.bestModel.transform(test)\n",
    "\n",
    "auc_eval = BinaryClassificationEvaluator(metricName=\"areaUnderROC\", rawPredictionCol=\"prediction\")\n",
    "accuracy_eval = MulticlassClassificationEvaluator(metricName=\"accuracy\")\n",
    "f1_eval = MulticlassClassificationEvaluator(metricName=\"f1\")\n",
    "precision_eval = MulticlassClassificationEvaluator(metricName=\"precisionByLabel\")\n",
    "recall_eval = MulticlassClassificationEvaluator(metricName=\"recallByLabel\")\n",
    "\n",
    "\n",
    "EvalModel(results2, \"areaUnderROC\",  auc_eval)\n",
    "EvalModel(results2, \"accuracy\",  accuracy_eval)\n",
    "EvalModel(results2, \"f1\",  f1_eval)\n",
    "EvalModel(results2, \"precision_eval\",  precision_eval)\n",
    "EvalModel(results2, \"recallByLabel\",  recall_eval)"
   ]
  },
  {
   "cell_type": "code",
   "execution_count": 469,
   "id": "40f062e2",
   "metadata": {},
   "outputs": [
    {
     "name": "stderr",
     "output_type": "stream",
     "text": [
      "                                                                                \r"
     ]
    }
   ],
   "source": [
    "predictandLabel = results2.select(['prediction', 'label']\\\n",
    "                                      ).withColumn('label',col('label').cast(DoubleType())).rdd\n",
    "\n",
    "metrics = MulticlassMetrics(predictandLabel)\n",
    "cm=metrics.confusionMatrix().toArray()"
   ]
  },
  {
   "cell_type": "code",
   "execution_count": 471,
   "id": "4f54f810",
   "metadata": {},
   "outputs": [
    {
     "data": {
      "image/png": "[encoded data removed]",
      "text/plain": [
       "<Figure size 720x576 with 2 Axes>"
      ]
     },
     "metadata": {
      "needs_background": "light"
     },
     "output_type": "display_data"
    }
   ],
   "source": [
    "fig = plt.figure(figsize=(10,8))\n",
    "ax = plt.subplot(111)\n",
    "sns.heatmap(cm, annot=True, fmt='g', cmap=\"PuBuGn\", ax=ax)\n",
    "classes = ['Unknown', 'Click-throughs', 'Cart', 'Purchase']\n",
    "\n",
    "tick_marks = np.arange(len(classes))\n",
    "\n",
    "plt.xlabel('Predicted labels')\n",
    "plt.ylabel('True labels') \n",
    "plt.xticks(tick_marks, classes, rotation=45)\n",
    "plt.yticks(tick_marks, classes, rotation=10)\n",
    "plt.title('Logistic Regression Confusion Matrix Undersampled Data')\n",
    "plt.show()"
   ]
  },
  {
   "cell_type": "markdown",
   "id": "b3714908",
   "metadata": {},
   "source": [
    "# Random Forest Tree"
   ]
  },
  {
   "cell_type": "code",
   "execution_count": 77,
   "id": "38aa6dc9",
   "metadata": {},
   "outputs": [],
   "source": [
    "from pyspark.ml.classification import RandomForestClassifier, RandomForestClassificationModel\n",
    "from pyspark.ml.tuning import ParamGridBuilder, CrossValidator\n",
    "from pyspark.ml.evaluation import BinaryClassificationEvaluator"
   ]
  },
  {
   "cell_type": "code",
   "execution_count": 69,
   "id": "aed0c465",
   "metadata": {},
   "outputs": [],
   "source": [
    "def RFModel(train):\n",
    "    \n",
    "    estimator = RandomForestClassifier(maxDepth=10,seed=42 )\n",
    "    \n",
    "    param_grid = (ParamGridBuilder()\\\n",
    "                 .addGrid(estimator.maxDepth, [4,7])\\\n",
    "                 .build())\n",
    "    \n",
    "    model_validate =  CrossValidator(estimator=estimator,\n",
    "                               estimatorParamMaps=param_grid,\n",
    "                               evaluator=MulticlassClassificationEvaluator(metricName=\"accuracy\"),\n",
    "                               numFolds=5)\n",
    "    model = model_validate.fit(train)\n",
    "    \n",
    "    return model, model.avgMetrics"
   ]
  },
  {
   "cell_type": "code",
   "execution_count": 70,
   "id": "5cc02c70",
   "metadata": {},
   "outputs": [
    {
     "name": "stderr",
     "output_type": "stream",
     "text": [
      "                                                                                \r"
     ]
    }
   ],
   "source": [
    "RF_model, ACU_Metrics = RFModel(train)"
   ]
  },
  {
   "cell_type": "code",
   "execution_count": 71,
   "id": "d4c4eaa5",
   "metadata": {},
   "outputs": [
    {
     "data": {
      "text/plain": [
       "[0.8991950591730298, 0.9224878431360204]"
      ]
     },
     "execution_count": 71,
     "metadata": {},
     "output_type": "execute_result"
    }
   ],
   "source": [
    "ACU_Metrics"
   ]
  },
  {
   "cell_type": "code",
   "execution_count": 72,
   "id": "31f66cd5",
   "metadata": {},
   "outputs": [],
   "source": [
    "predictions = RF_model.bestModel.transform(test)"
   ]
  },
  {
   "cell_type": "code",
   "execution_count": 73,
   "id": "bc169161",
   "metadata": {},
   "outputs": [
    {
     "name": "stderr",
     "output_type": "stream",
     "text": [
      "                                                                                \r"
     ]
    },
    {
     "name": "stdout",
     "output_type": "stream",
     "text": [
      "areaUnderROC: 0.999984626146313\n"
     ]
    },
    {
     "name": "stderr",
     "output_type": "stream",
     "text": [
      "                                                                                \r"
     ]
    },
    {
     "name": "stdout",
     "output_type": "stream",
     "text": [
      "accuracy: 0.9188641947163336\n"
     ]
    },
    {
     "name": "stderr",
     "output_type": "stream",
     "text": [
      "                                                                                \r"
     ]
    },
    {
     "name": "stdout",
     "output_type": "stream",
     "text": [
      "f1: 0.8964163827819019\n"
     ]
    },
    {
     "name": "stderr",
     "output_type": "stream",
     "text": [
      "                                                                                \r"
     ]
    },
    {
     "name": "stdout",
     "output_type": "stream",
     "text": [
      "precision_eval: 0.9999803227075954\n"
     ]
    },
    {
     "name": "stderr",
     "output_type": "stream",
     "text": [
      "                                                                                \r"
     ]
    },
    {
     "name": "stdout",
     "output_type": "stream",
     "text": [
      "recallByLabel: 1.0\n"
     ]
    },
    {
     "name": "stderr",
     "output_type": "stream",
     "text": [
      "                                                                                \r"
     ]
    },
    {
     "data": {
      "text/plain": [
       "1.0"
      ]
     },
     "execution_count": 73,
     "metadata": {},
     "output_type": "execute_result"
    }
   ],
   "source": [
    "auc_eval = BinaryClassificationEvaluator(metricName=\"areaUnderROC\", rawPredictionCol=\"prediction\")\n",
    "accuracy_eval = MulticlassClassificationEvaluator(metricName=\"accuracy\")\n",
    "f1_eval = MulticlassClassificationEvaluator(metricName=\"f1\")\n",
    "precision_eval = MulticlassClassificationEvaluator(metricName=\"precisionByLabel\")\n",
    "recall_eval = MulticlassClassificationEvaluator(metricName=\"recallByLabel\")\n",
    "\n",
    "\n",
    "EvalModel(predictions, \"areaUnderROC\",  auc_eval)\n",
    "EvalModel(predictions, \"accuracy\",  accuracy_eval)\n",
    "EvalModel(predictions, \"f1\",  f1_eval)\n",
    "EvalModel(predictions, \"precision_eval\",  precision_eval)\n",
    "EvalModel(predictions, \"recallByLabel\",  recall_eval)"
   ]
  },
  {
   "cell_type": "code",
   "execution_count": null,
   "id": "d4530168",
   "metadata": {},
   "outputs": [],
   "source": []
  },
  {
   "cell_type": "code",
   "execution_count": 74,
   "id": "de58e007",
   "metadata": {},
   "outputs": [
    {
     "name": "stderr",
     "output_type": "stream",
     "text": [
      "                                                                                \r"
     ]
    }
   ],
   "source": [
    "from pyspark.mllib.evaluation import MulticlassMetrics\n",
    "\n",
    "predictandLabel = predictions.select(['prediction', 'label']\\\n",
    "                                      ).withColumn('label',col('label').cast(DoubleType())).rdd\n",
    "\n",
    "metrics = MulticlassMetrics(predictandLabel)\n",
    "cm=metrics.confusionMatrix().toArray()"
   ]
  },
  {
   "cell_type": "code",
   "execution_count": 75,
   "id": "dc99148b",
   "metadata": {},
   "outputs": [
    {
     "data": {
      "image/png": "[encoded data removed]",
      "text/plain": [
       "<Figure size 720x576 with 2 Axes>"
      ]
     },
     "metadata": {
      "needs_background": "light"
     },
     "output_type": "display_data"
    }
   ],
   "source": [
    "\n",
    "fig = plt.figure(figsize=(10,8))\n",
    "ax = plt.subplot(111)\n",
    "sns.heatmap(cm, annot=True, fmt='g', cmap=\"BrBG\", ax=ax)\n",
    "classes = ['Unknown', 'Click-throughs', 'Cart', 'Purchase']\n",
    "\n",
    "tick_marks = np.arange(len(classes))\n",
    "\n",
    "plt.xlabel('Predicted labels')\n",
    "plt.ylabel('True labels') \n",
    "plt.xticks(tick_marks, classes, rotation=45)\n",
    "plt.yticks(tick_marks, classes, rotation=10) \n",
    "plt.title('Random Forest Confusion Matrix')\n",
    "plt.show()"
   ]
  },
  {
   "cell_type": "code",
   "execution_count": 296,
   "id": "6bd08876",
   "metadata": {},
   "outputs": [
    {
     "name": "stderr",
     "output_type": "stream",
     "text": [
      "                                                                                \r"
     ]
    }
   ],
   "source": [
    "RF = RandomForestClassifier( minInstancesPerNode=10, numTrees=30, maxDepth=10)\n",
    "RFModel = RF.fit(train)"
   ]
  },
  {
   "cell_type": "code",
   "execution_count": null,
   "id": "4ee717b9",
   "metadata": {},
   "outputs": [],
   "source": []
  },
  {
   "cell_type": "code",
   "execution_count": 88,
   "id": "66d6da6c",
   "metadata": {},
   "outputs": [
    {
     "ename": "AttributeError",
     "evalue": "'RandomForestClassificationModel' object has no attribute 'coefficients'",
     "output_type": "error",
     "traceback": [
      "\u001b[0;31m---------------------------------------------------------------------------\u001b[0m",
      "\u001b[0;31mAttributeError\u001b[0m                            Traceback (most recent call last)",
      "\u001b[0;32m/tmp/ipykernel_37/2523445272.py\u001b[0m in \u001b[0;36m<module>\u001b[0;34m\u001b[0m\n\u001b[1;32m      1\u001b[0m \u001b[0;31m# Obtain and plot the coefficients\u001b[0m\u001b[0;34m\u001b[0m\u001b[0;34m\u001b[0m\u001b[0m\n\u001b[0;32m----> 2\u001b[0;31m \u001b[0mcoefs\u001b[0m \u001b[0;34m=\u001b[0m \u001b[0mnp\u001b[0m\u001b[0;34m.\u001b[0m\u001b[0msort\u001b[0m\u001b[0;34m(\u001b[0m\u001b[0mRFModel\u001b[0m\u001b[0;34m.\u001b[0m\u001b[0mcoefficients\u001b[0m\u001b[0;34m)\u001b[0m\u001b[0;34m\u001b[0m\u001b[0;34m\u001b[0m\u001b[0m\n\u001b[0m\u001b[1;32m      3\u001b[0m \u001b[0;34m\u001b[0m\u001b[0m\n\u001b[1;32m      4\u001b[0m \u001b[0mplt\u001b[0m\u001b[0;34m.\u001b[0m\u001b[0mplot\u001b[0m\u001b[0;34m(\u001b[0m\u001b[0mcoefs\u001b[0m\u001b[0;34m)\u001b[0m\u001b[0;34m\u001b[0m\u001b[0;34m\u001b[0m\u001b[0m\n\u001b[1;32m      5\u001b[0m \u001b[0mplt\u001b[0m\u001b[0;34m.\u001b[0m\u001b[0mylabel\u001b[0m\u001b[0;34m(\u001b[0m\u001b[0;34m'Logistic Regression Coefficients'\u001b[0m\u001b[0;34m)\u001b[0m\u001b[0;34m\u001b[0m\u001b[0;34m\u001b[0m\u001b[0m\n",
      "\u001b[0;31mAttributeError\u001b[0m: 'RandomForestClassificationModel' object has no attribute 'coefficients'"
     ]
    }
   ],
   "source": [
    "# Obtain and plot the coefficients\n",
    "coefs = np.sort(RFModel.coefficients)\n",
    "\n",
    "plt.plot(coefs)\n",
    "plt.ylabel('Logistic Regression Coefficients')\n",
    "plt.show()"
   ]
  },
  {
   "cell_type": "code",
   "execution_count": 93,
   "id": "645338e0",
   "metadata": {},
   "outputs": [
    {
     "ename": "AttributeError",
     "evalue": "'RandomForestClassificationTrainingSummary' object has no attribute 'toPandas'",
     "output_type": "error",
     "traceback": [
      "\u001b[0;31m---------------------------------------------------------------------------\u001b[0m",
      "\u001b[0;31mAttributeError\u001b[0m                            Traceback (most recent call last)",
      "\u001b[0;32m/tmp/ipykernel_37/553278960.py\u001b[0m in \u001b[0;36m<module>\u001b[0;34m\u001b[0m\n\u001b[1;32m     10\u001b[0m \u001b[0;34m\u001b[0m\u001b[0m\n\u001b[1;32m     11\u001b[0m \u001b[0;31m# print(\"Training set areaUnderROC: \"+ str(rf_summary.areaUnderROC))\u001b[0m\u001b[0;34m\u001b[0m\u001b[0;34m\u001b[0m\u001b[0m\n\u001b[0;32m---> 12\u001b[0;31m \u001b[0mrf_summary\u001b[0m\u001b[0;34m.\u001b[0m\u001b[0mtoPandas\u001b[0m\u001b[0;34m(\u001b[0m\u001b[0;34m)\u001b[0m\u001b[0;34m\u001b[0m\u001b[0;34m\u001b[0m\u001b[0m\n\u001b[0m",
      "\u001b[0;31mAttributeError\u001b[0m: 'RandomForestClassificationTrainingSummary' object has no attribute 'toPandas'"
     ]
    }
   ],
   "source": [
    "#Obtain and plot AUC ROC curve \n",
    "rf_summary = RFModel.summary\n",
    "# rf_auc = rf_summary.roc.toPandas()\n",
    "\n",
    "# plt.plot(rf_auc['FPR'], rf_auc['TPR'])\n",
    "# plt.ylabel('False Positive Rate')\n",
    "# plt.xlabel('True Positive Rate')\n",
    "# plt.title('Logistic Regression Model ROC Curve')\n",
    "# plt.show()\n",
    "\n",
    "# print(\"Training set areaUnderROC: \"+ str(rf_summary.areaUnderROC))\n",
    "rf_summary"
   ]
  },
  {
   "cell_type": "code",
   "execution_count": 90,
   "id": "5e1939b5",
   "metadata": {},
   "outputs": [
    {
     "ename": "AttributeError",
     "evalue": "'RandomForestClassificationTrainingSummary' object has no attribute 'pr'",
     "output_type": "error",
     "traceback": [
      "\u001b[0;31m---------------------------------------------------------------------------\u001b[0m",
      "\u001b[0;31mAttributeError\u001b[0m                            Traceback (most recent call last)",
      "\u001b[0;32m/tmp/ipykernel_37/3806662227.py\u001b[0m in \u001b[0;36m<module>\u001b[0;34m\u001b[0m\n\u001b[1;32m      1\u001b[0m \u001b[0;31m#plot the Precision and Recall\u001b[0m\u001b[0;34m\u001b[0m\u001b[0;34m\u001b[0m\u001b[0m\n\u001b[0;32m----> 2\u001b[0;31m \u001b[0mrf_pr\u001b[0m \u001b[0;34m=\u001b[0m \u001b[0mrf_summary\u001b[0m\u001b[0;34m.\u001b[0m\u001b[0mpr\u001b[0m\u001b[0;34m.\u001b[0m\u001b[0mtoPandas\u001b[0m\u001b[0;34m(\u001b[0m\u001b[0;34m)\u001b[0m\u001b[0;34m\u001b[0m\u001b[0;34m\u001b[0m\u001b[0m\n\u001b[0m\u001b[1;32m      3\u001b[0m \u001b[0mplt\u001b[0m\u001b[0;34m.\u001b[0m\u001b[0mplot\u001b[0m\u001b[0;34m(\u001b[0m\u001b[0mrf_pr\u001b[0m\u001b[0;34m[\u001b[0m\u001b[0;34m'recall'\u001b[0m\u001b[0;34m]\u001b[0m\u001b[0;34m,\u001b[0m\u001b[0mrf_pr\u001b[0m\u001b[0;34m[\u001b[0m\u001b[0;34m'precision'\u001b[0m\u001b[0;34m]\u001b[0m\u001b[0;34m)\u001b[0m\u001b[0;34m\u001b[0m\u001b[0;34m\u001b[0m\u001b[0m\n\u001b[1;32m      4\u001b[0m \u001b[0mplt\u001b[0m\u001b[0;34m.\u001b[0m\u001b[0mylabel\u001b[0m\u001b[0;34m(\u001b[0m\u001b[0;34m'Precision'\u001b[0m\u001b[0;34m)\u001b[0m\u001b[0;34m\u001b[0m\u001b[0;34m\u001b[0m\u001b[0m\n\u001b[1;32m      5\u001b[0m \u001b[0mplt\u001b[0m\u001b[0;34m.\u001b[0m\u001b[0mxlabel\u001b[0m\u001b[0;34m(\u001b[0m\u001b[0;34m'Recall'\u001b[0m\u001b[0;34m)\u001b[0m\u001b[0;34m\u001b[0m\u001b[0;34m\u001b[0m\u001b[0m\n",
      "\u001b[0;31mAttributeError\u001b[0m: 'RandomForestClassificationTrainingSummary' object has no attribute 'pr'"
     ]
    }
   ],
   "source": [
    "#plot the Precision and Recall\n",
    "rf_pr = rf_summary.pr.toPandas()\n",
    "plt.plot(rf_pr['recall'],rf_pr['precision'])\n",
    "plt.ylabel('Precision')\n",
    "plt.xlabel('Recall')\n",
    "plt.show()"
   ]
  },
  {
   "cell_type": "code",
   "execution_count": 116,
   "id": "309160f5",
   "metadata": {},
   "outputs": [],
   "source": [
    "#Save Model \n",
    "path = \"/home/jovyan/work/OneDrive/Desktop/purchase_intent_prediction/random_forest_model\"\n",
    "RFModel.save(path)"
   ]
  },
  {
   "cell_type": "code",
   "execution_count": 136,
   "id": "b02f1655",
   "metadata": {},
   "outputs": [],
   "source": [
    "LoadModel = RandomForestClassificationModel.load(path)"
   ]
  },
  {
   "cell_type": "code",
   "execution_count": 333,
   "id": "2dd4c628",
   "metadata": {},
   "outputs": [
    {
     "data": {
      "text/html": [
       "<table border='1'>\n",
       "<tr><th>VIEWs</th><th>time</th><th>hitNumber</th><th>action_index</th><th>isClick</th><th>assemble_features</th><th>features</th><th>rawPrediction</th><th>probability</th><th>prediction</th></tr>\n",
       "<tr><td>100</td><td>620</td><td>130</td><td>0</td><td>0</td><td>[100.0,620.0,130....</td><td>[0.11764705882352...</td><td>[30.0,0.0,0.0,0.0]</td><td>[1.0,0.0,0.0,0.0]</td><td>0.0</td></tr>\n",
       "</table>\n"
      ],
      "text/plain": [
       "+-----+----+---------+------------+-------+--------------------+--------------------+------------------+-----------------+----------+\n",
       "|VIEWs|time|hitNumber|action_index|isClick|   assemble_features|            features|     rawPrediction|      probability|prediction|\n",
       "+-----+----+---------+------------+-------+--------------------+--------------------+------------------+-----------------+----------+\n",
       "|  100| 620|      130|           0|      0|[100.0,620.0,130....|[0.11764705882352...|[30.0,0.0,0.0,0.0]|[1.0,0.0,0.0,0.0]|       0.0|\n",
       "+-----+----+---------+------------+-------+--------------------+--------------------+------------------+-----------------+----------+"
      ]
     },
     "execution_count": 333,
     "metadata": {},
     "output_type": "execute_result"
    }
   ],
   "source": [
    "from pyspark.mllib.linalg import Vectors as mllib_vectors\n",
    "from pyspark.ml.linalg import Vectors as ml_vectors\n",
    "\n",
    "\n",
    "# @fn.pandas_udf(returnType=DoubleType())\n",
    "# def predictn_udf(*features):\n",
    "    \n",
    "#     X = pd.concat(features, axis=1).values\n",
    "    \n",
    "#     y = LoadModel.predict(X)\n",
    "    \n",
    "#     return  pd.series(y)\n",
    "dataf = {\"VIEWs\": 100, \"time\" : 620, \"hitNumber\": 130, \"action_index\": 0, \"isClick\": 0}\n",
    "dataframe = pd.DataFrame([dataf])\n",
    "spark_df = spark.createDataFrame(dataframe)\n",
    "\n",
    "\n",
    "assembler = VectorAssembler(inputCols=[\"VIEWs\", \"time\" ,\"hitNumber\", \"action_index\", \"isClick\"], outputCol=\"assemble_features\")\n",
    "\n",
    "predn = assembler.transform(spark_df)\n",
    "\n",
    "norm = Normalizer(inputCol=\"assemble_features\", outputCol=\"features\", p=1.0)\n",
    "\n",
    "norm_df = norm.transform(predn)\n",
    "# dddf = pd.DataFrame(norm_df.select('features').toPandas())\n",
    "y = ml_vectors.dense([10, 0, 1, 6.0, 1])\n",
    "\n",
    "# output.select(\"features\")\n",
    "# predicted = spark_df.withColumn('predicted', predictn_udf(col(\"feat1\"), col(\"feat2\"), col(\"feat3\"), col(\"feat4\"), col(\"feat5\")))\n",
    "# predicted = LoadModel.predict(features)\n",
    "# spark_df.select('feat1', \"feat2\", \"feat3\", \"feat4\", \"feat5\")\n",
    "\n",
    "\n",
    "# y = predn.select(\"feat1\", \"feat2\" ,\"feat3\", \"feat4\", \"feat5\")\n",
    "y\n",
    "predictn = RFModel.transform(norm_df)\n",
    "predictn\n",
    "# predictn.select(\"prediction\")\n",
    "# LoadModel.predict(pd.DataFrame([10, 1323, 70, 4.0, 1]))"
   ]
  },
  {
   "cell_type": "markdown",
   "id": "eaf3c312",
   "metadata": {},
   "source": [
    "### Apply Random Forest to Undersampled Train set "
   ]
  },
  {
   "cell_type": "code",
   "execution_count": 184,
   "id": "04cc467d",
   "metadata": {},
   "outputs": [
    {
     "name": "stderr",
     "output_type": "stream",
     "text": [
      "                                                                                \r"
     ]
    }
   ],
   "source": [
    "RF_model2, ACU_Metrics2 = RFModel(train_undersample)"
   ]
  },
  {
   "cell_type": "code",
   "execution_count": 185,
   "id": "6686c176",
   "metadata": {},
   "outputs": [
    {
     "data": {
      "text/plain": [
       "[0.7334250784440456, 0.7785784345614675]"
      ]
     },
     "execution_count": 185,
     "metadata": {},
     "output_type": "execute_result"
    }
   ],
   "source": [
    "ACU_Metrics2"
   ]
  },
  {
   "cell_type": "code",
   "execution_count": 186,
   "id": "41ebf728",
   "metadata": {},
   "outputs": [],
   "source": [
    "predictions2 = RF_model2.bestModel.transform(test)"
   ]
  },
  {
   "cell_type": "code",
   "execution_count": 187,
   "id": "d0301b2f",
   "metadata": {},
   "outputs": [
    {
     "name": "stderr",
     "output_type": "stream",
     "text": [
      "                                                                                \r"
     ]
    },
    {
     "name": "stdout",
     "output_type": "stream",
     "text": [
      "areaUnderROC: 1.0\n"
     ]
    },
    {
     "name": "stderr",
     "output_type": "stream",
     "text": [
      "                                                                                \r"
     ]
    },
    {
     "name": "stdout",
     "output_type": "stream",
     "text": [
      "accuracy: 0.8490360163759987\n"
     ]
    },
    {
     "name": "stderr",
     "output_type": "stream",
     "text": [
      "                                                                                \r"
     ]
    },
    {
     "name": "stdout",
     "output_type": "stream",
     "text": [
      "f1: 0.866334516938055\n"
     ]
    },
    {
     "name": "stderr",
     "output_type": "stream",
     "text": [
      "                                                                                \r"
     ]
    },
    {
     "name": "stdout",
     "output_type": "stream",
     "text": [
      "precision_eval: 1.0\n"
     ]
    },
    {
     "name": "stderr",
     "output_type": "stream",
     "text": [
      "\r\n",
      "[Stage 8169:==========================================>             (3 + 1) / 4]\r"
     ]
    },
    {
     "name": "stdout",
     "output_type": "stream",
     "text": [
      "recallByLabel: 1.0\n"
     ]
    },
    {
     "name": "stderr",
     "output_type": "stream",
     "text": [
      "\r\n",
      "                                                                                \r"
     ]
    }
   ],
   "source": [
    "auc_eval = BinaryClassificationEvaluator(metricName=\"areaUnderROC\", rawPredictionCol=\"prediction\")\n",
    "accuracy_eval = MulticlassClassificationEvaluator(metricName=\"accuracy\")\n",
    "f1_eval = MulticlassClassificationEvaluator(metricName=\"f1\")\n",
    "precision_eval = MulticlassClassificationEvaluator(metricName=\"precisionByLabel\")\n",
    "recall_eval = MulticlassClassificationEvaluator(metricName=\"recallByLabel\")\n",
    "\n",
    "\n",
    "EvalModel(predictions2, \"areaUnderROC\",  auc_eval)\n",
    "EvalModel(predictions2, \"accuracy\",  accuracy_eval)\n",
    "EvalModel(predictions2, \"f1\",  f1_eval)\n",
    "EvalModel(predictions2, \"precision_eval\",  precision_eval)\n",
    "EvalModel(predictions2, \"recallByLabel\",  recall_eval)"
   ]
  },
  {
   "cell_type": "code",
   "execution_count": 473,
   "id": "e289637d",
   "metadata": {},
   "outputs": [
    {
     "name": "stderr",
     "output_type": "stream",
     "text": [
      "                                                                                \r"
     ]
    }
   ],
   "source": [
    "predictandLabel = predictions2.select(['prediction', 'label']).withColumn('label', col('label').cast(DoubleType())).rdd\n",
    "\n",
    "metrics = MulticlassMetrics(predictandLabel)\n",
    "cm=metrics.confusionMatrix().toArray()"
   ]
  },
  {
   "cell_type": "code",
   "execution_count": 474,
   "id": "7e6f4a05",
   "metadata": {},
   "outputs": [
    {
     "data": {
      "image/png": "[encoded data removed]",
      "text/plain": [
       "<Figure size 720x576 with 2 Axes>"
      ]
     },
     "metadata": {
      "needs_background": "light"
     },
     "output_type": "display_data"
    }
   ],
   "source": [
    "fig = plt.figure(figsize=(10,8))\n",
    "ax = plt.subplot(111)\n",
    "sns.heatmap(cm, annot=True, fmt='g', ax=ax)\n",
    "classes = ['Unknown', 'Click-throughs', 'Cart', 'Purchase']\n",
    "\n",
    "tick_marks = np.arange(len(classes))\n",
    "\n",
    "plt.xlabel('Predicted labels')\n",
    "plt.ylabel('True labels') \n",
    "plt.xticks(tick_marks, classes, rotation=45)\n",
    "plt.yticks(tick_marks, classes, rotation=10)\n",
    "plt.title('Random Forest Confusion Matrix Undersampled Data')\n",
    "plt.show()"
   ]
  },
  {
   "cell_type": "code",
   "execution_count": 216,
   "id": "a09ca79a",
   "metadata": {},
   "outputs": [],
   "source": [
    "#Save Model \n",
    "path = \"/tmp/randomForest_model2\"\n",
    "RF_model2.save(path)"
   ]
  },
  {
   "cell_type": "code",
   "execution_count": null,
   "id": "6f6e2712",
   "metadata": {},
   "outputs": [],
   "source": []
  },
  {
   "cell_type": "code",
   "execution_count": null,
   "id": "860d0c3d",
   "metadata": {},
   "outputs": [],
   "source": [
    "# Naive Bayes\n"
   ]
  }
 ],
 "metadata": {
  "kernelspec": {
   "display_name": "Python 3 (ipykernel)",
   "language": "python",
   "name": "python3"
  },
  "language_info": {
   "codemirror_mode": {
    "name": "ipython",
    "version": 3
   },
   "file_extension": ".py",
   "mimetype": "text/x-python",
   "name": "python",
   "nbconvert_exporter": "python",
   "pygments_lexer": "ipython3",
   "version": "3.9.7"
  }
 },
 "nbformat": 4,
 "nbformat_minor": 5
}
