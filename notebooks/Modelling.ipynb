{
 "cells": [
  {
   "cell_type": "code",
   "execution_count": 1,
   "id": "f6b9f410",
   "metadata": {},
   "outputs": [],
   "source": [
    "import pyspark\n",
    "import pandas as pd\n",
    "import numpy as np\n",
    "import matplotlib.pyplot as plt\n",
    "import seaborn as sns\n",
    "import pyspark.sql.functions as fn\n",
    "from scipy.stats import mode\n",
    "from pyspark.sql import SparkSession\n",
    "from pyspark.ml.stat import Correlation\n",
    "from pyspark.sql.functions import count, col\n",
    "from pyspark.sql.types import FloatType, DoubleType, DecimalType\n",
    "import warnings\n",
    "import os"
   ]
  },
  {
   "cell_type": "markdown",
   "id": "a5e8e8e6",
   "metadata": {},
   "source": [
    "# Start A Spark Session"
   ]
  },
  {
   "cell_type": "code",
   "execution_count": 2,
   "id": "341d410d",
   "metadata": {},
   "outputs": [
    {
     "name": "stderr",
     "output_type": "stream",
     "text": [
      "WARNING: An illegal reflective access operation has occurred\n",
      "WARNING: Illegal reflective access by org.apache.spark.unsafe.Platform (file:/usr/local/spark-3.2.0-bin-hadoop3.2/jars/spark-unsafe_2.12-3.2.0.jar) to constructor java.nio.DirectByteBuffer(long,int)\n",
      "WARNING: Please consider reporting this to the maintainers of org.apache.spark.unsafe.Platform\n",
      "WARNING: Use --illegal-access=warn to enable warnings of further illegal reflective access operations\n",
      "WARNING: All illegal access operations will be denied in a future release\n",
      "21/11/26 14:27:11 WARN NativeCodeLoader: Unable to load native-hadoop library for your platform... using builtin-java classes where applicable\n",
      "Using Spark's default log4j profile: org/apache/spark/log4j-defaults.properties\n",
      "Setting default log level to \"WARN\".\n",
      "To adjust logging level use sc.setLogLevel(newLevel). For SparkR, use setLogLevel(newLevel).\n",
      "21/11/26 14:27:14 WARN Utils: Service 'SparkUI' could not bind on port 4040. Attempting port 4041.\n"
     ]
    }
   ],
   "source": [
    "# Initialise a sparksession with Hive Store Support\n",
    "warnings.filterwarnings('ignore')\n",
    "\n",
    "\n",
    "spark = SparkSession.builder \\\n",
    "        .master('local[4]')\\\n",
    "        .enableHiveSupport()\\\n",
    "        .appName('Research_Notebook')\\\n",
    "        .config('spark.driver.memory','16G') \\\n",
    "        .config('spark.executor.memory','16G') \\\n",
    "        .config('spark.eventLog.enabled', False)\\\n",
    "        .config('spark.sql.execution.arrow.pyspark.enabled', True) \\\n",
    "        .config('spark.ui.showConsoleProgress', True) \\\n",
    "        .config('spark.sql.repl.eagerEval.enabled', True) \\\n",
    "        .config('spark.jars', '/home/jovyan/work/Downloads/spark-bigquery-with-dependencies_2.12-0.22.0.jar') \\\n",
    "        .getOrCreate()"
   ]
  },
  {
   "cell_type": "code",
   "execution_count": 7,
   "id": "dbb02e27",
   "metadata": {},
   "outputs": [
    {
     "data": {
      "text/html": [
       "\n",
       "            <div>\n",
       "                <p><b>SparkSession - hive</b></p>\n",
       "                \n",
       "        <div>\n",
       "            <p><b>SparkContext</b></p>\n",
       "\n",
       "            <p><a href=\"http://772571afb41c:4040\">Spark UI</a></p>\n",
       "\n",
       "            <dl>\n",
       "              <dt>Version</dt>\n",
       "                <dd><code>v3.2.0</code></dd>\n",
       "              <dt>Master</dt>\n",
       "                <dd><code>local[4]</code></dd>\n",
       "              <dt>AppName</dt>\n",
       "                <dd><code>Research_Notebook</code></dd>\n",
       "            </dl>\n",
       "        </div>\n",
       "        \n",
       "            </div>\n",
       "        "
      ],
      "text/plain": [
       "<pyspark.sql.session.SparkSession at 0x7f9f5ec50370>"
      ]
     },
     "execution_count": 7,
     "metadata": {},
     "output_type": "execute_result"
    }
   ],
   "source": [
    "spark"
   ]
  },
  {
   "cell_type": "code",
   "execution_count": 3,
   "id": "5be2dd14",
   "metadata": {},
   "outputs": [
    {
     "name": "stderr",
     "output_type": "stream",
     "text": [
      "21/11/26 14:27:25 WARN HiveConf: HiveConf of name hive.stats.jdbc.timeout does not exist\n",
      "21/11/26 14:27:25 WARN HiveConf: HiveConf of name hive.stats.retries.wait does not exist\n",
      "21/11/26 14:27:32 WARN ObjectStore: Version information not found in metastore. hive.metastore.schema.verification is not enabled so recording the schema version 2.3.0\n",
      "21/11/26 14:27:32 WARN ObjectStore: setMetaStoreSchemaVersion called but recording version is disabled: version = 2.3.0, comment = Set by MetaStore UNKNOWN@172.18.0.2\n",
      "21/11/26 14:27:32 WARN ObjectStore: Failed to get database global_temp, returning NoSuchObjectException\n"
     ]
    },
    {
     "data": {
      "text/html": [
       "<table border='1'>\n",
       "<tr><th></th></tr>\n",
       "</table>\n"
      ],
      "text/plain": [
       "++\n",
       "||\n",
       "++\n",
       "++"
      ]
     },
     "execution_count": 3,
     "metadata": {},
     "output_type": "execute_result"
    }
   ],
   "source": [
    "# Ensure ecommerce_logs database is selected\n",
    "\n",
    "spark.catalog.clearCache()\n",
    "spark.sql(\"use ecommerce_logs\")"
   ]
  },
  {
   "cell_type": "code",
   "execution_count": null,
   "id": "4b6808b2",
   "metadata": {},
   "outputs": [],
   "source": []
  },
  {
   "cell_type": "code",
   "execution_count": 41,
   "id": "e70a7db7",
   "metadata": {},
   "outputs": [
    {
     "data": {
      "text/html": [
       "<div>\n",
       "<style scoped>\n",
       "    .dataframe tbody tr th:only-of-type {\n",
       "        vertical-align: middle;\n",
       "    }\n",
       "\n",
       "    .dataframe tbody tr th {\n",
       "        vertical-align: top;\n",
       "    }\n",
       "\n",
       "    .dataframe thead th {\n",
       "        text-align: right;\n",
       "    }\n",
       "</style>\n",
       "<table border=\"1\" class=\"dataframe\">\n",
       "  <thead>\n",
       "    <tr style=\"text-align: right;\">\n",
       "      <th></th>\n",
       "      <th>bounces</th>\n",
       "      <th>sessionsPerDay</th>\n",
       "      <th>pageviews</th>\n",
       "      <th>hits</th>\n",
       "      <th>timeOnSite</th>\n",
       "      <th>itemProductName</th>\n",
       "      <th>pageLoadTime</th>\n",
       "      <th>sessionQualityDim</th>\n",
       "      <th>action_type</th>\n",
       "      <th>browser</th>\n",
       "      <th>productListPosition</th>\n",
       "      <th>v2ProductCategory</th>\n",
       "      <th>productClicks</th>\n",
       "      <th>target</th>\n",
       "    </tr>\n",
       "  </thead>\n",
       "  <tbody>\n",
       "    <tr>\n",
       "      <th>0</th>\n",
       "      <td>1</td>\n",
       "      <td>1</td>\n",
       "      <td>1</td>\n",
       "      <td>1</td>\n",
       "      <td>NaN</td>\n",
       "      <td>None</td>\n",
       "      <td>NaN</td>\n",
       "      <td>NaN</td>\n",
       "      <td>0</td>\n",
       "      <td>Chrome</td>\n",
       "      <td>3</td>\n",
       "      <td>Home/Bags/</td>\n",
       "      <td>NaN</td>\n",
       "      <td>NaN</td>\n",
       "    </tr>\n",
       "    <tr>\n",
       "      <th>1</th>\n",
       "      <td>1</td>\n",
       "      <td>1</td>\n",
       "      <td>1</td>\n",
       "      <td>1</td>\n",
       "      <td>NaN</td>\n",
       "      <td>None</td>\n",
       "      <td>NaN</td>\n",
       "      <td>NaN</td>\n",
       "      <td>0</td>\n",
       "      <td>Chrome</td>\n",
       "      <td>7</td>\n",
       "      <td>Home/Bags/</td>\n",
       "      <td>NaN</td>\n",
       "      <td>NaN</td>\n",
       "    </tr>\n",
       "    <tr>\n",
       "      <th>2</th>\n",
       "      <td>1</td>\n",
       "      <td>1</td>\n",
       "      <td>1</td>\n",
       "      <td>1</td>\n",
       "      <td>NaN</td>\n",
       "      <td>None</td>\n",
       "      <td>NaN</td>\n",
       "      <td>NaN</td>\n",
       "      <td>0</td>\n",
       "      <td>Safari</td>\n",
       "      <td>1</td>\n",
       "      <td>Home/Bags/</td>\n",
       "      <td>NaN</td>\n",
       "      <td>NaN</td>\n",
       "    </tr>\n",
       "  </tbody>\n",
       "</table>\n",
       "</div>"
      ],
      "text/plain": [
       "   bounces  sessionsPerDay  pageviews  hits  timeOnSite itemProductName  \\\n",
       "0        1               1          1     1         NaN            None   \n",
       "1        1               1          1     1         NaN            None   \n",
       "2        1               1          1     1         NaN            None   \n",
       "\n",
       "   pageLoadTime  sessionQualityDim action_type browser  productListPosition  \\\n",
       "0           NaN                NaN           0  Chrome                    3   \n",
       "1           NaN                NaN           0  Chrome                    7   \n",
       "2           NaN                NaN           0  Safari                    1   \n",
       "\n",
       "  v2ProductCategory  productClicks  target  \n",
       "0        Home/Bags/            NaN     NaN  \n",
       "1        Home/Bags/            NaN     NaN  \n",
       "2        Home/Bags/            NaN     NaN  "
      ]
     },
     "execution_count": 41,
     "metadata": {},
     "output_type": "execute_result"
    }
   ],
   "source": [
    "sql = \"\"\"\n",
    "        SELECT\n",
    "          bounces,\n",
    "          sessionsPerDay,\n",
    "          pageviews, \n",
    "          hits, \n",
    "          timeOnSite,\n",
    "          productName as itemProductName,\n",
    "          pageLoadTime,\n",
    "          sessionQualityDim,\n",
    "          action_type, \n",
    "          browser,\n",
    "          productListPosition, \n",
    "          v2ProductCategory,\n",
    "          productClicks, \n",
    "          target\n",
    "      FROM \n",
    "         db_ecommerceData\n",
    "      WHERE v2ProductCategory != \"(not set)\"\n",
    "      AND v2ProductCategory != \"${escCatTitle}\"\n",
    "      \"\"\"\n",
    "df = spark.sql(sql)\n",
    "df.limit(3).toPandas()"
   ]
  },
  {
   "cell_type": "code",
   "execution_count": 42,
   "id": "6b972bb4",
   "metadata": {},
   "outputs": [
    {
     "name": "stdout",
     "output_type": "stream",
     "text": [
      "root\n",
      " |-- bounces: long (nullable = true)\n",
      " |-- sessionsPerDay: long (nullable = true)\n",
      " |-- pageviews: long (nullable = true)\n",
      " |-- hits: long (nullable = true)\n",
      " |-- timeOnSite: long (nullable = true)\n",
      " |-- itemProductName: string (nullable = true)\n",
      " |-- pageLoadTime: long (nullable = true)\n",
      " |-- sessionQualityDim: long (nullable = true)\n",
      " |-- action_type: string (nullable = true)\n",
      " |-- browser: string (nullable = true)\n",
      " |-- productListPosition: long (nullable = true)\n",
      " |-- v2ProductCategory: string (nullable = true)\n",
      " |-- productClicks: long (nullable = true)\n",
      " |-- target: long (nullable = true)\n",
      "\n"
     ]
    }
   ],
   "source": [
    "df.printSchema()"
   ]
  },
  {
   "cell_type": "code",
   "execution_count": 43,
   "id": "be347adb",
   "metadata": {},
   "outputs": [
    {
     "name": "stderr",
     "output_type": "stream",
     "text": [
      "                                                                                \r"
     ]
    },
    {
     "data": {
      "text/plain": [
       "(5956760, 4248850)"
      ]
     },
     "execution_count": 43,
     "metadata": {},
     "output_type": "execute_result"
    }
   ],
   "source": [
    "# check for duplicates\n",
    "\n",
    "df.count(), df.distinct().count()"
   ]
  },
  {
   "cell_type": "code",
   "execution_count": 44,
   "id": "3943f947",
   "metadata": {},
   "outputs": [
    {
     "name": "stderr",
     "output_type": "stream",
     "text": [
      "                                                                                \r"
     ]
    },
    {
     "data": {
      "text/plain": [
       "(4248850, 4248850)"
      ]
     },
     "execution_count": 44,
     "metadata": {},
     "output_type": "execute_result"
    }
   ],
   "source": [
    "# Remove duplicates and confirm\n",
    "\n",
    "df = df.dropDuplicates()\n",
    "\n",
    "df.count(), df.distinct().count()"
   ]
  },
  {
   "cell_type": "code",
   "execution_count": 45,
   "id": "fc5656eb",
   "metadata": {},
   "outputs": [
    {
     "name": "stderr",
     "output_type": "stream",
     "text": [
      "                                                                                \r"
     ]
    },
    {
     "data": {
      "text/html": [
       "<table border='1'>\n",
       "<tr><th>bounces</th><th>sessionsPerDay</th><th>pageviews</th><th>hits</th><th>timeOnSite</th><th>itemProductName</th><th>pageLoadTime</th><th>sessionQualityDim</th><th>action_type</th><th>browser</th><th>productListPosition</th><th>v2ProductCategory</th><th>productClicks</th><th>target</th></tr>\n",
       "<tr><td>9674</td><td>4248850</td><td>4248782</td><td>4248850</td><td>4237693</td><td>0</td><td>6901</td><td>659435</td><td>4248850</td><td>4248850</td><td>4248850</td><td>4248850</td><td>130459</td><td>305019</td></tr>\n",
       "</table>\n"
      ],
      "text/plain": [
       "+-------+--------------+---------+-------+----------+---------------+------------+-----------------+-----------+-------+-------------------+-----------------+-------------+------+\n",
       "|bounces|sessionsPerDay|pageviews|   hits|timeOnSite|itemProductName|pageLoadTime|sessionQualityDim|action_type|browser|productListPosition|v2ProductCategory|productClicks|target|\n",
       "+-------+--------------+---------+-------+----------+---------------+------------+-----------------+-----------+-------+-------------------+-----------------+-------------+------+\n",
       "|   9674|       4248850|  4248782|4248850|   4237693|              0|        6901|           659435|    4248850|4248850|            4248850|          4248850|       130459|305019|\n",
       "+-------+--------------+---------+-------+----------+---------------+------------+-----------------+-----------+-------+-------------------+-----------------+-------------+------+"
      ]
     },
     "execution_count": 45,
     "metadata": {},
     "output_type": "execute_result"
    }
   ],
   "source": [
    "# Count and check for missing and/or null values in the columns selected\n",
    "\n",
    "def df_count(df):\n",
    "    df_col_count = df.agg(*[count(c).alias(c) for c in df.columns])\n",
    "    return df_col_count\n",
    "    \n",
    "df_count(df)"
   ]
  },
  {
   "cell_type": "code",
   "execution_count": 46,
   "id": "56253509",
   "metadata": {},
   "outputs": [
    {
     "name": "stderr",
     "output_type": "stream",
     "text": [
      "                                                                                \r"
     ]
    },
    {
     "data": {
      "text/html": [
       "<table border='1'>\n",
       "<tr><th>summary</th><th>bounces</th><th>sessionsPerDay</th><th>pageviews</th><th>hits</th><th>timeOnSite</th><th>itemProductName</th><th>pageLoadTime</th><th>sessionQualityDim</th><th>action_type</th><th>browser</th><th>productListPosition</th><th>v2ProductCategory</th><th>productClicks</th><th>target</th></tr>\n",
       "<tr><td>count</td><td>9674</td><td>4248850</td><td>4248782</td><td>4248850</td><td>4237693</td><td>0</td><td>6901</td><td>659435</td><td>4248850</td><td>4248850</td><td>4248850</td><td>4248850</td><td>130459</td><td>305019</td></tr>\n",
       "<tr><td>mean</td><td>1.0</td><td>1.3745575861703756</td><td>15.177930286844559</td><td>19.248089953752192</td><td>630.040108615702</td><td>null</td><td>5186.482973482104</td><td>18.982985434500748</td><td>0.17055673888228579</td><td>null</td><td>5.761597138049119</td><td>null</td><td>1.0</td><td>1.0</td></tr>\n",
       "<tr><td>stddev</td><td>7.731942413497124...</td><td>1.5246127288119358</td><td>16.08177741231397</td><td>22.576038119174267</td><td>784.9781540957232</td><td>null</td><td>4827.16690012168</td><td>27.072253278526112</td><td>0.6932691259192109</td><td>null</td><td>3.5482076176236483</td><td>null</td><td>0.0</td><td>0.0</td></tr>\n",
       "<tr><td>min</td><td>1</td><td>1</td><td>1</td><td>1</td><td>1</td><td>null</td><td>750</td><td>1</td><td>0</td><td>(not set)</td><td>0</td><td>${escCatTitle}</td><td>1</td><td>1</td></tr>\n",
       "<tr><td>max</td><td>1</td><td>1349</td><td>466</td><td>500</td><td>12136</td><td>null</td><td>45478</td><td>99</td><td>6</td><td>[Use default User...</td><td>15</td><td>Writing/</td><td>1</td><td>1</td></tr>\n",
       "</table>\n"
      ],
      "text/plain": [
       "+-------+--------------------+------------------+------------------+------------------+-----------------+---------------+-----------------+------------------+-------------------+--------------------+-------------------+-----------------+-------------+------+\n",
       "|summary|             bounces|    sessionsPerDay|         pageviews|              hits|       timeOnSite|itemProductName|     pageLoadTime| sessionQualityDim|        action_type|             browser|productListPosition|v2ProductCategory|productClicks|target|\n",
       "+-------+--------------------+------------------+------------------+------------------+-----------------+---------------+-----------------+------------------+-------------------+--------------------+-------------------+-----------------+-------------+------+\n",
       "|  count|                9674|           4248850|           4248782|           4248850|          4237693|              0|             6901|            659435|            4248850|             4248850|            4248850|          4248850|       130459|305019|\n",
       "|   mean|                 1.0|1.3745575861703756|15.177930286844559|19.248089953752192| 630.040108615702|           null|5186.482973482104|18.982985434500748|0.17055673888228579|                null|  5.761597138049119|             null|          1.0|   1.0|\n",
       "| stddev|7.731942413497124...|1.5246127288119358| 16.08177741231397|22.576038119174267|784.9781540957232|           null| 4827.16690012168|27.072253278526112| 0.6932691259192109|                null| 3.5482076176236483|             null|          0.0|   0.0|\n",
       "|    min|                   1|                 1|                 1|                 1|                1|           null|              750|                 1|                  0|           (not set)|                  0|   ${escCatTitle}|            1|     1|\n",
       "|    max|                   1|              1349|               466|               500|            12136|           null|            45478|                99|                  6|[Use default User...|                 15|         Writing/|            1|     1|\n",
       "+-------+--------------------+------------------+------------------+------------------+-----------------+---------------+-----------------+------------------+-------------------+--------------------+-------------------+-----------------+-------------+------+"
      ]
     },
     "execution_count": 46,
     "metadata": {},
     "output_type": "execute_result"
    }
   ],
   "source": [
    "# check the statistics of the data\n",
    "\n",
    "df.describe()"
   ]
  },
  {
   "cell_type": "raw",
   "id": "f0c7a73d",
   "metadata": {},
   "source": [
    "Since the missing values are only in the numerical column, and since missing values are more in important columns productClicks and target, they will be filled with 0. Column itemProductName will be removed since it has no records, likewise pageLoadTime and bounces since they contain over 50% missing and null values."
   ]
  },
  {
   "cell_type": "code",
   "execution_count": 49,
   "id": "50324840",
   "metadata": {},
   "outputs": [],
   "source": [
    "# handle missing and null values\n",
    "\n",
    "df = df.select(\"sessionsPerDay\", \"pageviews\", \"hits\", \n",
    "               \"timeOnSite\",  \"sessionQualityDim\", \n",
    "               \"action_type\", \"browser\", \"productListPosition\", \n",
    "               \"productClicks\", \"v2ProductCategory\", \"target\")\n",
    "\n",
    "df = df.na.fill(0)"
   ]
  },
  {
   "cell_type": "code",
   "execution_count": 52,
   "id": "138ab8e6",
   "metadata": {},
   "outputs": [
    {
     "name": "stderr",
     "output_type": "stream",
     "text": [
      "                                                                                \r"
     ]
    },
    {
     "data": {
      "image/png": "[encoded data removed]",
      "text/plain": [
       "<Figure size 576x288 with 1 Axes>"
      ]
     },
     "metadata": {},
     "output_type": "display_data"
    }
   ],
   "source": [
    "target = df.groupBy('target').count().toPandas()\n",
    "target_df = pd.DataFrame(target)\n",
    "target.set_index('count')\n",
    "color = ['crimson']\n",
    "\n",
    "target_plot = target_df.plot(figsize = (8, 4), kind='bar', x=\"target\", y=\"count\", color=color)\n",
    "plt.xlabel(\"Target\", fontsize = 16)\n",
    "plt.ylabel(\"Count\", fontsize = 16)\n",
    "plt.title(\"Target Distribution\", fontsize = 20, color = 'k')\n",
    "plt.xticks(size = 14)\n",
    "plt.yticks(size = 14)\n",
    "plt.show()"
   ]
  },
  {
   "cell_type": "code",
   "execution_count": 24,
   "id": "f0c8fd07",
   "metadata": {},
   "outputs": [
    {
     "name": "stderr",
     "output_type": "stream",
     "text": [
      "                                                                                \r"
     ]
    },
    {
     "data": {
      "image/png": "[encoded data removed]",
      "text/plain": [
       "<Figure size 432x288 with 1 Axes>"
      ]
     },
     "metadata": {},
     "output_type": "display_data"
    }
   ],
   "source": [
    "pageviews = df.select(\"pageviews\").toPandas()\n",
    "\n",
    "sns.set_theme(style=\"whitegrid\")\n",
    "sns.boxplot(x=pageviews[\"pageviews\"])\n",
    "plt.title(\"Box plot of pageviews\")\n",
    "plt.show()"
   ]
  },
  {
   "cell_type": "code",
   "execution_count": null,
   "id": "43a20a6b",
   "metadata": {},
   "outputs": [],
   "source": []
  },
  {
   "cell_type": "code",
   "execution_count": 53,
   "id": "9877f8b8",
   "metadata": {},
   "outputs": [
    {
     "name": "stderr",
     "output_type": "stream",
     "text": [
      "                                                                                \r"
     ]
    }
   ],
   "source": [
    "# Transaform String Type Columns to Index and Vectors\n",
    "from pyspark.ml.linalg import Vectors\n",
    "from pyspark.ml.feature import OneHotEncoder, StringIndexer, VectorAssembler\n",
    "\n",
    "vector_indexer = StringIndexer(inputCols=[\"browser\", \"action_type\", \"v2ProductCategory\"], outputCols=[\"browser_index\", \"action_type_index\", \"v2ProductCategory_index\"], handleInvalid=\"keep\").fit(df)\n",
    "df_new = vector_indexer.transform(df)\n",
    "vector_encoder = OneHotEncoder(inputCols=[\"browser_index\", \"action_type_index\", \"v2ProductCategory_index\"], outputCols=[\"browser_vec\",\"action_type_vec\", \"v2ProductCategory_vec\"]).fit(df_new)\n",
    "df_vectors = vector_encoder.transform(df_new)"
   ]
  },
  {
   "cell_type": "code",
   "execution_count": 61,
   "id": "34a31568",
   "metadata": {},
   "outputs": [
    {
     "name": "stderr",
     "output_type": "stream",
     "text": [
      "[Stage 304:>                                                        (0 + 1) / 1]\r"
     ]
    },
    {
     "name": "stdout",
     "output_type": "stream",
     "text": [
      "+--------------------+\n",
      "|            features|\n",
      "+--------------------+\n",
      "|(11,[1,2,3,4,6,9]...|\n",
      "|[1.0,1.0,12.0,18....|\n",
      "|(11,[1,2,3,4,6,9]...|\n",
      "+--------------------+\n",
      "only showing top 3 rows\n",
      "\n"
     ]
    },
    {
     "name": "stderr",
     "output_type": "stream",
     "text": [
      "\r",
      "                                                                                \r"
     ]
    }
   ],
   "source": [
    "# Transform dataframe input features,\n",
    "\n",
    "assembler = (VectorAssembler(inputCols=[\n",
    "                                        \"browser_index\", \"sessionsPerDay\",\n",
    "                                        \"pageviews\",\"hits\",\"timeOnSite\", \n",
    "                                        \"productClicks\",\n",
    "                                        \"productListPosition\",\n",
    "                                         \"sessionQualityDim\",\n",
    "                                        \"action_type_index\", \n",
    "                                        \"v2ProductCategory_index\", \"target\"],\n",
    "                             outputCol=\"features\"))\n",
    "\n",
    "data = assembler.transform(df_vectors)\n",
    "\n",
    "data.select(\"features\").show(3)"
   ]
  },
  {
   "cell_type": "code",
   "execution_count": 62,
   "id": "e69f531f",
   "metadata": {},
   "outputs": [
    {
     "name": "stderr",
     "output_type": "stream",
     "text": [
      "21/11/26 15:56:42 WARN InstanceBuilder$NativeBLAS: Failed to load implementation from:dev.ludovic.netlib.blas.JNIBLAS\n",
      "21/11/26 15:56:42 WARN InstanceBuilder$NativeBLAS: Failed to load implementation from:dev.ludovic.netlib.blas.ForeignLinkerBLAS\n"
     ]
    },
    {
     "name": "stdout",
     "output_type": "stream",
     "text": [
      "Pearson correlation matrix \n",
      " DenseMatrix([[ 1.        , -0.00249282, -0.09918392, -0.09584649, -0.07873579,\n",
      "              -0.01356495,  0.02166195, -0.05181728, -0.02997168, -0.07829976,\n",
      "              -0.07524568],\n",
      "             [-0.00249282,  1.        ,  0.16352792,  0.15900805,  0.11543967,\n",
      "               0.03239421, -0.02379862,  0.04993829,  0.10241909, -0.01919002,\n",
      "               0.06294421],\n",
      "             [-0.09918392,  0.16352792,  1.        ,  0.98234208,  0.69352694,\n",
      "               0.05274281, -0.05657075,  0.18786216,  0.1384442 ,  0.13252296,\n",
      "               0.36657578],\n",
      "             [-0.09584649,  0.15900805,  0.98234208,  1.        ,  0.67296823,\n",
      "               0.06701661, -0.06001939,  0.19553114,  0.15286953,  0.12783095,\n",
      "               0.35031695],\n",
      "             [-0.07873579,  0.11543967,  0.69352694,  0.67296823,  1.        ,\n",
      "               0.03078293, -0.03380304,  0.17135067,  0.0949153 ,  0.08166165,\n",
      "               0.26747503],\n",
      "             [-0.01356495,  0.03239421,  0.05274281,  0.06701661,  0.03078293,\n",
      "               1.        , -0.21132714,  0.02564111,  0.23920202,  0.02892357,\n",
      "               0.02188286],\n",
      "             [ 0.02166195, -0.02379862, -0.05657075, -0.06001939, -0.03380304,\n",
      "              -0.21132714,  1.        , -0.03665738, -0.26374039, -0.22072135,\n",
      "              -0.062752  ],\n",
      "             [-0.05181728,  0.04993829,  0.18786216,  0.19553114,  0.17135067,\n",
      "               0.02564111, -0.03665738,  1.        ,  0.0782162 ,  0.05093201,\n",
      "               0.18060342],\n",
      "             [-0.02997168,  0.10241909,  0.1384442 ,  0.15286953,  0.0949153 ,\n",
      "               0.23920202, -0.26374039,  0.0782162 ,  1.        ,  0.26380367,\n",
      "               0.2309234 ],\n",
      "             [-0.07829976, -0.01919002,  0.13252296,  0.12783095,  0.08166165,\n",
      "               0.02892357, -0.22072135,  0.05093201,  0.26380367,  1.        ,\n",
      "               0.11981347],\n",
      "             [-0.07524568,  0.06294421,  0.36657578,  0.35031695,  0.26747503,\n",
      "               0.02188286, -0.062752  ,  0.18060342,  0.2309234 ,  0.11981347,\n",
      "               1.        ]])\n"
     ]
    },
    {
     "name": "stderr",
     "output_type": "stream",
     "text": [
      "\r",
      "[Stage 313:======================>                                  (2 + 3) / 5]\r",
      "\r",
      "                                                                                \r"
     ]
    }
   ],
   "source": [
    "# Perform Correlation of inputs and output fields\n",
    "\n",
    "from pyspark.ml.stat import Correlation\n",
    "\n",
    "pearson_corr = Correlation.corr(data, \"features\").head()\n",
    "print(\"Pearson correlation matrix \\n\", str(pearson_corr[0]))"
   ]
  },
  {
   "cell_type": "code",
   "execution_count": 63,
   "id": "50d09c5a",
   "metadata": {},
   "outputs": [],
   "source": [
    "pearson_array = pearson_corr[0].toArray()"
   ]
  },
  {
   "cell_type": "code",
   "execution_count": 64,
   "id": "5caa129c",
   "metadata": {},
   "outputs": [
    {
     "data": {
      "image/png": "[encoded data removed]",
      "text/plain": [
       "<Figure size 720x576 with 2 Axes>"
      ]
     },
     "metadata": {},
     "output_type": "display_data"
    }
   ],
   "source": [
    "fig = plt.figure(figsize=(10,8))\n",
    "ax = plt.subplot(111)\n",
    "sns.heatmap(pearson_array, annot=True, cmap=\"Blues\", ax=ax)\n",
    "\n",
    "classes = [ \"browser\", \"sessionsPerDay\",\n",
    "            \"pageviews\",\"hits\",\"timeOnSite\", \n",
    "            \"productClicks\",\n",
    "            \"productListPosition\",\n",
    "             \"sessionQualityDim\",\n",
    "            \"action_type\", \n",
    "            \"v2ProductCategory\", \"target\"]\n",
    "\n",
    "tick_marks = np.arange(len(classes))\n",
    "\n",
    "plt.xticks(tick_marks, classes, rotation=90)\n",
    "plt.yticks(tick_marks, classes, rotation=10)\n",
    "plt.xlabel('Input Features')\n",
    "plt.ylabel('Input Features') \n",
    "plt.title('Pearson Correlation of Features')\n",
    "plt.show()"
   ]
  },
  {
   "cell_type": "code",
   "execution_count": 65,
   "id": "59411ef5",
   "metadata": {},
   "outputs": [
    {
     "name": "stderr",
     "output_type": "stream",
     "text": [
      "                                                                                \r"
     ]
    },
    {
     "data": {
      "text/plain": [
       "{0: 0.538670394344991, 1: 6.964893990210446}"
      ]
     },
     "execution_count": 65,
     "metadata": {},
     "output_type": "execute_result"
    }
   ],
   "source": [
    "# Handle Imbalance using weight, calculate ratio of each class\n",
    "\n",
    "y_collect = df_new.select(\"target\").groupBy(\"target\").count().collect()\n",
    "unique_y = [x[\"target\"] for x in y_collect]\n",
    "total_y = sum([x[\"count\"] for x in y_collect])\n",
    "unique_y_count = len(y_collect)\n",
    "bin_count = [x[\"count\"] for x in y_collect]\n",
    "\n",
    "class_weights = {i: ii for i, ii in zip(unique_y, total_y / (unique_y_count * np.array(bin_count)))}\n",
    "class_weights"
   ]
  },
  {
   "cell_type": "code",
   "execution_count": 76,
   "id": "8e382c9d",
   "metadata": {},
   "outputs": [],
   "source": [
    "# Use weights to handle imbalance\n",
    "from itertools import chain\n",
    "\n",
    "map_expr = fn.create_map([fn.lit(x) for x in chain(*class_weights.items())])\n",
    "\n",
    "df_new = df_vectors.withColumn('weights', map_expr.getItem(fn.col('target')))"
   ]
  },
  {
   "cell_type": "code",
   "execution_count": 77,
   "id": "0fd06ad6",
   "metadata": {},
   "outputs": [
    {
     "name": "stderr",
     "output_type": "stream",
     "text": [
      "[Stage 342:>                                                        (0 + 1) / 1]\r"
     ]
    },
    {
     "name": "stdout",
     "output_type": "stream",
     "text": [
      "+--------------------+------+\n",
      "|   assemble_features|target|\n",
      "+--------------------+------+\n",
      "|(119,[0,33,34,35,...|     0|\n",
      "|(119,[1,33,34,35,...|     0|\n",
      "|(119,[0,33,34,35,...|     0|\n",
      "+--------------------+------+\n",
      "only showing top 3 rows\n",
      "\n"
     ]
    },
    {
     "name": "stderr",
     "output_type": "stream",
     "text": [
      "\r",
      "                                                                                \r"
     ]
    }
   ],
   "source": [
    "# Since pageviews, hits and timeOnsite are highly correlated and also correlated to target, use PCA\n",
    "# to handle this\n",
    "\n",
    "assembler = VectorAssembler(inputCols=[\"browser_vec\", \"sessionsPerDay\",\n",
    "                                        \"pageviews\",\"hits\",\"timeOnSite\", \n",
    "                                        \"productClicks\",\n",
    "                                        \"productListPosition\",\n",
    "                                         \"sessionQualityDim\",\n",
    "                                        \"action_type_vec\", \n",
    "                                        \"v2ProductCategory_vec\", \"target\"\n",
    "                                        ], outputCol=\"assemble_features\")\n",
    "\n",
    "output = assembler.transform(df_new)\n",
    "\n",
    "output.select(\"assemble_features\", \"target\").show(3)"
   ]
  },
  {
   "cell_type": "code",
   "execution_count": 78,
   "id": "f8f3f2e4",
   "metadata": {},
   "outputs": [
    {
     "name": "stderr",
     "output_type": "stream",
     "text": [
      "                                                                                \r"
     ]
    },
    {
     "data": {
      "text/html": [
       "<div>\n",
       "<style scoped>\n",
       "    .dataframe tbody tr th:only-of-type {\n",
       "        vertical-align: middle;\n",
       "    }\n",
       "\n",
       "    .dataframe tbody tr th {\n",
       "        vertical-align: top;\n",
       "    }\n",
       "\n",
       "    .dataframe thead th {\n",
       "        text-align: right;\n",
       "    }\n",
       "</style>\n",
       "<table border=\"1\" class=\"dataframe\">\n",
       "  <thead>\n",
       "    <tr style=\"text-align: right;\">\n",
       "      <th></th>\n",
       "      <th>sessionsPerDay</th>\n",
       "      <th>pageviews</th>\n",
       "      <th>hits</th>\n",
       "      <th>timeOnSite</th>\n",
       "      <th>sessionQualityDim</th>\n",
       "      <th>action_type</th>\n",
       "      <th>browser</th>\n",
       "      <th>productListPosition</th>\n",
       "      <th>productClicks</th>\n",
       "      <th>v2ProductCategory</th>\n",
       "      <th>target</th>\n",
       "      <th>browser_index</th>\n",
       "      <th>action_type_index</th>\n",
       "      <th>v2ProductCategory_index</th>\n",
       "      <th>browser_vec</th>\n",
       "      <th>action_type_vec</th>\n",
       "      <th>v2ProductCategory_vec</th>\n",
       "      <th>weights</th>\n",
       "      <th>assemble_features</th>\n",
       "      <th>features</th>\n",
       "    </tr>\n",
       "  </thead>\n",
       "  <tbody>\n",
       "    <tr>\n",
       "      <th>0</th>\n",
       "      <td>1</td>\n",
       "      <td>7</td>\n",
       "      <td>8</td>\n",
       "      <td>1356</td>\n",
       "      <td>0</td>\n",
       "      <td>0</td>\n",
       "      <td>Chrome</td>\n",
       "      <td>7</td>\n",
       "      <td>0</td>\n",
       "      <td>Home/Apparel/Men's/Men's-T-Shirts/</td>\n",
       "      <td>0</td>\n",
       "      <td>0.0</td>\n",
       "      <td>0.0</td>\n",
       "      <td>1.0</td>\n",
       "      <td>(1.0, 0.0, 0.0, 0.0, 0.0, 0.0, 0.0, 0.0, 0.0, ...</td>\n",
       "      <td>(1.0, 0.0, 0.0, 0.0, 0.0, 0.0)</td>\n",
       "      <td>(0.0, 1.0, 0.0, 0.0, 0.0, 0.0, 0.0, 0.0, 0.0, ...</td>\n",
       "      <td>0.53867</td>\n",
       "      <td>(1.0, 0.0, 0.0, 0.0, 0.0, 0.0, 0.0, 0.0, 0.0, ...</td>\n",
       "      <td>(0.0, 0.0, 0.0, 0.0, 0.0, 0.0, 0.0, 0.0, 0.0, ...</td>\n",
       "    </tr>\n",
       "    <tr>\n",
       "      <th>1</th>\n",
       "      <td>1</td>\n",
       "      <td>12</td>\n",
       "      <td>18</td>\n",
       "      <td>391</td>\n",
       "      <td>0</td>\n",
       "      <td>0</td>\n",
       "      <td>Safari</td>\n",
       "      <td>10</td>\n",
       "      <td>0</td>\n",
       "      <td>Home/Bags/</td>\n",
       "      <td>0</td>\n",
       "      <td>1.0</td>\n",
       "      <td>0.0</td>\n",
       "      <td>4.0</td>\n",
       "      <td>(0.0, 1.0, 0.0, 0.0, 0.0, 0.0, 0.0, 0.0, 0.0, ...</td>\n",
       "      <td>(1.0, 0.0, 0.0, 0.0, 0.0, 0.0)</td>\n",
       "      <td>(0.0, 0.0, 0.0, 0.0, 1.0, 0.0, 0.0, 0.0, 0.0, ...</td>\n",
       "      <td>0.53867</td>\n",
       "      <td>(0.0, 1.0, 0.0, 0.0, 0.0, 0.0, 0.0, 0.0, 0.0, ...</td>\n",
       "      <td>(0.0, 0.0, 0.0, 0.0, 0.0, 0.0, 0.0, 0.0, 0.0, ...</td>\n",
       "    </tr>\n",
       "  </tbody>\n",
       "</table>\n",
       "</div>"
      ],
      "text/plain": [
       "   sessionsPerDay  pageviews  hits  timeOnSite  sessionQualityDim action_type  \\\n",
       "0               1          7     8        1356                  0           0   \n",
       "1               1         12    18         391                  0           0   \n",
       "\n",
       "  browser  productListPosition  productClicks  \\\n",
       "0  Chrome                    7              0   \n",
       "1  Safari                   10              0   \n",
       "\n",
       "                    v2ProductCategory  target  browser_index  \\\n",
       "0  Home/Apparel/Men's/Men's-T-Shirts/       0            0.0   \n",
       "1                          Home/Bags/       0            1.0   \n",
       "\n",
       "   action_type_index  v2ProductCategory_index  \\\n",
       "0                0.0                      1.0   \n",
       "1                0.0                      4.0   \n",
       "\n",
       "                                         browser_vec  \\\n",
       "0  (1.0, 0.0, 0.0, 0.0, 0.0, 0.0, 0.0, 0.0, 0.0, ...   \n",
       "1  (0.0, 1.0, 0.0, 0.0, 0.0, 0.0, 0.0, 0.0, 0.0, ...   \n",
       "\n",
       "                  action_type_vec  \\\n",
       "0  (1.0, 0.0, 0.0, 0.0, 0.0, 0.0)   \n",
       "1  (1.0, 0.0, 0.0, 0.0, 0.0, 0.0)   \n",
       "\n",
       "                               v2ProductCategory_vec  weights  \\\n",
       "0  (0.0, 1.0, 0.0, 0.0, 0.0, 0.0, 0.0, 0.0, 0.0, ...  0.53867   \n",
       "1  (0.0, 0.0, 0.0, 0.0, 1.0, 0.0, 0.0, 0.0, 0.0, ...  0.53867   \n",
       "\n",
       "                                   assemble_features  \\\n",
       "0  (1.0, 0.0, 0.0, 0.0, 0.0, 0.0, 0.0, 0.0, 0.0, ...   \n",
       "1  (0.0, 1.0, 0.0, 0.0, 0.0, 0.0, 0.0, 0.0, 0.0, ...   \n",
       "\n",
       "                                            features  \n",
       "0  (0.0, 0.0, 0.0, 0.0, 0.0, 0.0, 0.0, 0.0, 0.0, ...  \n",
       "1  (0.0, 0.0, 0.0, 0.0, 0.0, 0.0, 0.0, 0.0, 0.0, ...  "
      ]
     },
     "execution_count": 78,
     "metadata": {},
     "output_type": "execute_result"
    }
   ],
   "source": [
    "# Apply Normalisation before splitting\n",
    "from pyspark.ml.feature import RobustScaler\n",
    "\n",
    "\n",
    "scaler = RobustScaler(inputCol=\"assemble_features\", outputCol=\"features\",\n",
    "                        withScaling=True, withCentering=False,\n",
    "                        lower=0.25, upper=0.75)\n",
    "\n",
    "scaler_model = scaler.fit(output)\n",
    "\n",
    "df_scaled = scaler_model.transform(output)\n",
    "df_scaled.limit(2).toPandas()"
   ]
  },
  {
   "cell_type": "code",
   "execution_count": 79,
   "id": "d2fabebc",
   "metadata": {},
   "outputs": [],
   "source": [
    "features_label = df_scaled.withColumn(\"label\", col(\"target\"))"
   ]
  },
  {
   "cell_type": "markdown",
   "id": "6ee656bb",
   "metadata": {},
   "source": [
    "# Model Training and Validation"
   ]
  },
  {
   "cell_type": "code",
   "execution_count": 80,
   "id": "a1f99921",
   "metadata": {},
   "outputs": [
    {
     "name": "stderr",
     "output_type": "stream",
     "text": [
      "                                                                                \r"
     ]
    },
    {
     "name": "stdout",
     "output_type": "stream",
     "text": [
      "Test split: 1274588\n"
     ]
    },
    {
     "name": "stderr",
     "output_type": "stream",
     "text": [
      "[Stage 358:=============================================>           (4 + 1) / 5]\r"
     ]
    },
    {
     "name": "stdout",
     "output_type": "stream",
     "text": [
      "Train split: 2974262\n"
     ]
    },
    {
     "name": "stderr",
     "output_type": "stream",
     "text": [
      "\r",
      "                                                                                \r"
     ]
    }
   ],
   "source": [
    "# Randomly split normalized data into train and test\n",
    "\n",
    "df_model = features_label.select([\"features\", \"label\", \"weights\"])\n",
    "\n",
    "train, test = df_model.randomSplit([0.7, 0.3], 56)\n",
    "print('Test split:', test.count())\n",
    "print('Train split:', train.count())"
   ]
  },
  {
   "cell_type": "code",
   "execution_count": 81,
   "id": "31493324",
   "metadata": {},
   "outputs": [],
   "source": [
    "from pyspark.ml.evaluation import BinaryClassificationEvaluator, MulticlassClassificationEvaluator\n",
    "\n",
    "def model_evaluation(results, metric, evaluator):\n",
    "    \n",
    "    predict_label = results.select(\"prediction\", \"label\")\n",
    "\n",
    "    \n",
    "    print(metric + \": \" + str(evaluator.evaluate(predict_label)))\n",
    "    \n",
    "    return evaluator.evaluate(predict_label)"
   ]
  },
  {
   "cell_type": "code",
   "execution_count": 82,
   "id": "af05f280",
   "metadata": {},
   "outputs": [],
   "source": [
    "from pyspark.ml.classification import RandomForestClassifier, RandomForestClassificationModel\n",
    "from pyspark.ml.tuning import ParamGridBuilder, CrossValidator\n",
    "from pyspark.ml.evaluation import BinaryClassificationEvaluator"
   ]
  },
  {
   "cell_type": "code",
   "execution_count": 83,
   "id": "28e349f2",
   "metadata": {},
   "outputs": [
    {
     "name": "stderr",
     "output_type": "stream",
     "text": [
      "[Stage 393:============================>                            (2 + 2) / 4]\r"
     ]
    }
   ],
   "source": [
    "RF = RandomForestClassifier(maxDepth=10, weightCol=\"weights\")\n",
    "RFModel = RF.fit(train)"
   ]
  },
  {
   "cell_type": "code",
   "execution_count": 84,
   "id": "67d0677f",
   "metadata": {},
   "outputs": [
    {
     "name": "stderr",
     "output_type": "stream",
     "text": [
      "                                                                                \r"
     ]
    },
    {
     "data": {
      "image/png": "[encoded data removed]",
      "text/plain": [
       "<Figure size 432x288 with 1 Axes>"
      ]
     },
     "metadata": {},
     "output_type": "display_data"
    }
   ],
   "source": [
    "RF_summary = RFModel.summary\n",
    "\n",
    "RF_result = RFModel.transform(test)\n",
    "\n",
    "\n",
    "\n",
    "ROC = RF_summary.roc.toPandas()\n",
    "label = 'ROC curve (area = %.2f)'% RF_summary.areaUnderROC\n",
    "plt.plot(ROC['FPR'],ROC['TPR'], label=label)\n",
    "plt.plot([0, 1], [0, 1], 'k--')\n",
    "plt.ylabel('False Positive Rate')\n",
    "plt.xlabel('True Positive Rate')\n",
    "plt.title('ROC Curve - Random Forest Tree')\n",
    "plt.legend(loc=\"lower right\")\n",
    "plt.show()"
   ]
  },
  {
   "cell_type": "code",
   "execution_count": 85,
   "id": "79245f3e",
   "metadata": {},
   "outputs": [
    {
     "name": "stderr",
     "output_type": "stream",
     "text": [
      "                                                                                \r"
     ]
    },
    {
     "name": "stdout",
     "output_type": "stream",
     "text": [
      "areaUnderROC: 0.8216888063296757\n"
     ]
    },
    {
     "name": "stderr",
     "output_type": "stream",
     "text": [
      "                                                                                \r"
     ]
    },
    {
     "name": "stdout",
     "output_type": "stream",
     "text": [
      "accuracy: 0.7354321553317621\n"
     ]
    },
    {
     "name": "stderr",
     "output_type": "stream",
     "text": [
      "                                                                                \r"
     ]
    },
    {
     "name": "stdout",
     "output_type": "stream",
     "text": [
      "f1: 0.798967159315507\n"
     ]
    },
    {
     "name": "stderr",
     "output_type": "stream",
     "text": [
      "                                                                                \r"
     ]
    },
    {
     "name": "stdout",
     "output_type": "stream",
     "text": [
      "Precision: 0.9917461646232639\n"
     ]
    },
    {
     "name": "stderr",
     "output_type": "stream",
     "text": [
      "                                                                                \r"
     ]
    },
    {
     "name": "stdout",
     "output_type": "stream",
     "text": [
      "Recall: 0.7209741848124676\n"
     ]
    },
    {
     "name": "stderr",
     "output_type": "stream",
     "text": [
      "                                                                                \r"
     ]
    },
    {
     "data": {
      "text/plain": [
       "0.7209741848124676"
      ]
     },
     "execution_count": 85,
     "metadata": {},
     "output_type": "execute_result"
    }
   ],
   "source": [
    "auc_eval = BinaryClassificationEvaluator(metricName=\"areaUnderROC\", rawPredictionCol=\"prediction\")\n",
    "accuracy_eval = MulticlassClassificationEvaluator(metricName=\"accuracy\")\n",
    "f1_eval = MulticlassClassificationEvaluator(metricName=\"f1\")\n",
    "precision_eval = MulticlassClassificationEvaluator(metricName=\"precisionByLabel\")\n",
    "recall_eval = MulticlassClassificationEvaluator(metricName=\"recallByLabel\")\n",
    "\n",
    "\n",
    "model_evaluation(RF_result, \"areaUnderROC\",  auc_eval)\n",
    "model_evaluation(RF_result, \"accuracy\",  accuracy_eval)\n",
    "model_evaluation(RF_result, \"f1\",  f1_eval)\n",
    "model_evaluation(RF_result, \"Precision\",  precision_eval)\n",
    "model_evaluation(RF_result, \"Recall\",  recall_eval)"
   ]
  },
  {
   "cell_type": "code",
   "execution_count": 87,
   "id": "e0427be9",
   "metadata": {},
   "outputs": [],
   "source": [
    "from pyspark.ml.classification import LogisticRegression, LogisticRegressionModel\n",
    "from pyspark.ml.tuning import ParamGridBuilder, TrainValidationSplit, CrossValidator\n",
    "from pyspark.ml.evaluation import BinaryClassificationEvaluator, MulticlassClassificationEvaluator"
   ]
  },
  {
   "cell_type": "code",
   "execution_count": 88,
   "id": "f468feda",
   "metadata": {},
   "outputs": [
    {
     "name": "stderr",
     "output_type": "stream",
     "text": [
      "[Stage 484:==============>                                          (1 + 3) / 4]\r"
     ]
    }
   ],
   "source": [
    "LR = LogisticRegression(maxIter=10, regParam=0.3, elasticNetParam=0.8, weightCol=\"weights\")\n",
    "\n",
    "LR_model = LR.fit(train)"
   ]
  },
  {
   "cell_type": "code",
   "execution_count": 90,
   "id": "f7955cdb",
   "metadata": {},
   "outputs": [
    {
     "name": "stderr",
     "output_type": "stream",
     "text": [
      "                                                                                \r"
     ]
    },
    {
     "data": {
      "image/png": "[encoded data removed]",
      "text/plain": [
       "<Figure size 432x288 with 1 Axes>"
      ]
     },
     "metadata": {},
     "output_type": "display_data"
    }
   ],
   "source": [
    "# Test the model\n",
    "LR_summary = LR_model.summary\n",
    "\n",
    "LR_result = LR_model.transform(test)\n",
    "\n",
    "\n",
    "\n",
    "ROC = LR_summary.roc.toPandas()\n",
    "label = 'ROC curve (area = %.2f)'% LR_summary.areaUnderROC\n",
    "plt.plot(ROC['FPR'],ROC['TPR'], label=label)\n",
    "plt.plot([0, 1], [0, 1], 'k--')\n",
    "plt.ylabel('False Positive Rate')\n",
    "plt.xlabel('True Positive Rate')\n",
    "plt.title('ROC Curve - Random Forest Tree')\n",
    "plt.legend(loc=\"lower right\")\n",
    "plt.show()"
   ]
  },
  {
   "cell_type": "code",
   "execution_count": 91,
   "id": "d8649646",
   "metadata": {},
   "outputs": [
    {
     "name": "stderr",
     "output_type": "stream",
     "text": [
      "                                                                                \r"
     ]
    },
    {
     "name": "stdout",
     "output_type": "stream",
     "text": [
      "areaUnderROC: 0.5\n"
     ]
    },
    {
     "name": "stderr",
     "output_type": "stream",
     "text": [
      "                                                                                \r"
     ]
    },
    {
     "name": "stdout",
     "output_type": "stream",
     "text": [
      "accuracy: 0.07177691928685975\n"
     ]
    },
    {
     "name": "stderr",
     "output_type": "stream",
     "text": [
      "                                                                                \r"
     ]
    },
    {
     "name": "stdout",
     "output_type": "stream",
     "text": [
      "f1: 0.009613803114439849\n"
     ]
    },
    {
     "name": "stderr",
     "output_type": "stream",
     "text": [
      "                                                                                \r"
     ]
    },
    {
     "name": "stdout",
     "output_type": "stream",
     "text": [
      "Precision: 0.0\n"
     ]
    },
    {
     "name": "stderr",
     "output_type": "stream",
     "text": [
      "                                                                                \r"
     ]
    },
    {
     "name": "stdout",
     "output_type": "stream",
     "text": [
      "Recall: 0.0\n"
     ]
    },
    {
     "name": "stderr",
     "output_type": "stream",
     "text": [
      "                                                                                \r"
     ]
    },
    {
     "data": {
      "text/plain": [
       "0.0"
      ]
     },
     "execution_count": 91,
     "metadata": {},
     "output_type": "execute_result"
    }
   ],
   "source": [
    "auc_eval = BinaryClassificationEvaluator(metricName=\"areaUnderROC\", rawPredictionCol=\"prediction\")\n",
    "accuracy_eval = MulticlassClassificationEvaluator(metricName=\"accuracy\")\n",
    "f1_eval = MulticlassClassificationEvaluator(metricName=\"f1\")\n",
    "precision_eval = MulticlassClassificationEvaluator(metricName=\"precisionByLabel\")\n",
    "recall_eval = MulticlassClassificationEvaluator(metricName=\"recallByLabel\")\n",
    "\n",
    "\n",
    "model_evaluation(LR_result, \"areaUnderROC\",  auc_eval)\n",
    "model_evaluation(LR_result, \"accuracy\",  accuracy_eval)\n",
    "model_evaluation(LR_result, \"f1\",  f1_eval)\n",
    "model_evaluation(LR_result, \"Precision\",  precision_eval)\n",
    "model_evaluation(LR_result, \"Recall\",  recall_eval)"
   ]
  },
  {
   "cell_type": "code",
   "execution_count": null,
   "id": "d6eae265",
   "metadata": {},
   "outputs": [],
   "source": []
  }
 ],
 "metadata": {
  "kernelspec": {
   "display_name": "Python 3 (ipykernel)",
   "language": "python",
   "name": "python3"
  },
  "language_info": {
   "codemirror_mode": {
    "name": "ipython",
    "version": 3
   },
   "file_extension": ".py",
   "mimetype": "text/x-python",
   "name": "python",
   "nbconvert_exporter": "python",
   "pygments_lexer": "ipython3",
   "version": "3.9.7"
  }
 },
 "nbformat": 4,
 "nbformat_minor": 5
}
